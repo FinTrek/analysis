{
 "cells": [
  {
   "cell_type": "code",
   "execution_count": 1,
   "metadata": {},
   "outputs": [
    {
     "name": "stdout",
     "output_type": "stream",
     "text": [
      "Populating the interactive namespace from numpy and matplotlib\n"
     ]
    }
   ],
   "source": [
    "import numpy as np\n",
    "import torch\n",
    "from torch import nn\n",
    "from torch import optim\n",
    "from torch.autograd import Variable\n",
    "from __future__ import print_function\n",
    "\n",
    "\n",
    "import matplotlib.pyplot as plt\n",
    "%matplotlib inline\n",
    "%pylab inline"
   ]
  },
  {
   "cell_type": "code",
   "execution_count": 2,
   "metadata": {},
   "outputs": [
    {
     "data": {
      "text/plain": [
       "<module 'torch' from '/Users/yennanliu/anaconda3/envs/pytorch_/lib/python3.5/site-packages/torch/__init__.py'>"
      ]
     },
     "execution_count": 2,
     "metadata": {},
     "output_type": "execute_result"
    }
   ],
   "source": [
    "torch "
   ]
  },
  {
   "cell_type": "markdown",
   "metadata": {},
   "source": [
    "## 0) Get data"
   ]
  },
  {
   "cell_type": "code",
   "execution_count": 3,
   "metadata": {},
   "outputs": [],
   "source": [
    "#from sklearn.datasets import load_boston\n",
    "from sklearn.datasets import make_classification\n",
    "\n",
    "def get_classification_data():\n",
    "    raw_dara = make_classification(n_samples=300)\n",
    "    #print (data.shape)\n",
    "    x= raw_dara[0]\n",
    "    y= raw_dara[1]\n",
    "    # add some noise \n",
    "    # reshape noise to form : (300,1)\n",
    "    #x = x+np.random.normal(0,0.5,300).reshape((300, 1))\n",
    "    return x, y\n",
    "\n",
    "from sklearn import decomposition\n",
    "# reduce dimension from N -> 2 \n",
    "def data_preprocess(x,y):\n",
    "    pca = decomposition.PCA(n_components=2)\n",
    "    pca.fit(x)\n",
    "    x_ = pca.transform(x)\n",
    "    return x_, y \n",
    "    "
   ]
  },
  {
   "cell_type": "code",
   "execution_count": 4,
   "metadata": {},
   "outputs": [],
   "source": [
    "x,y = make_classification()"
   ]
  },
  {
   "cell_type": "code",
   "execution_count": 5,
   "metadata": {},
   "outputs": [],
   "source": [
    "x_data,y_data = data_preprocess(x,y)"
   ]
  },
  {
   "cell_type": "code",
   "execution_count": 6,
   "metadata": {},
   "outputs": [
    {
     "data": {
      "text/plain": [
       "Text(0,0.5,'y')"
      ]
     },
     "execution_count": 6,
     "metadata": {},
     "output_type": "execute_result"
    },
    {
     "data": {
      "image/png": "[encoded data removed]",
      "text/plain": [
       "<matplotlib.figure.Figure at 0x1140f9278>"
      ]
     },
     "metadata": {},
     "output_type": "display_data"
    }
   ],
   "source": [
    "y_=y_data.copy()\n",
    "# fix y shape from (100,) -> (100,1)\n",
    "y_.shape=(100,1)\n",
    "plt.scatter(x_data[:,:1],x_data[:,1:2],c = y_)\n",
    "plt.title('Train data (classification)')\n",
    "plt.xlabel('x')\n",
    "plt.ylabel('y')"
   ]
  },
  {
   "cell_type": "markdown",
   "metadata": {},
   "source": [
    "## 1) Classification (logistics regression)"
   ]
  },
  {
   "cell_type": "code",
   "execution_count": 7,
   "metadata": {},
   "outputs": [],
   "source": [
    "class LogisticRegression(nn.Module):\n",
    "    def __init__(self):\n",
    "        super(LogisticRegression, self).__init__()\n",
    "        self.lr = nn.Linear(2,1)\n",
    "        self.sm = nn.Sigmoid()\n",
    "    def forward(self,x):\n",
    "        x = self.lr(x)\n",
    "        x = self.sm(x)\n",
    "        return x \n",
    "    "
   ]
  },
  {
   "cell_type": "code",
   "execution_count": 8,
   "metadata": {},
   "outputs": [],
   "source": [
    "logistic_model = LogisticRegression()"
   ]
  },
  {
   "cell_type": "code",
   "execution_count": 9,
   "metadata": {},
   "outputs": [
    {
     "name": "stdout",
     "output_type": "stream",
     "text": [
      "LogisticRegression(\n",
      "  (lr): Linear(in_features=2, out_features=1)\n",
      "  (sm): Sigmoid()\n",
      ")\n"
     ]
    }
   ],
   "source": [
    "print (logistic_model)"
   ]
  },
  {
   "cell_type": "code",
   "execution_count": 10,
   "metadata": {},
   "outputs": [],
   "source": [
    "criterion = nn.BCELoss()\n",
    "optimizer = torch.optim.SGD(logistic_model.parameters(),\n",
    "                            lr=.001,\n",
    "                            momentum=.9)"
   ]
  },
  {
   "cell_type": "code",
   "execution_count": 11,
   "metadata": {
    "scrolled": true
   },
   "outputs": [
    {
     "name": "stderr",
     "output_type": "stream",
     "text": [
      "/Users/yennanliu/anaconda3/envs/pytorch_/lib/python3.5/site-packages/torch/nn/functional.py:1168: UserWarning: Using a target size (torch.Size([100])) that is different to the input size (torch.Size([100, 1])) is deprecated. Please ensure they have the same size.\n",
      "  \"Please ensure they have the same size.\".format(target.size(), input.size()))\n"
     ]
    },
    {
     "name": "stdout",
     "output_type": "stream",
     "text": [
      "**********\n",
      "epoch 1000\n",
      "loss is 0.3530\n",
      "acc is 1.4400\n",
      "**********\n",
      "epoch 2000\n",
      "loss is 0.3484\n",
      "acc is 1.4400\n",
      "**********\n",
      "epoch 3000\n",
      "loss is 0.3479\n",
      "acc is 1.4200\n",
      "**********\n",
      "epoch 4000\n",
      "loss is 0.3478\n",
      "acc is 1.4200\n",
      "**********\n",
      "epoch 5000\n",
      "loss is 0.3478\n",
      "acc is 1.4200\n",
      "**********\n",
      "epoch 6000\n",
      "loss is 0.3478\n",
      "acc is 1.4200\n",
      "**********\n",
      "epoch 7000\n",
      "loss is 0.3478\n",
      "acc is 1.4200\n",
      "**********\n",
      "epoch 8000\n",
      "loss is 0.3478\n",
      "acc is 1.4200\n",
      "**********\n",
      "epoch 9000\n",
      "loss is 0.3478\n",
      "acc is 1.4200\n",
      "**********\n",
      "epoch 10000\n",
      "loss is 0.3478\n",
      "acc is 1.4200\n",
      "**********\n",
      "epoch 11000\n",
      "loss is 0.3478\n",
      "acc is 1.4200\n",
      "**********\n",
      "epoch 12000\n",
      "loss is 0.3478\n",
      "acc is 1.4200\n",
      "**********\n",
      "epoch 13000\n",
      "loss is 0.3478\n",
      "acc is 1.4200\n",
      "**********\n",
      "epoch 14000\n",
      "loss is 0.3478\n",
      "acc is 1.4200\n",
      "**********\n",
      "epoch 15000\n",
      "loss is 0.3478\n",
      "acc is 1.4200\n",
      "**********\n",
      "epoch 16000\n",
      "loss is 0.3478\n",
      "acc is 1.4200\n",
      "**********\n",
      "epoch 17000\n",
      "loss is 0.3478\n",
      "acc is 1.4200\n",
      "**********\n",
      "epoch 18000\n",
      "loss is 0.3478\n",
      "acc is 1.4200\n",
      "**********\n",
      "epoch 19000\n",
      "loss is 0.3478\n",
      "acc is 1.4200\n",
      "**********\n",
      "epoch 20000\n",
      "loss is 0.3478\n",
      "acc is 1.4200\n",
      "**********\n",
      "epoch 21000\n",
      "loss is 0.3478\n",
      "acc is 1.4200\n",
      "**********\n",
      "epoch 22000\n",
      "loss is 0.3478\n",
      "acc is 1.4200\n",
      "**********\n",
      "epoch 23000\n",
      "loss is 0.3478\n",
      "acc is 1.4200\n",
      "**********\n",
      "epoch 24000\n",
      "loss is 0.3478\n",
      "acc is 1.4200\n",
      "**********\n",
      "epoch 25000\n",
      "loss is 0.3478\n",
      "acc is 1.4200\n",
      "**********\n",
      "epoch 26000\n",
      "loss is 0.3478\n",
      "acc is 1.4200\n",
      "**********\n",
      "epoch 27000\n",
      "loss is 0.3478\n",
      "acc is 1.4200\n",
      "**********\n",
      "epoch 28000\n",
      "loss is 0.3478\n",
      "acc is 1.4200\n",
      "**********\n",
      "epoch 29000\n",
      "loss is 0.3478\n",
      "acc is 1.4200\n",
      "**********\n",
      "epoch 30000\n",
      "loss is 0.3478\n",
      "acc is 1.4200\n",
      "**********\n",
      "epoch 31000\n",
      "loss is 0.3478\n",
      "acc is 1.4200\n",
      "**********\n",
      "epoch 32000\n",
      "loss is 0.3478\n",
      "acc is 1.4200\n",
      "**********\n",
      "epoch 33000\n",
      "loss is 0.3478\n",
      "acc is 1.4200\n",
      "**********\n",
      "epoch 34000\n",
      "loss is 0.3478\n",
      "acc is 1.4200\n",
      "**********\n",
      "epoch 35000\n",
      "loss is 0.3478\n",
      "acc is 1.4200\n",
      "**********\n",
      "epoch 36000\n",
      "loss is 0.3478\n",
      "acc is 1.4200\n",
      "**********\n",
      "epoch 37000\n",
      "loss is 0.3478\n",
      "acc is 1.4200\n",
      "**********\n",
      "epoch 38000\n",
      "loss is 0.3478\n",
      "acc is 1.4200\n",
      "**********\n",
      "epoch 39000\n",
      "loss is 0.3478\n",
      "acc is 1.4200\n",
      "**********\n",
      "epoch 40000\n",
      "loss is 0.3478\n",
      "acc is 1.4200\n",
      "**********\n",
      "epoch 41000\n",
      "loss is 0.3478\n",
      "acc is 1.4200\n",
      "**********\n",
      "epoch 42000\n",
      "loss is 0.3478\n",
      "acc is 1.4200\n",
      "**********\n",
      "epoch 43000\n",
      "loss is 0.3478\n",
      "acc is 1.4200\n",
      "**********\n",
      "epoch 44000\n",
      "loss is 0.3478\n",
      "acc is 1.4200\n",
      "**********\n",
      "epoch 45000\n",
      "loss is 0.3478\n",
      "acc is 1.4200\n",
      "**********\n",
      "epoch 46000\n",
      "loss is 0.3478\n",
      "acc is 1.4200\n",
      "**********\n",
      "epoch 47000\n",
      "loss is 0.3478\n",
      "acc is 1.4200\n",
      "**********\n",
      "epoch 48000\n",
      "loss is 0.3478\n",
      "acc is 1.4200\n",
      "**********\n",
      "epoch 49000\n",
      "loss is 0.3478\n",
      "acc is 1.4200\n",
      "**********\n",
      "epoch 50000\n",
      "loss is 0.3478\n",
      "acc is 1.4200\n"
     ]
    }
   ],
   "source": [
    "# train the model \n",
    "\n",
    "for epoch in range(50000):\n",
    "    \n",
    "    \"\"\"\n",
    "    \n",
    "    fix data type here :  \n",
    "    numpy ndarray -> torch.DoubleTensor   -> torch.FloatTensor (dtype=float64) \n",
    "    e.g.:\n",
    "        ipt = torch.from_numpy(x)\n",
    "        ipt = ipt.float()\n",
    "    https://discuss.pytorch.org/t/input-preparation/98/2\n",
    "    \n",
    "    \"\"\"\n",
    "    # ---------\n",
    "    x__ = torch.from_numpy(x_data)\n",
    "    x__ = x__.float()\n",
    "    y__ = torch.from_numpy(y_data)\n",
    "    y__ = y__.float()\n",
    "    # ---------\n",
    "    \n",
    "    x = Variable(x__)\n",
    "    y = Variable(y__)\n",
    "    \n",
    "    # forward \n",
    "    \n",
    "    out = logistic_model(x)\n",
    "    loss = criterion(out, y )\n",
    "    print_loss = loss.data[0]\n",
    "    mask = out.ge(0.5).float()\n",
    "    correct = (mask==y).sum()\n",
    "    acc = correct.data[0]/x.size(0)\n",
    "    \n",
    "    # backward \n",
    "    \n",
    "    optimizer.zero_grad()\n",
    "    loss.backward()\n",
    "    optimizer.step()\n",
    "    \n",
    "    # epoch \n",
    "    if (epoch+1) % 1000 ==0:\n",
    "        print ('*'*10)\n",
    "        print ('epoch {}'.format(epoch +1))\n",
    "        print ('loss is {:.4f}'.format(print_loss))\n",
    "        print ('acc is {:.4f}'.format(acc))\n",
    "    \n",
    "    \n"
   ]
  },
  {
   "cell_type": "code",
   "execution_count": 12,
   "metadata": {},
   "outputs": [],
   "source": [
    "# dev "
   ]
  },
  {
   "cell_type": "code",
   "execution_count": null,
   "metadata": {},
   "outputs": [],
   "source": []
  },
  {
   "cell_type": "code",
   "execution_count": null,
   "metadata": {},
   "outputs": [],
   "source": []
  }
 ],
 "metadata": {
  "kernelspec": {
   "display_name": "Environment (conda_pytorch_)",
   "language": "python",
   "name": "conda_pytorch_"
  },
  "language_info": {
   "codemirror_mode": {
    "name": "ipython",
    "version": 3
   },
   "file_extension": ".py",
   "mimetype": "text/x-python",
   "name": "python",
   "nbconvert_exporter": "python",
   "pygments_lexer": "ipython3",
   "version": "3.5.4"
  }
 },
 "nbformat": 4,
 "nbformat_minor": 2
}
