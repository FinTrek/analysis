{
 "cells": [
  {
   "cell_type": "code",
   "execution_count": 1,
   "metadata": {},
   "outputs": [
    {
     "name": "stdout",
     "output_type": "stream",
     "text": [
      "Populating the interactive namespace from numpy and matplotlib\n"
     ]
    }
   ],
   "source": [
    "import numpy as np\n",
    "import torch\n",
    "from torch import nn\n",
    "from torch import optim\n",
    "from torch.autograd import Variable\n",
    "from __future__ import print_function\n",
    "\n",
    "\n",
    "import matplotlib.pyplot as plt\n",
    "%matplotlib inline\n",
    "%pylab inline"
   ]
  },
  {
   "cell_type": "code",
   "execution_count": 2,
   "metadata": {},
   "outputs": [
    {
     "data": {
      "text/plain": [
       "<module 'torch' from '/Users/yennanliu/anaconda3/envs/pytorch_/lib/python3.5/site-packages/torch/__init__.py'>"
      ]
     },
     "execution_count": 2,
     "metadata": {},
     "output_type": "execute_result"
    }
   ],
   "source": [
    "torch "
   ]
  },
  {
   "cell_type": "markdown",
   "metadata": {},
   "source": [
    "## 0) Get data"
   ]
  },
  {
   "cell_type": "code",
   "execution_count": 3,
   "metadata": {},
   "outputs": [],
   "source": [
    "#from sklearn.datasets import load_boston\n",
    "from sklearn.datasets import make_classification\n",
    "\n",
    "def get_classification_data():\n",
    "    raw_dara = make_classification(n_samples=300)\n",
    "    #print (data.shape)\n",
    "    x= raw_dara[0]\n",
    "    y= raw_dara[1]\n",
    "    # add some noise \n",
    "    # reshape noise to form : (300,1)\n",
    "    #x = x+np.random.normal(0,0.5,300).reshape((300, 1))\n",
    "    return x, y\n",
    "\n",
    "from sklearn import decomposition\n",
    "# reduce dimension from N -> 2 \n",
    "def data_preprocess(x,y):\n",
    "    pca = decomposition.PCA(n_components=2)\n",
    "    pca.fit(x)\n",
    "    x_ = pca.transform(x)\n",
    "    return x_, y \n",
    "    "
   ]
  },
  {
   "cell_type": "code",
   "execution_count": 4,
   "metadata": {},
   "outputs": [],
   "source": [
    "x,y = make_classification()"
   ]
  },
  {
   "cell_type": "code",
   "execution_count": 5,
   "metadata": {},
   "outputs": [],
   "source": [
    "x_data,y_data = data_preprocess(x,y)"
   ]
  },
  {
   "cell_type": "code",
   "execution_count": 6,
   "metadata": {},
   "outputs": [
    {
     "data": {
      "text/plain": [
       "Text(0,0.5,'y')"
      ]
     },
     "execution_count": 6,
     "metadata": {},
     "output_type": "execute_result"
    },
    {
     "data": {
      "image/png": "[encoded data removed]",
      "text/plain": [
       "<matplotlib.figure.Figure at 0x11934b160>"
      ]
     },
     "metadata": {},
     "output_type": "display_data"
    }
   ],
   "source": [
    "y_=y_data.copy()\n",
    "# fix y shape from (100,) -> (100,1)\n",
    "y_.shape=(100,1)\n",
    "plt.scatter(x_data[:,:1],x_data[:,1:2],c = y_)\n",
    "plt.title('Train data (classification)')\n",
    "plt.xlabel('x')\n",
    "plt.ylabel('y')"
   ]
  },
  {
   "cell_type": "markdown",
   "metadata": {},
   "source": [
    "## 1) Classification (logistics regression)"
   ]
  },
  {
   "cell_type": "code",
   "execution_count": 7,
   "metadata": {},
   "outputs": [],
   "source": [
    "class LogisticRegression(nn.Module):\n",
    "    def __init__(self):\n",
    "        super(LogisticRegression, self).__init__()\n",
    "        self.lr = nn.Linear(2,1)\n",
    "        self.sm = nn.Sigmoid()\n",
    "    def forward(self,x):\n",
    "        x = self.lr(x)\n",
    "        x = self.sm(x)\n",
    "        return x \n",
    "    "
   ]
  },
  {
   "cell_type": "code",
   "execution_count": 8,
   "metadata": {},
   "outputs": [],
   "source": [
    "logistic_model = LogisticRegression()"
   ]
  },
  {
   "cell_type": "code",
   "execution_count": 9,
   "metadata": {},
   "outputs": [
    {
     "name": "stdout",
     "output_type": "stream",
     "text": [
      "LogisticRegression(\n",
      "  (lr): Linear(in_features=2, out_features=1)\n",
      "  (sm): Sigmoid()\n",
      ")\n"
     ]
    }
   ],
   "source": [
    "print (logistic_model)"
   ]
  },
  {
   "cell_type": "code",
   "execution_count": 10,
   "metadata": {},
   "outputs": [],
   "source": [
    "criterion = nn.BCELoss()\n",
    "optimizer = torch.optim.SGD(logistic_model.parameters(),\n",
    "                            lr=.001,\n",
    "                            momentum=.9)"
   ]
  },
  {
   "cell_type": "code",
   "execution_count": 11,
   "metadata": {},
   "outputs": [
    {
     "name": "stderr",
     "output_type": "stream",
     "text": [
      "/Users/yennanliu/anaconda3/envs/pytorch_/lib/python3.5/site-packages/torch/nn/functional.py:1168: UserWarning: Using a target size (torch.Size([100])) that is different to the input size (torch.Size([100, 1])) is deprecated. Please ensure they have the same size.\n",
      "  \"Please ensure they have the same size.\".format(target.size(), input.size()))\n"
     ]
    },
    {
     "name": "stdout",
     "output_type": "stream",
     "text": [
      "**********\n",
      "epoch 0.5336318016052246\n",
      "loss is 0.5336\n",
      "acc is 1.3600\n",
      "**********\n",
      "epoch 0.5327388644218445\n",
      "loss is 0.5327\n",
      "acc is 1.3400\n",
      "**********\n",
      "epoch 0.5327263474464417\n",
      "loss is 0.5327\n",
      "acc is 1.3400\n",
      "**********\n",
      "epoch 0.5327260494232178\n",
      "loss is 0.5327\n",
      "acc is 1.3400\n",
      "**********\n",
      "epoch 0.5327261090278625\n",
      "loss is 0.5327\n",
      "acc is 1.3400\n"
     ]
    }
   ],
   "source": [
    "# train the model \n",
    "\n",
    "for epoch in range(5000):\n",
    "    \n",
    "    # --------------------\n",
    "    x__ = torch.from_numpy(x_data)\n",
    "    x__ = x__.float()\n",
    "    y__ = torch.from_numpy(y_data)\n",
    "    y__ = y__.float()\n",
    "    # --------------------\n",
    "    \n",
    "    x = Variable(x__)\n",
    "    y = Variable(y__)\n",
    "    \n",
    "    # forward \n",
    "    \n",
    "    out = logistic_model(x)\n",
    "    loss = criterion(out, y )\n",
    "    print_loss = loss.data[0]\n",
    "    mask = out.ge(0.5).float()\n",
    "    correct = (mask==y).sum()\n",
    "    acc = correct.data[0]/x.size(0)\n",
    "    \n",
    "    # backward \n",
    "    \n",
    "    optimizer.zero_grad()\n",
    "    loss.backward()\n",
    "    optimizer.step()\n",
    "    \n",
    "    # \n",
    "    if (epoch+1) % 1000 ==0:\n",
    "        print ('*'*10)\n",
    "        print ('epoch {}'.format(print_loss))\n",
    "        print ('loss is {:.4f}'.format(print_loss))\n",
    "        print ('acc is {:.4f}'.format(acc))\n",
    "    \n",
    "    \n"
   ]
  },
  {
   "cell_type": "code",
   "execution_count": null,
   "metadata": {},
   "outputs": [],
   "source": []
  },
  {
   "cell_type": "code",
   "execution_count": null,
   "metadata": {},
   "outputs": [],
   "source": []
  },
  {
   "cell_type": "code",
   "execution_count": null,
   "metadata": {},
   "outputs": [],
   "source": []
  }
 ],
 "metadata": {
  "kernelspec": {
   "display_name": "Environment (conda_pytorch_)",
   "language": "python",
   "name": "conda_pytorch_"
  },
  "language_info": {
   "codemirror_mode": {
    "name": "ipython",
    "version": 3
   },
   "file_extension": ".py",
   "mimetype": "text/x-python",
   "name": "python",
   "nbconvert_exporter": "python",
   "pygments_lexer": "ipython3",
   "version": "3.5.4"
  }
 },
 "nbformat": 4,
 "nbformat_minor": 2
}
