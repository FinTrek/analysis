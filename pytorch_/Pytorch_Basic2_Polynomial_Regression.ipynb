{
 "cells": [
  {
   "cell_type": "code",
   "execution_count": 1,
   "metadata": {},
   "outputs": [
    {
     "name": "stdout",
     "output_type": "stream",
     "text": [
      "Populating the interactive namespace from numpy and matplotlib\n"
     ]
    }
   ],
   "source": [
    "import numpy as np\n",
    "import torch\n",
    "from torch import nn\n",
    "from torch import optim\n",
    "from torch.autograd import Variable\n",
    "from __future__ import print_function\n",
    "\n",
    "\n",
    "import matplotlib.pyplot as plt\n",
    "%matplotlib inline\n",
    "%pylab inline"
   ]
  },
  {
   "cell_type": "code",
   "execution_count": 2,
   "metadata": {},
   "outputs": [
    {
     "data": {
      "text/plain": [
       "<module 'torch' from '/Users/yennanliu/anaconda3/envs/pytorch_/lib/python3.5/site-packages/torch/__init__.py'>"
      ]
     },
     "execution_count": 2,
     "metadata": {},
     "output_type": "execute_result"
    }
   ],
   "source": [
    "torch"
   ]
  },
  {
   "cell_type": "markdown",
   "metadata": {},
   "source": [
    "## 0) Get data \n",
    "\n",
    "#### Fitting the equation : y=0.9+0.5*(x)+3*(x^2)+2.4(x^3)"
   ]
  },
  {
   "cell_type": "code",
   "execution_count": null,
   "metadata": {},
   "outputs": [],
   "source": []
  },
  {
   "cell_type": "markdown",
   "metadata": {},
   "source": [
    "## 1) Polynomial Regression "
   ]
  },
  {
   "cell_type": "code",
   "execution_count": 3,
   "metadata": {},
   "outputs": [],
   "source": [
    "# help function \n",
    "\n",
    "def make_features(x):\n",
    "    # build features i.e. a matrix with columns [x,x**2,x**3]\n",
    "    # unsqueeze(1) make tensor size from (3) -> (3,1)\n",
    "    x=x.unsqueeze(1)\n",
    "    return torch.cat([x**i for i in range(1,4)],1 )\n",
    "\n",
    "def f(x):\n",
    "    \"\"\"Approximated function\"\"\"\n",
    "    return x.mm(W_target) + b_target[0]\n",
    "\n",
    "def get_batch(batch_size=32):\n",
    "    \"\"\"Build a batch. i.e. (x,f(x)) \"\"\"\n",
    "    # generate random data points for training \n",
    "    random = torch.randn(batch_size)\n",
    "    x = make_features(random)\n",
    "    y = f(x)\n",
    "    return Variable(x), Variable(y)"
   ]
  },
  {
   "cell_type": "code",
   "execution_count": 4,
   "metadata": {},
   "outputs": [],
   "source": [
    "# Define the polynomial model \n",
    "\n",
    "class poly_model(nn.Module):\n",
    "    def __init__(self):\n",
    "        \"\"\"\n",
    "        http://pytorch.org/docs/master/nn.html\n",
    "        torch.nn.Linear(in_features, out_features, bias=True)\n",
    "        in_features – size of each input sample\n",
    "        out_features – size of each output sample  \n",
    "        \"\"\"\n",
    "        super(poly_model,self).__init__()\n",
    "        self.poly = nn.Linear(3,1)\n",
    "    \n",
    "    def forward(self,x):\n",
    "        out = self.poly(x)\n",
    "        return out \n"
   ]
  },
  {
   "cell_type": "code",
   "execution_count": 5,
   "metadata": {},
   "outputs": [],
   "source": [
    "#  y = Wx+b = 0.9 + 0.5*x + 3*(x^2) + 2.4*(x^3)\n",
    "# unsqueeze(1) make tensor size from (3) -> (3,1)\n",
    "W_target = torch.FloatTensor([0.5,3,2.4]).unsqueeze(1)\n",
    "b_target = torch.FloatTensor([0.9])"
   ]
  },
  {
   "cell_type": "code",
   "execution_count": 6,
   "metadata": {},
   "outputs": [],
   "source": [
    "model = poly_model()"
   ]
  },
  {
   "cell_type": "code",
   "execution_count": 7,
   "metadata": {},
   "outputs": [
    {
     "name": "stdout",
     "output_type": "stream",
     "text": [
      "poly_model(\n",
      "  (poly): Linear(in_features=3, out_features=1)\n",
      ")\n"
     ]
    }
   ],
   "source": [
    "# print the Neural Network we just built \n",
    "print (model)"
   ]
  },
  {
   "cell_type": "code",
   "execution_count": 8,
   "metadata": {},
   "outputs": [],
   "source": [
    "# define cost function and optimization function \n",
    "\n",
    "# loss function : mean square loss \n",
    "criterion = nn.MSELoss()\n",
    "# optimize function : \n",
    "# optimize Neural Network  parameter via Stochastic gradient descent\n",
    "# set learning rate = .001 (lr=1e-3)\n",
    "optimizer = optim.SGD(model.parameters(), lr=1e-3)"
   ]
  },
  {
   "cell_type": "code",
   "execution_count": 9,
   "metadata": {
    "scrolled": false
   },
   "outputs": [
    {
     "name": "stdout",
     "output_type": "stream",
     "text": [
      "epoch : 100, loss : 7.026429\n",
      "epoch : 200, loss : 1.643543\n",
      "epoch : 300, loss : 0.272704\n",
      "epoch : 400, loss : 0.099960\n",
      "epoch : 500, loss : 0.029649\n",
      "epoch : 600, loss : 0.030038\n",
      "epoch : 700, loss : 0.006287\n",
      "epoch : 800, loss : 0.004551\n",
      "epoch : 900, loss : 0.003234\n",
      "epoch : 1000, loss : 0.002420\n",
      "epoch : 1100, loss : 0.002180\n",
      "epoch : 1200, loss : 0.002181\n",
      "epoch : 1300, loss : 0.002196\n",
      "epoch : 1400, loss : 0.001992\n"
     ]
    }
   ],
   "source": [
    "# Train the polynomial model \n",
    "\n",
    "epoch = 0 \n",
    "while True:\n",
    "    # get data \n",
    "    batch_x, batch_y =  get_batch()\n",
    "    \n",
    "    # forward \n",
    "    output = model(batch_x)\n",
    "    loss = criterion(output,batch_y)\n",
    "    # predicted y is in the data[0] location \n",
    "    print_loss = loss.data[0]\n",
    "    \n",
    "    # backward\n",
    "    # Reset gradients \n",
    "    optimizer.zero_grad()\n",
    "    loss.backward()\n",
    "    \n",
    "    # update parameters \n",
    "    optimizer.step()\n",
    "    \n",
    "    epoch += 1\n",
    "    if (epoch+1)%100 ==0:\n",
    "        print ('epoch : {}, loss : {:.6f}'\n",
    "               .format(epoch+1, loss.data[0] ))\n",
    "    # train until the loss < 0.001 \n",
    "    if print_loss < .001:\n",
    "        break \n",
    "    "
   ]
  },
  {
   "cell_type": "code",
   "execution_count": 10,
   "metadata": {},
   "outputs": [
    {
     "data": {
      "text/plain": [
       "0.0009515003766864538"
      ]
     },
     "execution_count": 10,
     "metadata": {},
     "output_type": "execute_result"
    }
   ],
   "source": [
    "print_loss"
   ]
  },
  {
   "cell_type": "code",
   "execution_count": null,
   "metadata": {},
   "outputs": [],
   "source": []
  },
  {
   "cell_type": "code",
   "execution_count": null,
   "metadata": {},
   "outputs": [],
   "source": []
  },
  {
   "cell_type": "code",
   "execution_count": null,
   "metadata": {},
   "outputs": [],
   "source": []
  },
  {
   "cell_type": "code",
   "execution_count": null,
   "metadata": {},
   "outputs": [],
   "source": []
  },
  {
   "cell_type": "code",
   "execution_count": null,
   "metadata": {},
   "outputs": [],
   "source": []
  },
  {
   "cell_type": "code",
   "execution_count": null,
   "metadata": {},
   "outputs": [],
   "source": []
  }
 ],
 "metadata": {
  "kernelspec": {
   "display_name": "Environment (conda_pytorch_)",
   "language": "python",
   "name": "conda_pytorch_"
  },
  "language_info": {
   "codemirror_mode": {
    "name": "ipython",
    "version": 3
   },
   "file_extension": ".py",
   "mimetype": "text/x-python",
   "name": "python",
   "nbconvert_exporter": "python",
   "pygments_lexer": "ipython3",
   "version": "3.5.4"
  }
 },
 "nbformat": 4,
 "nbformat_minor": 2
}
