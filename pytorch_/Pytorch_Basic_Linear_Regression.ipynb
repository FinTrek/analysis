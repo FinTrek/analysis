{
 "cells": [
  {
   "cell_type": "code",
   "execution_count": 1,
   "metadata": {},
   "outputs": [
    {
     "name": "stdout",
     "output_type": "stream",
     "text": [
      "Populating the interactive namespace from numpy and matplotlib\n"
     ]
    }
   ],
   "source": [
    "import numpy as np\n",
    "import torch\n",
    "from __future__ import print_function\n",
    "\n",
    "\n",
    "import matplotlib.pyplot as plt\n",
    "%matplotlib inline\n",
    "%pylab inline"
   ]
  },
  {
   "cell_type": "code",
   "execution_count": 2,
   "metadata": {},
   "outputs": [
    {
     "data": {
      "text/plain": [
       "<module 'torch' from '/Users/yennanliu/anaconda3/envs/pytorch_/lib/python3.5/site-packages/torch/__init__.py'>"
      ]
     },
     "execution_count": 2,
     "metadata": {},
     "output_type": "execute_result"
    }
   ],
   "source": [
    "torch"
   ]
  },
  {
   "cell_type": "markdown",
   "metadata": {},
   "source": [
    "## 0) Get data "
   ]
  },
  {
   "cell_type": "code",
   "execution_count": 3,
   "metadata": {},
   "outputs": [],
   "source": [
    "#from sklearn.datasets import load_boston\n",
    "from sklearn.datasets import make_regression\n",
    "\n",
    "def get_1D_data():\n",
    "    data = make_regression(n_samples=300, n_features=1)\n",
    "    #print (data.shape)\n",
    "    x= data[0]\n",
    "    y= data[1]\n",
    "    # add some noise \n",
    "    # reshape noise to form : (300,1)\n",
    "    x = x+np.random.normal(0,0.5,300).reshape((300, 1))\n",
    "    return x, y\n",
    "    "
   ]
  },
  {
   "cell_type": "code",
   "execution_count": 4,
   "metadata": {},
   "outputs": [],
   "source": [
    "x,y = get_1D_data()"
   ]
  },
  {
   "cell_type": "code",
   "execution_count": 5,
   "metadata": {},
   "outputs": [
    {
     "data": {
      "text/plain": [
       "Text(0,0.5,'y')"
      ]
     },
     "execution_count": 5,
     "metadata": {},
     "output_type": "execute_result"
    },
    {
     "data": {
      "image/png": "[encoded data removed]",
      "text/plain": [
       "<matplotlib.figure.Figure at 0x114e9db70>"
      ]
     },
     "metadata": {},
     "output_type": "display_data"
    }
   ],
   "source": [
    "plt.scatter(x,y)\n",
    "plt.title('Train Data')\n",
    "plt.xlabel('x')\n",
    "plt.ylabel('y')"
   ]
  },
  {
   "cell_type": "markdown",
   "metadata": {},
   "source": [
    "## 1) 1-D Linear Regression "
   ]
  },
  {
   "cell_type": "code",
   "execution_count": 6,
   "metadata": {},
   "outputs": [],
   "source": [
    "# make data to variable -> for forward and back propagation\n",
    "\n",
    "# the pytorch expect the data with form : float tensor \n",
    "# so have to transform numpy dtype=float64 ->  torch.FloatTensor \n",
    "# https://discuss.pytorch.org/t/input-preparation/98/2\n",
    "x_train = torch.from_numpy(x).float()\n",
    "y_train = torch.from_numpy(y).float()\n"
   ]
  },
  {
   "cell_type": "code",
   "execution_count": 7,
   "metadata": {},
   "outputs": [
    {
     "name": "stdout",
     "output_type": "stream",
     "text": [
      "<class 'numpy.ndarray'>\n",
      "<class 'torch.FloatTensor'>\n"
     ]
    }
   ],
   "source": [
    "print (type(x))\n",
    "print (type(x_train))"
   ]
  },
  {
   "cell_type": "code",
   "execution_count": 8,
   "metadata": {},
   "outputs": [],
   "source": [
    "from torch import nn\n",
    "from torch import optim\n",
    "from torch.autograd import Variable\n",
    "\n",
    "\n",
    "# help function that run 1D linear regression via pytorch \n",
    "\n",
    "class linear_regression(nn.Module):\n",
    "    def __init__(self):\n",
    "        ### todo : add super comment \n",
    "        super(linear_regression,self).__init__()\n",
    "        # set input and and outout as 1 dimension \n",
    "        self.linear = nn.Linear(1,1)\n",
    "    def forward(self,x):\n",
    "        out = self.linear(x)\n",
    "        return out "
   ]
  },
  {
   "cell_type": "code",
   "execution_count": 9,
   "metadata": {},
   "outputs": [],
   "source": [
    "model = linear_regression()"
   ]
  },
  {
   "cell_type": "code",
   "execution_count": 10,
   "metadata": {},
   "outputs": [],
   "source": [
    "# define cost function and optimization function \n",
    "criterion = nn.MSELoss()\n",
    "optimizer = optim.SGD(model.parameters(), lr=1e-3)"
   ]
  },
  {
   "cell_type": "code",
   "execution_count": 11,
   "metadata": {
    "scrolled": true
   },
   "outputs": [
    {
     "name": "stdout",
     "output_type": "stream",
     "text": [
      "epoch : 20/1000, loss : 3496.810791\n",
      "epoch : 40/1000, loss : 3261.482178\n",
      "epoch : 60/1000, loss : 3045.931641\n",
      "epoch : 80/1000, loss : 2848.492188\n",
      "epoch : 100/1000, loss : 2667.642822\n",
      "epoch : 120/1000, loss : 2501.992432\n",
      "epoch : 140/1000, loss : 2350.257080\n",
      "epoch : 160/1000, loss : 2211.271973\n",
      "epoch : 180/1000, loss : 2083.963379\n",
      "epoch : 200/1000, loss : 1967.352905\n",
      "epoch : 220/1000, loss : 1860.537109\n",
      "epoch : 240/1000, loss : 1762.696289\n",
      "epoch : 260/1000, loss : 1673.073975\n",
      "epoch : 280/1000, loss : 1590.980835\n",
      "epoch : 300/1000, loss : 1515.784790\n",
      "epoch : 320/1000, loss : 1446.904907\n",
      "epoch : 340/1000, loss : 1383.811646\n",
      "epoch : 360/1000, loss : 1326.016968\n",
      "epoch : 380/1000, loss : 1273.077393\n",
      "epoch : 400/1000, loss : 1224.583984\n",
      "epoch : 420/1000, loss : 1180.164429\n",
      "epoch : 440/1000, loss : 1139.475464\n",
      "epoch : 460/1000, loss : 1102.203369\n",
      "epoch : 480/1000, loss : 1068.060913\n",
      "epoch : 500/1000, loss : 1036.787476\n",
      "epoch : 520/1000, loss : 1008.138428\n",
      "epoch : 540/1000, loss : 981.895813\n",
      "epoch : 560/1000, loss : 957.856689\n",
      "epoch : 580/1000, loss : 935.837524\n",
      "epoch : 600/1000, loss : 915.665833\n",
      "epoch : 620/1000, loss : 897.188416\n",
      "epoch : 640/1000, loss : 880.261475\n",
      "epoch : 660/1000, loss : 864.756897\n",
      "epoch : 680/1000, loss : 850.553772\n",
      "epoch : 700/1000, loss : 837.542786\n",
      "epoch : 720/1000, loss : 825.624451\n",
      "epoch : 740/1000, loss : 814.706848\n",
      "epoch : 760/1000, loss : 804.705078\n",
      "epoch : 780/1000, loss : 795.543945\n",
      "epoch : 800/1000, loss : 787.150757\n",
      "epoch : 820/1000, loss : 779.461853\n",
      "epoch : 840/1000, loss : 772.418762\n",
      "epoch : 860/1000, loss : 765.967041\n",
      "epoch : 880/1000, loss : 760.056274\n",
      "epoch : 900/1000, loss : 754.642334\n",
      "epoch : 920/1000, loss : 749.682434\n",
      "epoch : 940/1000, loss : 745.138489\n",
      "epoch : 960/1000, loss : 740.976135\n",
      "epoch : 980/1000, loss : 737.163086\n",
      "epoch : 1000/1000, loss : 733.669861\n"
     ]
    }
   ],
   "source": [
    "# train the model \n",
    "\n",
    "epochs = 1000\n",
    "for epoch in range(epochs):\n",
    "    ### transform pytorch tensor to Variable\n",
    "    ### to make it can be implemented derivation operation automatically :\n",
    "    ### forth and back preparation \n",
    "    inputs = Variable(x_train)\n",
    "    target = Variable(y_train)\n",
    "\n",
    "    # forward \n",
    "    out = model(inputs)\n",
    "    loss = criterion(out,target)\n",
    "\n",
    "    # backward \n",
    "    ### HAVE TO ZERO gradient EVERY TIME before doing back propagation\n",
    "    #    \n",
    "    optimizer.zero_grad()\n",
    "    loss.backward()\n",
    "    optimizer.step()\n",
    "\n",
    "    if (epoch+1)%20 ==0:\n",
    "        print ('epoch : {}/{}, loss : {:.6f}'\n",
    "               .format(epoch+1,epochs, loss.data[0] ))\n"
   ]
  },
  {
   "cell_type": "code",
   "execution_count": 12,
   "metadata": {},
   "outputs": [
    {
     "data": {
      "image/png": "[encoded data removed]",
      "text/plain": [
       "<matplotlib.figure.Figure at 0x114e91630>"
      ]
     },
     "metadata": {},
     "output_type": "display_data"
    }
   ],
   "source": [
    "model.eval()\n",
    "predict = model(Variable(x_train))\n",
    "predict =predict.data.numpy()\n",
    "plt.plot(x_train.numpy(),y_train.numpy(),'ro', label='original data')\n",
    "plt.plot(x_train.numpy(),predict, label='fitting line')\n",
    "plt.title('1-D Linear Regression via Pytorh ')\n",
    "plt.xlabel('x')\n",
    "plt.ylabel('y')\n",
    "plt.legend()\n",
    "plt.show()"
   ]
  },
  {
   "cell_type": "code",
   "execution_count": 13,
   "metadata": {},
   "outputs": [],
   "source": [
    "#target"
   ]
  },
  {
   "cell_type": "code",
   "execution_count": null,
   "metadata": {},
   "outputs": [],
   "source": []
  },
  {
   "cell_type": "markdown",
   "metadata": {},
   "source": [
    "## 2) N-D Linear Regression "
   ]
  }
 ],
 "metadata": {
  "kernelspec": {
   "display_name": "Environment (conda_pytorch_)",
   "language": "python",
   "name": "conda_pytorch_"
  },
  "language_info": {
   "codemirror_mode": {
    "name": "ipython",
    "version": 3
   },
   "file_extension": ".py",
   "mimetype": "text/x-python",
   "name": "python",
   "nbconvert_exporter": "python",
   "pygments_lexer": "ipython3",
   "version": "3.5.4"
  }
 },
 "nbformat": 4,
 "nbformat_minor": 2
}
