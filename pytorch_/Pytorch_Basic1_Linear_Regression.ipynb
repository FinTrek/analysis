{
 "cells": [
  {
   "cell_type": "code",
   "execution_count": 1,
   "metadata": {},
   "outputs": [
    {
     "name": "stdout",
     "output_type": "stream",
     "text": [
      "Populating the interactive namespace from numpy and matplotlib\n"
     ]
    }
   ],
   "source": [
    "import numpy as np\n",
    "import torch\n",
    "from __future__ import print_function\n",
    "\n",
    "\n",
    "import matplotlib.pyplot as plt\n",
    "%matplotlib inline\n",
    "%pylab inline"
   ]
  },
  {
   "cell_type": "code",
   "execution_count": 2,
   "metadata": {},
   "outputs": [
    {
     "data": {
      "text/plain": [
       "<module 'torch' from '/Users/yennanliu/anaconda3/envs/pytorch_/lib/python3.5/site-packages/torch/__init__.py'>"
      ]
     },
     "execution_count": 2,
     "metadata": {},
     "output_type": "execute_result"
    }
   ],
   "source": [
    "torch"
   ]
  },
  {
   "cell_type": "markdown",
   "metadata": {},
   "source": [
    "## 0) Get data "
   ]
  },
  {
   "cell_type": "code",
   "execution_count": 3,
   "metadata": {},
   "outputs": [],
   "source": [
    "#from sklearn.datasets import load_boston\n",
    "from sklearn.datasets import make_regression\n",
    "\n",
    "def get_1D_data():\n",
    "    data = make_regression(n_samples=300, n_features=1)\n",
    "    #print (data.shape)\n",
    "    x= data[0]\n",
    "    y= data[1]\n",
    "    # add some noise \n",
    "    # reshape noise to form : (300,1)\n",
    "    x = x+np.random.normal(0,0.5,300).reshape((300, 1))\n",
    "    return x, y\n",
    "    "
   ]
  },
  {
   "cell_type": "code",
   "execution_count": 4,
   "metadata": {},
   "outputs": [],
   "source": [
    "x,y = get_1D_data()"
   ]
  },
  {
   "cell_type": "code",
   "execution_count": 5,
   "metadata": {},
   "outputs": [
    {
     "data": {
      "text/plain": [
       "Text(0,0.5,'y')"
      ]
     },
     "execution_count": 5,
     "metadata": {},
     "output_type": "execute_result"
    },
    {
     "data": {
      "image/png": "[encoded data removed]",
      "text/plain": [
       "<matplotlib.figure.Figure at 0x10d7fb4a8>"
      ]
     },
     "metadata": {},
     "output_type": "display_data"
    }
   ],
   "source": [
    "plt.scatter(x,y)\n",
    "plt.title('Train Data')\n",
    "plt.xlabel('x')\n",
    "plt.ylabel('y')"
   ]
  },
  {
   "cell_type": "markdown",
   "metadata": {},
   "source": [
    "## 1) 1-D Linear Regression "
   ]
  },
  {
   "cell_type": "code",
   "execution_count": 6,
   "metadata": {},
   "outputs": [],
   "source": [
    "# make data to variable -> for forward and back propagation\n",
    "\n",
    "# the pytorch expect the data with form : float tensor \n",
    "# so have to transform numpy dtype=float64 ->  torch.FloatTensor \n",
    "# https://discuss.pytorch.org/t/input-preparation/98/2\n",
    "x_train = torch.from_numpy(x).float()\n",
    "y_train = torch.from_numpy(y).float()\n"
   ]
  },
  {
   "cell_type": "code",
   "execution_count": 7,
   "metadata": {},
   "outputs": [
    {
     "name": "stdout",
     "output_type": "stream",
     "text": [
      "<class 'numpy.ndarray'>\n",
      "<class 'torch.FloatTensor'>\n"
     ]
    }
   ],
   "source": [
    "print (type(x))\n",
    "print (type(x_train))"
   ]
  },
  {
   "cell_type": "code",
   "execution_count": 8,
   "metadata": {},
   "outputs": [],
   "source": [
    "from torch import nn\n",
    "from torch import optim\n",
    "from torch.autograd import Variable\n",
    "\n",
    "\n",
    "# help function that run 1D linear regression via pytorch \n",
    "\n",
    "class linear_regression(nn.Module):\n",
    "    def __init__(self):\n",
    "        ### todo : add super comment \n",
    "        super(linear_regression,self).__init__()\n",
    "        # set input and and outout as 1 dimension \n",
    "        # y= wx+b \n",
    "        self.linear = nn.Linear(1,1)\n",
    "    def forward(self,x):\n",
    "        out = self.linear(x)\n",
    "        #print (out)\n",
    "        return out "
   ]
  },
  {
   "cell_type": "code",
   "execution_count": 9,
   "metadata": {},
   "outputs": [],
   "source": [
    "model = linear_regression()"
   ]
  },
  {
   "cell_type": "code",
   "execution_count": 10,
   "metadata": {},
   "outputs": [
    {
     "name": "stdout",
     "output_type": "stream",
     "text": [
      "linear_regression(\n",
      "  (linear): Linear(in_features=1, out_features=1)\n",
      ")\n"
     ]
    }
   ],
   "source": [
    "# print the Neural Network  we just built \n",
    "print (model)"
   ]
  },
  {
   "cell_type": "code",
   "execution_count": 11,
   "metadata": {},
   "outputs": [],
   "source": [
    "# define cost function and optimization function \n",
    "\n",
    "# loss function : mean square loss \n",
    "criterion = nn.MSELoss()\n",
    "# optimize function : \n",
    "# optimize Neural Network  parameter via Stochastic gradient descent\n",
    "# set learning rate = .001 (lr=1e-3)\n",
    "optimizer = optim.SGD(model.parameters(), lr=1e-3)"
   ]
  },
  {
   "cell_type": "code",
   "execution_count": 12,
   "metadata": {
    "scrolled": true
   },
   "outputs": [
    {
     "name": "stdout",
     "output_type": "stream",
     "text": [
      "epoch : 20/1000, loss : 5313.378906\n",
      "epoch : 40/1000, loss : 4989.409668\n",
      "epoch : 60/1000, loss : 4692.531738\n",
      "epoch : 80/1000, loss : 4420.473633\n",
      "epoch : 100/1000, loss : 4171.165527\n",
      "epoch : 120/1000, loss : 3942.695068\n",
      "epoch : 140/1000, loss : 3733.326172\n",
      "epoch : 160/1000, loss : 3541.460449\n",
      "epoch : 180/1000, loss : 3365.632080\n",
      "epoch : 200/1000, loss : 3204.500732\n",
      "epoch : 220/1000, loss : 3056.834717\n",
      "epoch : 240/1000, loss : 2921.510742\n",
      "epoch : 260/1000, loss : 2797.495850\n",
      "epoch : 280/1000, loss : 2683.845947\n",
      "epoch : 300/1000, loss : 2579.688965\n",
      "epoch : 320/1000, loss : 2484.236816\n",
      "epoch : 340/1000, loss : 2396.759766\n",
      "epoch : 360/1000, loss : 2316.589111\n",
      "epoch : 380/1000, loss : 2243.118652\n",
      "epoch : 400/1000, loss : 2175.785156\n",
      "epoch : 420/1000, loss : 2114.073242\n",
      "epoch : 440/1000, loss : 2057.518799\n",
      "epoch : 460/1000, loss : 2005.685791\n",
      "epoch : 480/1000, loss : 1958.181641\n",
      "epoch : 500/1000, loss : 1914.645874\n",
      "epoch : 520/1000, loss : 1874.744019\n",
      "epoch : 540/1000, loss : 1838.175659\n",
      "epoch : 560/1000, loss : 1804.658936\n",
      "epoch : 580/1000, loss : 1773.941040\n",
      "epoch : 600/1000, loss : 1745.787354\n",
      "epoch : 620/1000, loss : 1719.983398\n",
      "epoch : 640/1000, loss : 1696.334229\n",
      "epoch : 660/1000, loss : 1674.658691\n",
      "epoch : 680/1000, loss : 1654.792236\n",
      "epoch : 700/1000, loss : 1636.583618\n",
      "epoch : 720/1000, loss : 1619.894043\n",
      "epoch : 740/1000, loss : 1604.597534\n",
      "epoch : 760/1000, loss : 1590.576538\n",
      "epoch : 780/1000, loss : 1577.725464\n",
      "epoch : 800/1000, loss : 1565.946899\n",
      "epoch : 820/1000, loss : 1555.151123\n",
      "epoch : 840/1000, loss : 1545.255249\n",
      "epoch : 860/1000, loss : 1536.185303\n",
      "epoch : 880/1000, loss : 1527.871094\n",
      "epoch : 900/1000, loss : 1520.251221\n",
      "epoch : 920/1000, loss : 1513.266479\n",
      "epoch : 940/1000, loss : 1506.864014\n",
      "epoch : 960/1000, loss : 1500.995361\n",
      "epoch : 980/1000, loss : 1495.615479\n",
      "epoch : 1000/1000, loss : 1490.684570\n"
     ]
    }
   ],
   "source": [
    "# train the model \n",
    "\n",
    "epochs = 1000\n",
    "for epoch in range(epochs):\n",
    "    ### transform pytorch tensor to Variable\n",
    "    ### to make it can be implemented derivation operation automatically :\n",
    "    ### forth and back preparation \n",
    "    inputs = Variable(x_train)\n",
    "    target = Variable(y_train)\n",
    "\n",
    "    # forward \n",
    "    out = model(inputs)\n",
    "    loss = criterion(out,target)\n",
    "\n",
    "    # backward \n",
    "    ### HAVE TO ZERO gradient EVERY TIME before doing back propagation\n",
    "    #    \n",
    "    optimizer.zero_grad()\n",
    "    loss.backward()\n",
    "    optimizer.step()\n",
    "\n",
    "    if (epoch+1)%20 ==0:\n",
    "        print ('epoch : {}/{}, loss : {:.6f}'\n",
    "               .format(epoch+1,epochs, loss.data[0] ))\n"
   ]
  },
  {
   "cell_type": "code",
   "execution_count": 13,
   "metadata": {},
   "outputs": [
    {
     "data": {
      "image/png": "[encoded data removed]",
      "text/plain": [
       "<matplotlib.figure.Figure at 0x10f994b70>"
      ]
     },
     "metadata": {},
     "output_type": "display_data"
    }
   ],
   "source": [
    "model.eval()\n",
    "predict = model(Variable(x_train))\n",
    "predict =predict.data.numpy()\n",
    "plt.plot(x_train.numpy(),y_train.numpy(),'ro', label='original data')\n",
    "plt.plot(x_train.numpy(),predict, label='fitting line')\n",
    "plt.title('1-D Linear Regression via Pytorh ')\n",
    "plt.xlabel('x')\n",
    "plt.ylabel('y')\n",
    "plt.legend()\n",
    "plt.show()"
   ]
  },
  {
   "cell_type": "code",
   "execution_count": 14,
   "metadata": {},
   "outputs": [],
   "source": [
    "#target"
   ]
  },
  {
   "cell_type": "code",
   "execution_count": null,
   "metadata": {},
   "outputs": [],
   "source": []
  },
  {
   "cell_type": "markdown",
   "metadata": {},
   "source": [
    "## 2) N-D Linear Regression "
   ]
  }
 ],
 "metadata": {
  "kernelspec": {
   "display_name": "Environment (conda_pytorch_)",
   "language": "python",
   "name": "conda_pytorch_"
  },
  "language_info": {
   "codemirror_mode": {
    "name": "ipython",
    "version": 3
   },
   "file_extension": ".py",
   "mimetype": "text/x-python",
   "name": "python",
   "nbconvert_exporter": "python",
   "pygments_lexer": "ipython3",
   "version": "3.5.4"
  }
 },
 "nbformat": 4,
 "nbformat_minor": 2
}
