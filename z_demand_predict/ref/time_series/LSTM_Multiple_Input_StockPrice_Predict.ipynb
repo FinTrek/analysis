{
 "cells": [
  {
   "cell_type": "markdown",
   "metadata": {},
   "source": [
    "### Ref \n",
    "- https://stackoverflow.com/questions/42532386/how-to-work-with-multiple-inputs-for-lstm-in-keras"
   ]
  },
  {
   "cell_type": "code",
   "execution_count": 1,
   "metadata": {},
   "outputs": [
    {
     "name": "stderr",
     "output_type": "stream",
     "text": [
      "Using TensorFlow backend.\n",
      "/Users/yennanliu/anaconda3/envs/ds_dash/lib/python3.5/importlib/_bootstrap.py:222: RuntimeWarning: compiletime version 3.6 of module 'tensorflow.python.framework.fast_tensor_util' does not match runtime version 3.5\n",
      "  return f(*args, **kwds)\n"
     ]
    }
   ],
   "source": [
    "import numpy\n",
    "import matplotlib.pyplot as plt\n",
    "import pandas\n",
    "import math\n",
    "\n",
    "from keras.models import Sequential\n",
    "from keras.layers import Dense, LSTM, Dropout\n",
    "from sklearn.preprocessing import MinMaxScaler\n",
    "from sklearn.metrics import mean_squared_error\n"
   ]
  },
  {
   "cell_type": "code",
   "execution_count": 50,
   "metadata": {},
   "outputs": [],
   "source": [
    "# help function \n",
    "\n",
    "def create_dataset(dataset, look_back=1):\n",
    "    dataX, dataY = [], []\n",
    "    for i in range(len(dataset) - look_back - 1):\n",
    "        #a = dataset[i:(i + look_back), 0]\n",
    "        a = dataset[i:(i + look_back), :]\n",
    "        dataX.append(a)\n",
    "        #### get the target predict col #### \n",
    "        dataY.append(dataset[i + look_back, 4])\n",
    "    return numpy.array(dataX), numpy.array(dataY)\n"
   ]
  },
  {
   "cell_type": "code",
   "execution_count": 8,
   "metadata": {},
   "outputs": [],
   "source": [
    "# -------------------  #"
   ]
  },
  {
   "cell_type": "code",
   "execution_count": 67,
   "metadata": {},
   "outputs": [],
   "source": [
    "# load the dataset\n",
    "dataframe = pandas.read_csv('table.csv', engine='python') \n",
    "dataset = dataframe.values\n"
   ]
  },
  {
   "cell_type": "code",
   "execution_count": 68,
   "metadata": {},
   "outputs": [
    {
     "data": {
      "text/plain": [
       "Index(['Date', 'Open', 'High', 'Low', 'Close', 'Volume', 'Adj Close'], dtype='object')"
      ]
     },
     "execution_count": 68,
     "metadata": {},
     "output_type": "execute_result"
    }
   ],
   "source": [
    "dataframe.columns"
   ]
  },
  {
   "cell_type": "code",
   "execution_count": 69,
   "metadata": {},
   "outputs": [],
   "source": [
    "cols = ['Open', 'High', 'Low','Volume', 'Close']"
   ]
  },
  {
   "cell_type": "code",
   "execution_count": 70,
   "metadata": {},
   "outputs": [],
   "source": [
    "dataframe_ = dataframe[cols]"
   ]
  },
  {
   "cell_type": "code",
   "execution_count": 72,
   "metadata": {},
   "outputs": [
    {
     "data": {
      "text/html": [
       "<div>\n",
       "<style scoped>\n",
       "    .dataframe tbody tr th:only-of-type {\n",
       "        vertical-align: middle;\n",
       "    }\n",
       "\n",
       "    .dataframe tbody tr th {\n",
       "        vertical-align: top;\n",
       "    }\n",
       "\n",
       "    .dataframe thead th {\n",
       "        text-align: right;\n",
       "    }\n",
       "</style>\n",
       "<table border=\"1\" class=\"dataframe\">\n",
       "  <thead>\n",
       "    <tr style=\"text-align: right;\">\n",
       "      <th></th>\n",
       "      <th>Open</th>\n",
       "      <th>High</th>\n",
       "      <th>Low</th>\n",
       "      <th>Volume</th>\n",
       "      <th>Close</th>\n",
       "    </tr>\n",
       "  </thead>\n",
       "  <tbody>\n",
       "    <tr>\n",
       "      <th>0</th>\n",
       "      <td>2052.229980</td>\n",
       "      <td>2055.580078</td>\n",
       "      <td>2047.260010</td>\n",
       "      <td>3055480000</td>\n",
       "      <td>2048.040039</td>\n",
       "    </tr>\n",
       "    <tr>\n",
       "      <th>1</th>\n",
       "      <td>2041.880005</td>\n",
       "      <td>2058.350098</td>\n",
       "      <td>2041.880005</td>\n",
       "      <td>3507650000</td>\n",
       "      <td>2052.320068</td>\n",
       "    </tr>\n",
       "    <tr>\n",
       "      <th>2</th>\n",
       "      <td>2044.209961</td>\n",
       "      <td>2044.209961</td>\n",
       "      <td>2025.910034</td>\n",
       "      <td>3846770000</td>\n",
       "      <td>2040.040039</td>\n",
       "    </tr>\n",
       "  </tbody>\n",
       "</table>\n",
       "</div>"
      ],
      "text/plain": [
       "          Open         High          Low      Volume        Close\n",
       "0  2052.229980  2055.580078  2047.260010  3055480000  2048.040039\n",
       "1  2041.880005  2058.350098  2041.880005  3507650000  2052.320068\n",
       "2  2044.209961  2044.209961  2025.910034  3846770000  2040.040039"
      ]
     },
     "execution_count": 72,
     "metadata": {},
     "output_type": "execute_result"
    }
   ],
   "source": [
    "dataframe_.head(3)"
   ]
  },
  {
   "cell_type": "code",
   "execution_count": 73,
   "metadata": {},
   "outputs": [],
   "source": [
    "# -------------------  #"
   ]
  },
  {
   "cell_type": "code",
   "execution_count": 78,
   "metadata": {},
   "outputs": [],
   "source": [
    "\n",
    "\n",
    "# load the dataset\n",
    "#dataframe = pandas.read_csv('datos.csv', engine='python') \n",
    "dataset = dataframe_.values\n",
    "\n",
    "# normalize the dataset\n",
    "scaler = MinMaxScaler(feature_range=(0, 1))\n",
    "dataset = scaler.fit_transform(dataset)\n",
    "\n",
    "# split into train and test sets\n",
    "train_size = int(len(dataset) * 0.67) \n",
    "test_size = len(dataset) - train_size\n",
    "train, test = dataset[0:train_size, :], dataset[train_size:len(dataset), :]\n",
    "\n",
    "# reshape into X=t and Y=t+1\n",
    "look_back = 3\n",
    "trainX, trainY = create_dataset(train, look_back)  \n",
    "testX, testY = create_dataset(test, look_back)"
   ]
  },
  {
   "cell_type": "code",
   "execution_count": 79,
   "metadata": {},
   "outputs": [],
   "source": [
    "# reshape input to be  [samples, time steps, features]\n",
    "###  need to modify here :\n",
    "### 3 -> 5 \n",
    "### numpy.reshape(trainX, (trainX.shape[0], look_back, 5))\n",
    "trainX = numpy.reshape(trainX, (trainX.shape[0], look_back, 5))\n",
    "testX = numpy.reshape(testX, (testX.shape[0],look_back, 5))"
   ]
  },
  {
   "cell_type": "code",
   "execution_count": 111,
   "metadata": {},
   "outputs": [],
   "source": [
    "\n",
    "trainPredict_extended = numpy.zeros((len(trainPredict),5))\n",
    "# Put the predictions there\n",
    "trainPredict_extended[:,4] = trainPredict[:,0]\n",
    "\n",
    "# Inverse transform it and select the 5rd column.\n",
    "#trainPredict = scaler.inverse_transform(trainPredict_extended) [:,2]  \n",
    "trainPredict = scaler.inverse_transform(trainPredict_extended) [:,4]"
   ]
  },
  {
   "cell_type": "code",
   "execution_count": null,
   "metadata": {},
   "outputs": [],
   "source": []
  },
  {
   "cell_type": "code",
   "execution_count": 86,
   "metadata": {},
   "outputs": [],
   "source": [
    "# -------------------  #"
   ]
  },
  {
   "cell_type": "code",
   "execution_count": 113,
   "metadata": {
    "scrolled": true
   },
   "outputs": [
    {
     "name": "stderr",
     "output_type": "stream",
     "text": [
      "/Users/yennanliu/anaconda3/envs/ds_dash/lib/python3.5/site-packages/ipykernel/__main__.py:40: UserWarning: The `input_dim` and `input_length` arguments in recurrent layers are deprecated. Use `input_shape` instead.\n",
      "/Users/yennanliu/anaconda3/envs/ds_dash/lib/python3.5/site-packages/ipykernel/__main__.py:40: UserWarning: Update your `LSTM` call to the Keras 2 API: `LSTM(4, input_shape=(None, 5))`\n",
      "/Users/yennanliu/anaconda3/envs/ds_dash/lib/python3.5/site-packages/keras/models.py:944: UserWarning: The `nb_epoch` argument in `fit` has been renamed `epochs`.\n",
      "  warnings.warn('The `nb_epoch` argument in `fit` '\n"
     ]
    },
    {
     "name": "stdout",
     "output_type": "stream",
     "text": [
      "Train on 7495 samples, validate on 3693 samples\n",
      "Epoch 1/20\n",
      "7495/7495 [==============================] - 4s 488us/step - loss: 0.0152 - val_loss: 0.0015\n",
      "Epoch 2/20\n",
      "7495/7495 [==============================] - 2s 204us/step - loss: 0.0018 - val_loss: 3.9798e-04\n",
      "Epoch 3/20\n",
      "7495/7495 [==============================] - 2s 211us/step - loss: 3.7688e-04 - val_loss: 4.9713e-06\n",
      "Epoch 4/20\n",
      "7495/7495 [==============================] - 2s 215us/step - loss: 8.4048e-05 - val_loss: 1.1368e-04\n",
      "Epoch 5/20\n",
      "7495/7495 [==============================] - 2s 201us/step - loss: 5.4846e-05 - val_loss: 1.9559e-04\n",
      "Epoch 6/20\n",
      "7495/7495 [==============================] - 2s 216us/step - loss: 5.0201e-05 - val_loss: 2.1100e-04\n",
      "Epoch 7/20\n",
      "7495/7495 [==============================] - 2s 203us/step - loss: 4.7996e-05 - val_loss: 1.8951e-04\n",
      "Epoch 8/20\n",
      "7495/7495 [==============================] - 1s 191us/step - loss: 4.5269e-05 - val_loss: 1.9145e-04\n",
      "Epoch 9/20\n",
      "7495/7495 [==============================] - 2s 238us/step - loss: 4.3762e-05 - val_loss: 1.3048e-04\n",
      "Epoch 10/20\n",
      "7495/7495 [==============================] - 3s 337us/step - loss: 4.1190e-05 - val_loss: 1.4083e-04\n",
      "Epoch 11/20\n",
      "7495/7495 [==============================] - 2s 237us/step - loss: 4.0089e-05 - val_loss: 1.5067e-04\n",
      "Epoch 12/20\n",
      "7495/7495 [==============================] - 2s 202us/step - loss: 3.6636e-05 - val_loss: 1.3957e-04\n",
      "Epoch 13/20\n",
      "7495/7495 [==============================] - 1s 198us/step - loss: 3.5058e-05 - val_loss: 1.1450e-04\n",
      "Epoch 14/20\n",
      "7495/7495 [==============================] - 2s 232us/step - loss: 3.2742e-05 - val_loss: 1.4829e-04\n",
      "Epoch 15/20\n",
      "7495/7495 [==============================] - 1s 198us/step - loss: 3.1530e-05 - val_loss: 1.1162e-04\n",
      "Epoch 16/20\n",
      "7495/7495 [==============================] - 2s 202us/step - loss: 2.8843e-05 - val_loss: 8.9087e-05\n",
      "Epoch 17/20\n",
      "7495/7495 [==============================] - 1s 199us/step - loss: 2.7808e-05 - val_loss: 9.8324e-05\n",
      "Epoch 18/20\n",
      "7495/7495 [==============================] - 2s 202us/step - loss: 2.8390e-05 - val_loss: 8.5715e-05\n",
      "Epoch 19/20\n",
      "7495/7495 [==============================] - 1s 197us/step - loss: 2.5910e-05 - val_loss: 7.8805e-05\n",
      "Epoch 20/20\n",
      "7495/7495 [==============================] - 2s 201us/step - loss: 2.4946e-05 - val_loss: 8.6697e-05\n"
     ]
    },
    {
     "data": {
      "image/png": "[encoded data removed]",
      "text/plain": [
       "<matplotlib.figure.Figure at 0x127c9fcc0>"
      ]
     },
     "metadata": {},
     "output_type": "display_data"
    },
    {
     "name": "stdout",
     "output_type": "stream",
     "text": [
      "[2042.6314804  2046.26181081 2050.62289501 ...  125.20272388  124.95368919\n",
      "  124.77680525]\n",
      "Train Score: 14.12 RMSE\n",
      "Test Score: 26.98 RMSE\n"
     ]
    },
    {
     "data": {
      "text/plain": [
       "<matplotlib.legend.Legend at 0x128c32898>"
      ]
     },
     "execution_count": 113,
     "metadata": {},
     "output_type": "execute_result"
    },
    {
     "data": {
      "image/png": "[encoded data removed]",
      "text/plain": [
       "<matplotlib.figure.Figure at 0x128e6cba8>"
      ]
     },
     "metadata": {},
     "output_type": "display_data"
    }
   ],
   "source": [
    "\"\"\"\n",
    "# convert an array of values into a dataset matrix\n",
    "\n",
    "\n",
    "\n",
    "# fix random seed for reproducibility\n",
    "numpy.random.seed(7)\n",
    "\n",
    "\n",
    "# load the dataset\n",
    "dataframe = pandas.read_csv('datos.csv', engine='python') \n",
    "dataset = dataframe.values\n",
    "\n",
    "# normalize the dataset\n",
    "scaler = MinMaxScaler(feature_range=(0, 1))\n",
    "dataset = scaler.fit_transform(dataset)\n",
    "\n",
    "# split into train and test sets\n",
    "train_size = int(len(dataset) * 0.67) \n",
    "test_size = len(dataset) - train_size\n",
    "train, test = dataset[0:train_size, :], dataset[train_size:len(dataset), :]\n",
    "\n",
    "# reshape into X=t and Y=t+1\n",
    "look_back = 3\n",
    "trainX, trainY = create_dataset(train, look_back)  \n",
    "testX, testY = create_dataset(test, look_back)\n",
    "\n",
    "# reshape input to be  [samples, time steps, features]\n",
    "trainX = numpy.reshape(trainX, (trainX.shape[0], look_back, 3))\n",
    "testX = numpy.reshape(testX, (testX.shape[0],look_back, 3))\n",
    "\n",
    "\"\"\"\n",
    "\n",
    "# create and fit the LSTM network\n",
    "\n",
    "model = Sequential()\n",
    "### need to modify here ###\n",
    "### look_back = 3 -> 5 ( dim of cols)\n",
    "#model.add(LSTM(4, input_dim=look_back))\n",
    "model.add(LSTM(4, input_dim=5))\n",
    "\n",
    "\n",
    "model.add(Dense(1))\n",
    "model.compile(loss='mean_squared_error', optimizer='adam')\n",
    "history= model.fit(trainX, trainY,validation_split=0.33, nb_epoch=20, batch_size=32)\n",
    "\n",
    "# Plot training\n",
    "plt.plot(history.history['loss'])\n",
    "plt.plot(history.history['val_loss'])\n",
    "plt.title('model loss')\n",
    "plt.ylabel('pérdida')\n",
    "plt.xlabel('época')\n",
    "plt.legend(['entrenamiento', 'validación'], loc='upper right')\n",
    "plt.show()\n",
    "\n",
    "# make predictions\n",
    "trainPredict = model.predict(trainX)\n",
    "testPredict = model.predict(testX)\n",
    "\n",
    "# Get something which has as many features as dataset\n",
    "trainPredict_extended = numpy.zeros((len(trainPredict),5))\n",
    "# Put the predictions there\n",
    "trainPredict_extended[:,4] = trainPredict[:,0]\n",
    "\n",
    "# Inverse transform it and select the 5rd column.\n",
    "#trainPredict = scaler.inverse_transform(trainPredict_extended) [:,2]  \n",
    "trainPredict = scaler.inverse_transform(trainPredict_extended) [:,4]\n",
    "\n",
    "print(trainPredict)\n",
    "# Get something which has as many features as dataset\n",
    "testPredict_extended = numpy.zeros((len(testPredict),5))\n",
    "# Put the predictions there\n",
    "testPredict_extended[:,4] = testPredict[:,0]\n",
    "# Inverse transform it and select the 5rd column.\n",
    "testPredict = scaler.inverse_transform(testPredict_extended)[:,4]   \n",
    "\n",
    "\n",
    "trainY_extended = numpy.zeros((len(trainY),5))\n",
    "trainY_extended[:,4]=trainY\n",
    "trainY=scaler.inverse_transform(trainY_extended)[:,4]\n",
    "\n",
    "\n",
    "testY_extended = numpy.zeros((len(testY),5))\n",
    "testY_extended[:,4]=testY\n",
    "testY=scaler.inverse_transform(testY_extended)[:,4]\n",
    "\n",
    "\n",
    "# calculate root mean squared error\n",
    "trainScore = math.sqrt(mean_squared_error(trainY, trainPredict))\n",
    "print('Train Score: %.2f RMSE' % (trainScore))\n",
    "testScore = math.sqrt(mean_squared_error(testY, testPredict))\n",
    "print('Test Score: %.2f RMSE' % (testScore))\n",
    "\n",
    "# shift train predictions for plotting\n",
    "trainPredictPlot = numpy.empty_like(dataset)\n",
    "trainPredictPlot[:, :] = numpy.nan\n",
    "trainPredictPlot[look_back:len(trainPredict)+look_back, 2] = trainPredict\n",
    "\n",
    "# shift test predictions for plotting\n",
    "testPredictPlot = numpy.empty_like(dataset)\n",
    "testPredictPlot[:, :] = numpy.nan\n",
    "testPredictPlot[len(trainPredict)+(look_back*2)+1:len(dataset)-1, 2] = testPredict\n",
    "\n",
    "\n",
    "\n",
    "#plot\n",
    "\n",
    "serie,=plt.plot(scaler.inverse_transform(dataset)[:,2])  \n",
    "prediccion_entrenamiento,=plt.plot(trainPredictPlot[:,2],linestyle='--')  \n",
    "prediccion_test,=plt.plot(testPredictPlot[:,2],linestyle='--')\n",
    "plt.title('Consumo de agua')\n",
    "plt.ylabel('cosumo (m3)')\n",
    "plt.xlabel('dia')\n",
    "plt.legend([serie,prediccion_entrenamiento,prediccion_test],['serie','entrenamiento','test'], loc='upper right')"
   ]
  },
  {
   "cell_type": "code",
   "execution_count": 92,
   "metadata": {},
   "outputs": [
    {
     "data": {
      "text/plain": [
       "<keras.models.Sequential at 0x122ea0dd8>"
      ]
     },
     "execution_count": 92,
     "metadata": {},
     "output_type": "execute_result"
    }
   ],
   "source": [
    "model"
   ]
  },
  {
   "cell_type": "code",
   "execution_count": 58,
   "metadata": {},
   "outputs": [
    {
     "data": {
      "text/plain": [
       "(11188, 3, 5)"
      ]
     },
     "execution_count": 58,
     "metadata": {},
     "output_type": "execute_result"
    }
   ],
   "source": [
    "trainX.shape"
   ]
  }
 ],
 "metadata": {
  "kernelspec": {
   "display_name": "Environment (conda_ds_dash)",
   "language": "python",
   "name": "conda_ds_dash"
  },
  "language_info": {
   "codemirror_mode": {
    "name": "ipython",
    "version": 3
   },
   "file_extension": ".py",
   "mimetype": "text/x-python",
   "name": "python",
   "nbconvert_exporter": "python",
   "pygments_lexer": "ipython3",
   "version": "3.5.4"
  }
 },
 "nbformat": 4,
 "nbformat_minor": 2
}
