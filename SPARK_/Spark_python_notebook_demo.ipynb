{
 "cells": [
  {
   "cell_type": "markdown",
   "metadata": {},
   "source": [
    "## 0) Launch spark notebook "
   ]
  },
  {
   "cell_type": "code",
   "execution_count": 1,
   "metadata": {},
   "outputs": [
    {
     "data": {
      "text/plain": [
       "\"\\nyennanliu@yennanliude-MacBook-Pro:~$ export SPARK_HOME=/Users/yennanliu/spark\\nyennanliu@yennanliude-MacBook-Pro:~$ export PYSPARK_DRIVER_PYTHON=jupyter\\nyennanliu@yennanliude-MacBook-Pro:~$ export PYSPARK_DRIVER_PYTHON_OPTS='notebook'\\nyennanliu@yennanliude-MacBook-Pro:~$ \\nyennanliu@yennanliude-MacBook-Pro:~$ source activate pytorch_\\n(pytorch_) yennanliu@yennanliude-MacBook-Pro:~$ jupyter notebook\\n\\n\""
      ]
     },
     "execution_count": 1,
     "metadata": {},
     "output_type": "execute_result"
    }
   ],
   "source": [
    "# via these commands \n",
    "\n",
    "\"\"\"\n",
    "yennanliu@yennanliude-MacBook-Pro:~$ export SPARK_HOME=/Users/yennanliu/spark\n",
    "yennanliu@yennanliude-MacBook-Pro:~$ export PYSPARK_DRIVER_PYTHON=jupyter\n",
    "yennanliu@yennanliude-MacBook-Pro:~$ export PYSPARK_DRIVER_PYTHON_OPTS='notebook'\n",
    "yennanliu@yennanliude-MacBook-Pro:~$ \n",
    "yennanliu@yennanliude-MacBook-Pro:~$ source activate pytorch_\n",
    "(pytorch_) yennanliu@yennanliude-MacBook-Pro:~$ jupyter notebook\n",
    "\n",
    "\"\"\""
   ]
  },
  {
   "cell_type": "markdown",
   "metadata": {},
   "source": [
    "- or you can refer here :\n",
    "    - https://github.com/yennanliu/utility_shell/blob/master/spark/launch_pyspark.sh\n"
   ]
  },
  {
   "cell_type": "markdown",
   "metadata": {},
   "source": [
    "## 1) Check python version and dev env "
   ]
  },
  {
   "cell_type": "code",
   "execution_count": 2,
   "metadata": {},
   "outputs": [
    {
     "name": "stdout",
     "output_type": "stream",
     "text": [
      "Python 3.5.5 :: Anaconda, Inc.\n",
      "Sat Mar 17 07:23:23 GMT 2018\n"
     ]
    }
   ],
   "source": [
    "!python --version\n",
    "! date"
   ]
  },
  {
   "cell_type": "code",
   "execution_count": 3,
   "metadata": {},
   "outputs": [
    {
     "name": "stdout",
     "output_type": "stream",
     "text": [
      "# conda environments:\r\n",
      "#\r\n",
      "base                     /Users/yennanliu/anaconda3\r\n",
      "ds_dash                  /Users/yennanliu/anaconda3/envs/ds_dash\r\n",
      "pyspark_              *  /Users/yennanliu/anaconda3/envs/pyspark_\r\n",
      "pytorch_                 /Users/yennanliu/anaconda3/envs/pytorch_\r\n",
      "\r\n"
     ]
    }
   ],
   "source": [
    "!conda env list"
   ]
  },
  {
   "cell_type": "markdown",
   "metadata": {},
   "source": [
    "## 2)  ------- import SparkContext explicitly -------#\n",
    "    - to have main \"sc\" module"
   ]
  },
  {
   "cell_type": "code",
   "execution_count": 4,
   "metadata": {},
   "outputs": [
    {
     "data": {
      "text/plain": [
       "''"
      ]
     },
     "execution_count": 4,
     "metadata": {},
     "output_type": "execute_result"
    }
   ],
   "source": [
    "sc"
   ]
  },
  {
   "cell_type": "code",
   "execution_count": 5,
   "metadata": {},
   "outputs": [],
   "source": [
    "# ref  : Spark context 'sc' not defined\n",
    "# https://stackoverflow.com/questions/30763951/spark-context-sc-not-defined\n",
    "\n",
    "\n",
    "from pyspark import SparkContext\n",
    "sc =SparkContext()"
   ]
  },
  {
   "cell_type": "code",
   "execution_count": 6,
   "metadata": {},
   "outputs": [
    {
     "data": {
      "text/html": [
       "\n",
       "        <div>\n",
       "            <p><b>SparkContext</b></p>\n",
       "\n",
       "            <p><a href=\"http://192.168.1.33:4040\">Spark UI</a></p>\n",
       "\n",
       "            <dl>\n",
       "              <dt>Version</dt>\n",
       "                <dd><code>v2.3.0</code></dd>\n",
       "              <dt>Master</dt>\n",
       "                <dd><code>local[*]</code></dd>\n",
       "              <dt>AppName</dt>\n",
       "                <dd><code>pyspark-shell</code></dd>\n",
       "            </dl>\n",
       "        </div>\n",
       "        "
      ],
      "text/plain": [
       "<SparkContext master=local[*] appName=pyspark-shell>"
      ]
     },
     "execution_count": 6,
     "metadata": {},
     "output_type": "execute_result"
    }
   ],
   "source": [
    "sc"
   ]
  },
  {
   "cell_type": "code",
   "execution_count": 7,
   "metadata": {},
   "outputs": [],
   "source": [
    "intRDD = sc.parallelize([6,7,1,2,0])\n",
    "intRDD2 = sc.parallelize([\"apple\", \"car\", \"pan\"])"
   ]
  },
  {
   "cell_type": "code",
   "execution_count": 8,
   "metadata": {},
   "outputs": [
    {
     "data": {
      "text/plain": [
       "pyspark.rdd.RDD"
      ]
     },
     "execution_count": 8,
     "metadata": {},
     "output_type": "execute_result"
    }
   ],
   "source": [
    "type(intRDD)"
   ]
  },
  {
   "cell_type": "code",
   "execution_count": 9,
   "metadata": {},
   "outputs": [
    {
     "data": {
      "text/plain": [
       "[6, 7, 1, 2, 0]"
      ]
     },
     "execution_count": 9,
     "metadata": {},
     "output_type": "execute_result"
    }
   ],
   "source": [
    "intRDD.collect()"
   ]
  },
  {
   "cell_type": "code",
   "execution_count": 10,
   "metadata": {},
   "outputs": [
    {
     "data": {
      "text/plain": [
       "['apple', 'car', 'pan']"
      ]
     },
     "execution_count": 10,
     "metadata": {},
     "output_type": "execute_result"
    }
   ],
   "source": [
    "intRDD2.collect()"
   ]
  },
  {
   "cell_type": "code",
   "execution_count": 11,
   "metadata": {},
   "outputs": [],
   "source": [
    "# end of demo"
   ]
  }
 ],
 "metadata": {
  "kernelspec": {
   "display_name": "Environment (conda_pyspark_)",
   "language": "python",
   "name": "conda_pyspark_"
  },
  "language_info": {
   "codemirror_mode": {
    "name": "ipython",
    "version": 3
   },
   "file_extension": ".py",
   "mimetype": "text/x-python",
   "name": "python",
   "nbconvert_exporter": "python",
   "pygments_lexer": "ipython3",
   "version": "3.5.5"
  }
 },
 "nbformat": 4,
 "nbformat_minor": 2
}
