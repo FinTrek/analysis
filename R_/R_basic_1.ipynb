{
 "cells": [
  {
   "cell_type": "markdown",
   "metadata": {},
   "source": [
    "## Credit :\n",
    "- http://www.cyclismo.org/tutorial/R/types.html\n",
    "\n",
    "## Run R in jupyter :\n",
    "\n",
    "- https://www.datacamp.com/community/blog/jupyter-notebook-r#gs.LySZooc\n",
    "- ```# install R in ur new dev environment```\n",
    "- ```$conda create -n my-r-env -c r r-essentials```"
   ]
  },
  {
   "cell_type": "markdown",
   "metadata": {},
   "source": [
    "## 0) Data IO"
   ]
  },
  {
   "cell_type": "markdown",
   "metadata": {},
   "source": [
    "### 0-1) Read csv"
   ]
  },
  {
   "cell_type": "code",
   "execution_count": 49,
   "metadata": {},
   "outputs": [],
   "source": [
    "# show all file list in the working directory\n",
    "#dir()\n",
    "\n",
    "#get route of current directory\n",
    "#getwd()"
   ]
  },
  {
   "cell_type": "code",
   "execution_count": 42,
   "metadata": {
    "collapsed": true
   },
   "outputs": [],
   "source": [
    "df_test <- read.csv(file=\"/Users/yennanliu/Desktop/dev_/df_test.csv\",head=TRUE,sep=\",\")"
   ]
  },
  {
   "cell_type": "code",
   "execution_count": 59,
   "metadata": {},
   "outputs": [
    {
     "data": {
      "text/html": [
       "'list'"
      ],
      "text/latex": [
       "'list'"
      ],
      "text/markdown": [
       "'list'"
      ],
      "text/plain": [
       "[1] \"list\""
      ]
     },
     "metadata": {},
     "output_type": "display_data"
    }
   ],
   "source": [
    "typeof(df_test)"
   ]
  },
  {
   "cell_type": "code",
   "execution_count": 43,
   "metadata": {},
   "outputs": [
    {
     "data": {
      "text/html": [
       "<table>\n",
       "<thead><tr><th scope=col>X</th><th scope=col>A</th><th scope=col>B</th><th scope=col>C</th><th scope=col>D</th></tr></thead>\n",
       "<tbody>\n",
       "\t<tr><td>2013-01-01  </td><td> 1.7428451  </td><td> 0.8276120  </td><td>-0.8066323  </td><td> 0.306776369</td></tr>\n",
       "\t<tr><td>2013-01-02  </td><td> 1.3392247  </td><td>-0.7951656  </td><td>-1.7747302  </td><td> 0.437705419</td></tr>\n",
       "\t<tr><td>2013-01-03  </td><td> 0.6528488  </td><td>-1.5407709  </td><td>-1.4102171  </td><td> 1.700354566</td></tr>\n",
       "\t<tr><td>2013-01-04  </td><td> 0.2473966  </td><td>-1.3023405  </td><td>-0.8460928  </td><td> 0.699764788</td></tr>\n",
       "\t<tr><td>2013-01-05  </td><td>-0.7405302  </td><td> 0.7131242  </td><td>-1.1632046  </td><td>-0.002844136</td></tr>\n",
       "\t<tr><td>2013-01-06  </td><td>-1.1717375  </td><td> 0.5603410  </td><td> 0.9465587  </td><td>-0.615189048</td></tr>\n",
       "</tbody>\n",
       "</table>\n"
      ],
      "text/latex": [
       "\\begin{tabular}{r|lllll}\n",
       " X & A & B & C & D\\\\\n",
       "\\hline\n",
       "\t 2013-01-01   &  1.7428451   &  0.8276120   & -0.8066323   &  0.306776369\\\\\n",
       "\t 2013-01-02   &  1.3392247   & -0.7951656   & -1.7747302   &  0.437705419\\\\\n",
       "\t 2013-01-03   &  0.6528488   & -1.5407709   & -1.4102171   &  1.700354566\\\\\n",
       "\t 2013-01-04   &  0.2473966   & -1.3023405   & -0.8460928   &  0.699764788\\\\\n",
       "\t 2013-01-05   & -0.7405302   &  0.7131242   & -1.1632046   & -0.002844136\\\\\n",
       "\t 2013-01-06   & -1.1717375   &  0.5603410   &  0.9465587   & -0.615189048\\\\\n",
       "\\end{tabular}\n"
      ],
      "text/markdown": [
       "\n",
       "X | A | B | C | D | \n",
       "|---|---|---|---|---|---|\n",
       "| 2013-01-01   |  1.7428451   |  0.8276120   | -0.8066323   |  0.306776369 | \n",
       "| 2013-01-02   |  1.3392247   | -0.7951656   | -1.7747302   |  0.437705419 | \n",
       "| 2013-01-03   |  0.6528488   | -1.5407709   | -1.4102171   |  1.700354566 | \n",
       "| 2013-01-04   |  0.2473966   | -1.3023405   | -0.8460928   |  0.699764788 | \n",
       "| 2013-01-05   | -0.7405302   |  0.7131242   | -1.1632046   | -0.002844136 | \n",
       "| 2013-01-06   | -1.1717375   |  0.5603410   |  0.9465587   | -0.615189048 | \n",
       "\n",
       "\n"
      ],
      "text/plain": [
       "  X          A          B          C          D           \n",
       "1 2013-01-01  1.7428451  0.8276120 -0.8066323  0.306776369\n",
       "2 2013-01-02  1.3392247 -0.7951656 -1.7747302  0.437705419\n",
       "3 2013-01-03  0.6528488 -1.5407709 -1.4102171  1.700354566\n",
       "4 2013-01-04  0.2473966 -1.3023405 -0.8460928  0.699764788\n",
       "5 2013-01-05 -0.7405302  0.7131242 -1.1632046 -0.002844136\n",
       "6 2013-01-06 -1.1717375  0.5603410  0.9465587 -0.615189048"
      ]
     },
     "metadata": {},
     "output_type": "display_data"
    }
   ],
   "source": [
    "df_test"
   ]
  },
  {
   "cell_type": "code",
   "execution_count": 44,
   "metadata": {},
   "outputs": [
    {
     "data": {
      "text/plain": [
       "          X           A                 B                 C          \n",
       " 2013-01-01:1   Min.   :-1.1717   Min.   :-1.5408   Min.   :-1.7747  \n",
       " 2013-01-02:1   1st Qu.:-0.4935   1st Qu.:-1.1755   1st Qu.:-1.3485  \n",
       " 2013-01-03:1   Median : 0.4501   Median :-0.1174   Median :-1.0046  \n",
       " 2013-01-04:1   Mean   : 0.3450   Mean   :-0.2562   Mean   :-0.8424  \n",
       " 2013-01-05:1   3rd Qu.: 1.1676   3rd Qu.: 0.6749   3rd Qu.:-0.8165  \n",
       " 2013-01-06:1   Max.   : 1.7428   Max.   : 0.8276   Max.   : 0.9466  \n",
       "       D           \n",
       " Min.   :-0.61519  \n",
       " 1st Qu.: 0.07456  \n",
       " Median : 0.37224  \n",
       " Mean   : 0.42109  \n",
       " 3rd Qu.: 0.63425  \n",
       " Max.   : 1.70035  "
      ]
     },
     "metadata": {},
     "output_type": "display_data"
    }
   ],
   "source": [
    "summary(df_test)"
   ]
  },
  {
   "cell_type": "code",
   "execution_count": 52,
   "metadata": {},
   "outputs": [
    {
     "data": {
      "text/html": [
       "<ol class=list-inline>\n",
       "\t<li>0.827612028809</li>\n",
       "\t<li>-0.795165583739</li>\n",
       "\t<li>-1.54077088745</li>\n",
       "\t<li>-1.30234054482</li>\n",
       "\t<li>0.713124246753</li>\n",
       "\t<li>0.560340996287</li>\n",
       "</ol>\n"
      ],
      "text/latex": [
       "\\begin{enumerate*}\n",
       "\\item 0.827612028809\n",
       "\\item -0.795165583739\n",
       "\\item -1.54077088745\n",
       "\\item -1.30234054482\n",
       "\\item 0.713124246753\n",
       "\\item 0.560340996287\n",
       "\\end{enumerate*}\n"
      ],
      "text/markdown": [
       "1. 0.827612028809\n",
       "2. -0.795165583739\n",
       "3. -1.54077088745\n",
       "4. -1.30234054482\n",
       "5. 0.713124246753\n",
       "6. 0.560340996287\n",
       "\n",
       "\n"
      ],
      "text/plain": [
       "[1]  0.8276120 -0.7951656 -1.5407709 -1.3023405  0.7131242  0.5603410"
      ]
     },
     "metadata": {},
     "output_type": "display_data"
    }
   ],
   "source": [
    "df_test$B"
   ]
  },
  {
   "cell_type": "code",
   "execution_count": 51,
   "metadata": {},
   "outputs": [
    {
     "data": {
      "text/html": [
       "<ol class=list-inline>\n",
       "\t<li>2013-01-01</li>\n",
       "\t<li>2013-01-02</li>\n",
       "\t<li>2013-01-03</li>\n",
       "\t<li>2013-01-04</li>\n",
       "\t<li>2013-01-05</li>\n",
       "\t<li>2013-01-06</li>\n",
       "</ol>\n"
      ],
      "text/latex": [
       "\\begin{enumerate*}\n",
       "\\item 2013-01-01\n",
       "\\item 2013-01-02\n",
       "\\item 2013-01-03\n",
       "\\item 2013-01-04\n",
       "\\item 2013-01-05\n",
       "\\item 2013-01-06\n",
       "\\end{enumerate*}\n"
      ],
      "text/markdown": [
       "1. 2013-01-01\n",
       "2. 2013-01-02\n",
       "3. 2013-01-03\n",
       "4. 2013-01-04\n",
       "5. 2013-01-05\n",
       "6. 2013-01-06\n",
       "\n",
       "\n"
      ],
      "text/plain": [
       "[1] 2013-01-01 2013-01-02 2013-01-03 2013-01-04 2013-01-05 2013-01-06\n",
       "6 Levels: 2013-01-01 2013-01-02 2013-01-03 2013-01-04 ... 2013-01-06"
      ]
     },
     "metadata": {},
     "output_type": "display_data"
    }
   ],
   "source": [
    "df_test$X"
   ]
  },
  {
   "cell_type": "code",
   "execution_count": 53,
   "metadata": {},
   "outputs": [
    {
     "data": {
      "text/html": [
       "<ol class=list-inline>\n",
       "\t<li>'X'</li>\n",
       "\t<li>'A'</li>\n",
       "\t<li>'B'</li>\n",
       "\t<li>'C'</li>\n",
       "\t<li>'D'</li>\n",
       "</ol>\n"
      ],
      "text/latex": [
       "\\begin{enumerate*}\n",
       "\\item 'X'\n",
       "\\item 'A'\n",
       "\\item 'B'\n",
       "\\item 'C'\n",
       "\\item 'D'\n",
       "\\end{enumerate*}\n"
      ],
      "text/markdown": [
       "1. 'X'\n",
       "2. 'A'\n",
       "3. 'B'\n",
       "4. 'C'\n",
       "5. 'D'\n",
       "\n",
       "\n"
      ],
      "text/plain": [
       "[1] \"X\" \"A\" \"B\" \"C\" \"D\""
      ]
     },
     "metadata": {},
     "output_type": "display_data"
    }
   ],
   "source": [
    "names(df_test)"
   ]
  },
  {
   "cell_type": "code",
   "execution_count": 54,
   "metadata": {},
   "outputs": [
    {
     "data": {
      "text/html": [
       "<dl>\n",
       "\t<dt>$names</dt>\n",
       "\t\t<dd><ol class=list-inline>\n",
       "\t<li>'X'</li>\n",
       "\t<li>'A'</li>\n",
       "\t<li>'B'</li>\n",
       "\t<li>'C'</li>\n",
       "\t<li>'D'</li>\n",
       "</ol>\n",
       "</dd>\n",
       "\t<dt>$class</dt>\n",
       "\t\t<dd>'data.frame'</dd>\n",
       "\t<dt>$row.names</dt>\n",
       "\t\t<dd><ol class=list-inline>\n",
       "\t<li>1</li>\n",
       "\t<li>2</li>\n",
       "\t<li>3</li>\n",
       "\t<li>4</li>\n",
       "\t<li>5</li>\n",
       "\t<li>6</li>\n",
       "</ol>\n",
       "</dd>\n",
       "</dl>\n"
      ],
      "text/latex": [
       "\\begin{description}\n",
       "\\item[\\$names] \\begin{enumerate*}\n",
       "\\item 'X'\n",
       "\\item 'A'\n",
       "\\item 'B'\n",
       "\\item 'C'\n",
       "\\item 'D'\n",
       "\\end{enumerate*}\n",
       "\n",
       "\\item[\\$class] 'data.frame'\n",
       "\\item[\\$row.names] \\begin{enumerate*}\n",
       "\\item 1\n",
       "\\item 2\n",
       "\\item 3\n",
       "\\item 4\n",
       "\\item 5\n",
       "\\item 6\n",
       "\\end{enumerate*}\n",
       "\n",
       "\\end{description}\n"
      ],
      "text/markdown": [
       "$names\n",
       ":   1. 'X'\n",
       "2. 'A'\n",
       "3. 'B'\n",
       "4. 'C'\n",
       "5. 'D'\n",
       "\n",
       "\n",
       "\n",
       "$class\n",
       ":   'data.frame'\n",
       "$row.names\n",
       ":   1. 1\n",
       "2. 2\n",
       "3. 3\n",
       "4. 4\n",
       "5. 5\n",
       "6. 6\n",
       "\n",
       "\n",
       "\n",
       "\n",
       "\n"
      ],
      "text/plain": [
       "$names\n",
       "[1] \"X\" \"A\" \"B\" \"C\" \"D\"\n",
       "\n",
       "$class\n",
       "[1] \"data.frame\"\n",
       "\n",
       "$row.names\n",
       "[1] 1 2 3 4 5 6\n"
      ]
     },
     "metadata": {},
     "output_type": "display_data"
    }
   ],
   "source": [
    "attributes(df_test)"
   ]
  },
  {
   "cell_type": "code",
   "execution_count": 55,
   "metadata": {},
   "outputs": [
    {
     "data": {
      "text/html": [
       "<ol class=list-inline>\n",
       "\t<li>'X'</li>\n",
       "\t<li>'A'</li>\n",
       "\t<li>'B'</li>\n",
       "\t<li>'C'</li>\n",
       "\t<li>'D'</li>\n",
       "</ol>\n"
      ],
      "text/latex": [
       "\\begin{enumerate*}\n",
       "\\item 'X'\n",
       "\\item 'A'\n",
       "\\item 'B'\n",
       "\\item 'C'\n",
       "\\item 'D'\n",
       "\\end{enumerate*}\n"
      ],
      "text/markdown": [
       "1. 'X'\n",
       "2. 'A'\n",
       "3. 'B'\n",
       "4. 'C'\n",
       "5. 'D'\n",
       "\n",
       "\n"
      ],
      "text/plain": [
       "[1] \"X\" \"A\" \"B\" \"C\" \"D\""
      ]
     },
     "metadata": {},
     "output_type": "display_data"
    }
   ],
   "source": [
    "names(df_test)"
   ]
  },
  {
   "cell_type": "code",
   "execution_count": null,
   "metadata": {
    "collapsed": true
   },
   "outputs": [],
   "source": []
  },
  {
   "cell_type": "markdown",
   "metadata": {},
   "source": [
    "## 1) Variables Types"
   ]
  },
  {
   "cell_type": "markdown",
   "metadata": {},
   "source": [
    "### 1-1)  Numbers"
   ]
  },
  {
   "cell_type": "code",
   "execution_count": 8,
   "metadata": {},
   "outputs": [],
   "source": [
    "a <- 3"
   ]
  },
  {
   "cell_type": "code",
   "execution_count": 9,
   "metadata": {},
   "outputs": [
    {
     "data": {
      "text/html": [
       "3"
      ],
      "text/latex": [
       "3"
      ],
      "text/markdown": [
       "3"
      ],
      "text/plain": [
       "[1] 3"
      ]
     },
     "metadata": {},
     "output_type": "display_data"
    }
   ],
   "source": [
    "a"
   ]
  },
  {
   "cell_type": "code",
   "execution_count": 10,
   "metadata": {},
   "outputs": [
    {
     "data": {
      "text/html": [
       "'double'"
      ],
      "text/latex": [
       "'double'"
      ],
      "text/markdown": [
       "'double'"
      ],
      "text/plain": [
       "[1] \"double\""
      ]
     },
     "metadata": {},
     "output_type": "display_data"
    }
   ],
   "source": [
    "typeof(a)"
   ]
  },
  {
   "cell_type": "code",
   "execution_count": 11,
   "metadata": {
    "collapsed": true
   },
   "outputs": [],
   "source": [
    "b <- sqrt(a*a+3)"
   ]
  },
  {
   "cell_type": "code",
   "execution_count": 12,
   "metadata": {},
   "outputs": [
    {
     "data": {
      "text/html": [
       "3.46410161513775"
      ],
      "text/latex": [
       "3.46410161513775"
      ],
      "text/markdown": [
       "3.46410161513775"
      ],
      "text/plain": [
       "[1] 3.464102"
      ]
     },
     "metadata": {},
     "output_type": "display_data"
    }
   ],
   "source": [
    "b"
   ]
  },
  {
   "cell_type": "code",
   "execution_count": 13,
   "metadata": {},
   "outputs": [
    {
     "data": {
      "text/html": [
       "<ol class=list-inline>\n",
       "\t<li>'a'</li>\n",
       "\t<li>'b'</li>\n",
       "</ol>\n"
      ],
      "text/latex": [
       "\\begin{enumerate*}\n",
       "\\item 'a'\n",
       "\\item 'b'\n",
       "\\end{enumerate*}\n"
      ],
      "text/markdown": [
       "1. 'a'\n",
       "2. 'b'\n",
       "\n",
       "\n"
      ],
      "text/plain": [
       "[1] \"a\" \"b\""
      ]
     },
     "metadata": {},
     "output_type": "display_data"
    }
   ],
   "source": [
    "ls()"
   ]
  },
  {
   "cell_type": "code",
   "execution_count": 14,
   "metadata": {
    "collapsed": true
   },
   "outputs": [],
   "source": [
    "a <- c(1,2,3,4,5)"
   ]
  },
  {
   "cell_type": "code",
   "execution_count": 15,
   "metadata": {},
   "outputs": [
    {
     "data": {
      "text/html": [
       "<ol class=list-inline>\n",
       "\t<li>1</li>\n",
       "\t<li>2</li>\n",
       "\t<li>3</li>\n",
       "\t<li>4</li>\n",
       "\t<li>5</li>\n",
       "</ol>\n"
      ],
      "text/latex": [
       "\\begin{enumerate*}\n",
       "\\item 1\n",
       "\\item 2\n",
       "\\item 3\n",
       "\\item 4\n",
       "\\item 5\n",
       "\\end{enumerate*}\n"
      ],
      "text/markdown": [
       "1. 1\n",
       "2. 2\n",
       "3. 3\n",
       "4. 4\n",
       "5. 5\n",
       "\n",
       "\n"
      ],
      "text/plain": [
       "[1] 1 2 3 4 5"
      ]
     },
     "metadata": {},
     "output_type": "display_data"
    }
   ],
   "source": [
    "a"
   ]
  },
  {
   "cell_type": "code",
   "execution_count": 17,
   "metadata": {},
   "outputs": [
    {
     "data": {
      "text/html": [
       "<ol class=list-inline>\n",
       "\t<li>2</li>\n",
       "\t<li>3</li>\n",
       "\t<li>4</li>\n",
       "\t<li>5</li>\n",
       "\t<li>6</li>\n",
       "</ol>\n"
      ],
      "text/latex": [
       "\\begin{enumerate*}\n",
       "\\item 2\n",
       "\\item 3\n",
       "\\item 4\n",
       "\\item 5\n",
       "\\item 6\n",
       "\\end{enumerate*}\n"
      ],
      "text/markdown": [
       "1. 2\n",
       "2. 3\n",
       "3. 4\n",
       "4. 5\n",
       "5. 6\n",
       "\n",
       "\n"
      ],
      "text/plain": [
       "[1] 2 3 4 5 6"
      ]
     },
     "metadata": {},
     "output_type": "display_data"
    }
   ],
   "source": [
    "a+1"
   ]
  },
  {
   "cell_type": "code",
   "execution_count": 18,
   "metadata": {},
   "outputs": [
    {
     "data": {
      "text/html": [
       "3"
      ],
      "text/latex": [
       "3"
      ],
      "text/markdown": [
       "3"
      ],
      "text/plain": [
       "[1] 3"
      ]
     },
     "metadata": {},
     "output_type": "display_data"
    },
    {
     "data": {
      "text/html": [
       "2.5"
      ],
      "text/latex": [
       "2.5"
      ],
      "text/markdown": [
       "2.5"
      ],
      "text/plain": [
       "[1] 2.5"
      ]
     },
     "metadata": {},
     "output_type": "display_data"
    }
   ],
   "source": [
    "mean(a)\n",
    "var(a)"
   ]
  },
  {
   "cell_type": "code",
   "execution_count": 19,
   "metadata": {},
   "outputs": [
    {
     "data": {
      "text/html": [
       "1"
      ],
      "text/latex": [
       "1"
      ],
      "text/markdown": [
       "1"
      ],
      "text/plain": [
       "[1] 1"
      ]
     },
     "metadata": {},
     "output_type": "display_data"
    },
    {
     "data": {
      "text/html": [
       "2"
      ],
      "text/latex": [
       "2"
      ],
      "text/markdown": [
       "2"
      ],
      "text/plain": [
       "[1] 2"
      ]
     },
     "metadata": {},
     "output_type": "display_data"
    }
   ],
   "source": [
    "a[1]\n",
    "a[2]"
   ]
  },
  {
   "cell_type": "code",
   "execution_count": 20,
   "metadata": {
    "collapsed": true
   },
   "outputs": [],
   "source": [
    "a <- numeric(10)"
   ]
  },
  {
   "cell_type": "code",
   "execution_count": 21,
   "metadata": {},
   "outputs": [
    {
     "data": {
      "text/html": [
       "<ol class=list-inline>\n",
       "\t<li>0</li>\n",
       "\t<li>0</li>\n",
       "\t<li>0</li>\n",
       "\t<li>0</li>\n",
       "\t<li>0</li>\n",
       "\t<li>0</li>\n",
       "\t<li>0</li>\n",
       "\t<li>0</li>\n",
       "\t<li>0</li>\n",
       "\t<li>0</li>\n",
       "</ol>\n"
      ],
      "text/latex": [
       "\\begin{enumerate*}\n",
       "\\item 0\n",
       "\\item 0\n",
       "\\item 0\n",
       "\\item 0\n",
       "\\item 0\n",
       "\\item 0\n",
       "\\item 0\n",
       "\\item 0\n",
       "\\item 0\n",
       "\\item 0\n",
       "\\end{enumerate*}\n"
      ],
      "text/markdown": [
       "1. 0\n",
       "2. 0\n",
       "3. 0\n",
       "4. 0\n",
       "5. 0\n",
       "6. 0\n",
       "7. 0\n",
       "8. 0\n",
       "9. 0\n",
       "10. 0\n",
       "\n",
       "\n"
      ],
      "text/plain": [
       " [1] 0 0 0 0 0 0 0 0 0 0"
      ]
     },
     "metadata": {},
     "output_type": "display_data"
    }
   ],
   "source": [
    "a"
   ]
  },
  {
   "cell_type": "markdown",
   "metadata": {},
   "source": [
    "### 1-2) Strings"
   ]
  },
  {
   "cell_type": "code",
   "execution_count": 22,
   "metadata": {
    "collapsed": true
   },
   "outputs": [],
   "source": [
    "a <- \"hello\""
   ]
  },
  {
   "cell_type": "code",
   "execution_count": 23,
   "metadata": {},
   "outputs": [
    {
     "data": {
      "text/html": [
       "'character'"
      ],
      "text/latex": [
       "'character'"
      ],
      "text/markdown": [
       "'character'"
      ],
      "text/plain": [
       "[1] \"character\""
      ]
     },
     "metadata": {},
     "output_type": "display_data"
    }
   ],
   "source": [
    "typeof(a)"
   ]
  },
  {
   "cell_type": "code",
   "execution_count": 24,
   "metadata": {},
   "outputs": [
    {
     "data": {
      "text/html": [
       "'hello'"
      ],
      "text/latex": [
       "'hello'"
      ],
      "text/markdown": [
       "'hello'"
      ],
      "text/plain": [
       "[1] \"hello\""
      ]
     },
     "metadata": {},
     "output_type": "display_data"
    }
   ],
   "source": [
    "a"
   ]
  },
  {
   "cell_type": "code",
   "execution_count": 25,
   "metadata": {
    "collapsed": true
   },
   "outputs": [],
   "source": [
    "b <- c(\"hello\",\"there\")"
   ]
  },
  {
   "cell_type": "code",
   "execution_count": 33,
   "metadata": {},
   "outputs": [
    {
     "data": {
      "text/html": [
       "<ol class=list-inline>\n",
       "\t<li>'hello'</li>\n",
       "\t<li>'there'</li>\n",
       "</ol>\n"
      ],
      "text/latex": [
       "\\begin{enumerate*}\n",
       "\\item 'hello'\n",
       "\\item 'there'\n",
       "\\end{enumerate*}\n"
      ],
      "text/markdown": [
       "1. 'hello'\n",
       "2. 'there'\n",
       "\n",
       "\n"
      ],
      "text/plain": [
       "[1] \"hello\" \"there\""
      ]
     },
     "metadata": {},
     "output_type": "display_data"
    },
    {
     "data": {
      "text/html": [],
      "text/latex": [],
      "text/markdown": [],
      "text/plain": [
       "character(0)"
      ]
     },
     "metadata": {},
     "output_type": "display_data"
    },
    {
     "data": {
      "text/html": [
       "'hello'"
      ],
      "text/latex": [
       "'hello'"
      ],
      "text/markdown": [
       "'hello'"
      ],
      "text/plain": [
       "[1] \"hello\""
      ]
     },
     "metadata": {},
     "output_type": "display_data"
    },
    {
     "data": {
      "text/html": [
       "'there'"
      ],
      "text/latex": [
       "'there'"
      ],
      "text/markdown": [
       "'there'"
      ],
      "text/plain": [
       "[1] \"there\""
      ]
     },
     "metadata": {},
     "output_type": "display_data"
    }
   ],
   "source": [
    "b\n",
    "b[0]\n",
    "b[1]\n",
    "b[2]"
   ]
  },
  {
   "cell_type": "markdown",
   "metadata": {},
   "source": [
    "#### Counter in R start from 1 (1,2,3...) ; while python and others scripts start from 0 (0,1,2,...)  "
   ]
  },
  {
   "cell_type": "code",
   "execution_count": 34,
   "metadata": {},
   "outputs": [
    {
     "data": {
      "text/html": [
       "'character'"
      ],
      "text/latex": [
       "'character'"
      ],
      "text/markdown": [
       "'character'"
      ],
      "text/plain": [
       "[1] \"character\""
      ]
     },
     "metadata": {},
     "output_type": "display_data"
    }
   ],
   "source": [
    "typeof(b)"
   ]
  },
  {
   "cell_type": "code",
   "execution_count": 35,
   "metadata": {
    "collapsed": true
   },
   "outputs": [],
   "source": [
    "a = character(20)"
   ]
  },
  {
   "cell_type": "code",
   "execution_count": 36,
   "metadata": {},
   "outputs": [
    {
     "data": {
      "text/html": [
       "<ol class=list-inline>\n",
       "\t<li>''</li>\n",
       "\t<li>''</li>\n",
       "\t<li>''</li>\n",
       "\t<li>''</li>\n",
       "\t<li>''</li>\n",
       "\t<li>''</li>\n",
       "\t<li>''</li>\n",
       "\t<li>''</li>\n",
       "\t<li>''</li>\n",
       "\t<li>''</li>\n",
       "\t<li>''</li>\n",
       "\t<li>''</li>\n",
       "\t<li>''</li>\n",
       "\t<li>''</li>\n",
       "\t<li>''</li>\n",
       "\t<li>''</li>\n",
       "\t<li>''</li>\n",
       "\t<li>''</li>\n",
       "\t<li>''</li>\n",
       "\t<li>''</li>\n",
       "</ol>\n"
      ],
      "text/latex": [
       "\\begin{enumerate*}\n",
       "\\item ''\n",
       "\\item ''\n",
       "\\item ''\n",
       "\\item ''\n",
       "\\item ''\n",
       "\\item ''\n",
       "\\item ''\n",
       "\\item ''\n",
       "\\item ''\n",
       "\\item ''\n",
       "\\item ''\n",
       "\\item ''\n",
       "\\item ''\n",
       "\\item ''\n",
       "\\item ''\n",
       "\\item ''\n",
       "\\item ''\n",
       "\\item ''\n",
       "\\item ''\n",
       "\\item ''\n",
       "\\end{enumerate*}\n"
      ],
      "text/markdown": [
       "1. ''\n",
       "2. ''\n",
       "3. ''\n",
       "4. ''\n",
       "5. ''\n",
       "6. ''\n",
       "7. ''\n",
       "8. ''\n",
       "9. ''\n",
       "10. ''\n",
       "11. ''\n",
       "12. ''\n",
       "13. ''\n",
       "14. ''\n",
       "15. ''\n",
       "16. ''\n",
       "17. ''\n",
       "18. ''\n",
       "19. ''\n",
       "20. ''\n",
       "\n",
       "\n"
      ],
      "text/plain": [
       " [1] \"\" \"\" \"\" \"\" \"\" \"\" \"\" \"\" \"\" \"\" \"\" \"\" \"\" \"\" \"\" \"\" \"\" \"\" \"\" \"\""
      ]
     },
     "metadata": {},
     "output_type": "display_data"
    }
   ],
   "source": [
    "a"
   ]
  },
  {
   "cell_type": "markdown",
   "metadata": {},
   "source": [
    "###  1-3) Factors"
   ]
  },
  {
   "cell_type": "code",
   "execution_count": 56,
   "metadata": {},
   "outputs": [
    {
     "data": {
      "text/html": [
       "<dl class=dl-horizontal>\n",
       "\t<dt>2013-01-01</dt>\n",
       "\t\t<dd>1</dd>\n",
       "\t<dt>2013-01-02</dt>\n",
       "\t\t<dd>1</dd>\n",
       "\t<dt>2013-01-03</dt>\n",
       "\t\t<dd>1</dd>\n",
       "\t<dt>2013-01-04</dt>\n",
       "\t\t<dd>1</dd>\n",
       "\t<dt>2013-01-05</dt>\n",
       "\t\t<dd>1</dd>\n",
       "\t<dt>2013-01-06</dt>\n",
       "\t\t<dd>1</dd>\n",
       "</dl>\n"
      ],
      "text/latex": [
       "\\begin{description*}\n",
       "\\item[2013-01-01] 1\n",
       "\\item[2013-01-02] 1\n",
       "\\item[2013-01-03] 1\n",
       "\\item[2013-01-04] 1\n",
       "\\item[2013-01-05] 1\n",
       "\\item[2013-01-06] 1\n",
       "\\end{description*}\n"
      ],
      "text/markdown": [
       "2013-01-01\n",
       ":   12013-01-02\n",
       ":   12013-01-03\n",
       ":   12013-01-04\n",
       ":   12013-01-05\n",
       ":   12013-01-06\n",
       ":   1\n",
       "\n"
      ],
      "text/plain": [
       "2013-01-01 2013-01-02 2013-01-03 2013-01-04 2013-01-05 2013-01-06 \n",
       "         1          1          1          1          1          1 "
      ]
     },
     "metadata": {},
     "output_type": "display_data"
    }
   ],
   "source": [
    "summary(df_test$X)"
   ]
  },
  {
   "cell_type": "code",
   "execution_count": 60,
   "metadata": {},
   "outputs": [],
   "source": [
    "df_test$y = factor(df_test$X)"
   ]
  },
  {
   "cell_type": "code",
   "execution_count": 61,
   "metadata": {},
   "outputs": [
    {
     "data": {
      "text/html": [
       "<table>\n",
       "<thead><tr><th scope=col>X</th><th scope=col>A</th><th scope=col>B</th><th scope=col>C</th><th scope=col>D</th><th scope=col>y</th></tr></thead>\n",
       "<tbody>\n",
       "\t<tr><td>2013-01-01  </td><td> 1.7428451  </td><td> 0.8276120  </td><td>-0.8066323  </td><td> 0.306776369</td><td>2013-01-01  </td></tr>\n",
       "\t<tr><td>2013-01-02  </td><td> 1.3392247  </td><td>-0.7951656  </td><td>-1.7747302  </td><td> 0.437705419</td><td>2013-01-02  </td></tr>\n",
       "\t<tr><td>2013-01-03  </td><td> 0.6528488  </td><td>-1.5407709  </td><td>-1.4102171  </td><td> 1.700354566</td><td>2013-01-03  </td></tr>\n",
       "\t<tr><td>2013-01-04  </td><td> 0.2473966  </td><td>-1.3023405  </td><td>-0.8460928  </td><td> 0.699764788</td><td>2013-01-04  </td></tr>\n",
       "\t<tr><td>2013-01-05  </td><td>-0.7405302  </td><td> 0.7131242  </td><td>-1.1632046  </td><td>-0.002844136</td><td>2013-01-05  </td></tr>\n",
       "\t<tr><td>2013-01-06  </td><td>-1.1717375  </td><td> 0.5603410  </td><td> 0.9465587  </td><td>-0.615189048</td><td>2013-01-06  </td></tr>\n",
       "</tbody>\n",
       "</table>\n"
      ],
      "text/latex": [
       "\\begin{tabular}{r|llllll}\n",
       " X & A & B & C & D & y\\\\\n",
       "\\hline\n",
       "\t 2013-01-01   &  1.7428451   &  0.8276120   & -0.8066323   &  0.306776369 & 2013-01-01  \\\\\n",
       "\t 2013-01-02   &  1.3392247   & -0.7951656   & -1.7747302   &  0.437705419 & 2013-01-02  \\\\\n",
       "\t 2013-01-03   &  0.6528488   & -1.5407709   & -1.4102171   &  1.700354566 & 2013-01-03  \\\\\n",
       "\t 2013-01-04   &  0.2473966   & -1.3023405   & -0.8460928   &  0.699764788 & 2013-01-04  \\\\\n",
       "\t 2013-01-05   & -0.7405302   &  0.7131242   & -1.1632046   & -0.002844136 & 2013-01-05  \\\\\n",
       "\t 2013-01-06   & -1.1717375   &  0.5603410   &  0.9465587   & -0.615189048 & 2013-01-06  \\\\\n",
       "\\end{tabular}\n"
      ],
      "text/markdown": [
       "\n",
       "X | A | B | C | D | y | \n",
       "|---|---|---|---|---|---|\n",
       "| 2013-01-01   |  1.7428451   |  0.8276120   | -0.8066323   |  0.306776369 | 2013-01-01   | \n",
       "| 2013-01-02   |  1.3392247   | -0.7951656   | -1.7747302   |  0.437705419 | 2013-01-02   | \n",
       "| 2013-01-03   |  0.6528488   | -1.5407709   | -1.4102171   |  1.700354566 | 2013-01-03   | \n",
       "| 2013-01-04   |  0.2473966   | -1.3023405   | -0.8460928   |  0.699764788 | 2013-01-04   | \n",
       "| 2013-01-05   | -0.7405302   |  0.7131242   | -1.1632046   | -0.002844136 | 2013-01-05   | \n",
       "| 2013-01-06   | -1.1717375   |  0.5603410   |  0.9465587   | -0.615189048 | 2013-01-06   | \n",
       "\n",
       "\n"
      ],
      "text/plain": [
       "  X          A          B          C          D            y         \n",
       "1 2013-01-01  1.7428451  0.8276120 -0.8066323  0.306776369 2013-01-01\n",
       "2 2013-01-02  1.3392247 -0.7951656 -1.7747302  0.437705419 2013-01-02\n",
       "3 2013-01-03  0.6528488 -1.5407709 -1.4102171  1.700354566 2013-01-03\n",
       "4 2013-01-04  0.2473966 -1.3023405 -0.8460928  0.699764788 2013-01-04\n",
       "5 2013-01-05 -0.7405302  0.7131242 -1.1632046 -0.002844136 2013-01-05\n",
       "6 2013-01-06 -1.1717375  0.5603410  0.9465587 -0.615189048 2013-01-06"
      ]
     },
     "metadata": {},
     "output_type": "display_data"
    }
   ],
   "source": [
    "df_test"
   ]
  },
  {
   "cell_type": "code",
   "execution_count": 62,
   "metadata": {},
   "outputs": [
    {
     "data": {
      "text/plain": [
       "NULL"
      ]
     },
     "metadata": {},
     "output_type": "display_data"
    }
   ],
   "source": [
    "levels(df_test$C)"
   ]
  },
  {
   "cell_type": "markdown",
   "metadata": {},
   "source": [
    "### 1-4)  Data Frames"
   ]
  },
  {
   "cell_type": "code",
   "execution_count": 64,
   "metadata": {
    "collapsed": true
   },
   "outputs": [],
   "source": [
    "a <- c(1,2,3,4)\n",
    "b <- c(2,4,6,8)\n",
    "levels <- factor(c(\"A\",\"B\",\"A\",\"B\"))\n",
    "bubba <- data.frame(first=a,\n",
    "                    second=b,\n",
    "                    f=levels)"
   ]
  },
  {
   "cell_type": "code",
   "execution_count": 67,
   "metadata": {},
   "outputs": [
    {
     "data": {
      "text/html": [
       "'integer'"
      ],
      "text/latex": [
       "'integer'"
      ],
      "text/markdown": [
       "'integer'"
      ],
      "text/plain": [
       "[1] \"integer\""
      ]
     },
     "metadata": {},
     "output_type": "display_data"
    }
   ],
   "source": [
    "typeof(levels)"
   ]
  },
  {
   "cell_type": "code",
   "execution_count": 68,
   "metadata": {},
   "outputs": [
    {
     "data": {
      "text/html": [
       "'list'"
      ],
      "text/latex": [
       "'list'"
      ],
      "text/markdown": [
       "'list'"
      ],
      "text/plain": [
       "[1] \"list\""
      ]
     },
     "metadata": {},
     "output_type": "display_data"
    }
   ],
   "source": [
    "typeof(bubba)"
   ]
  },
  {
   "cell_type": "code",
   "execution_count": 69,
   "metadata": {},
   "outputs": [
    {
     "data": {
      "text/html": [
       "<table>\n",
       "<thead><tr><th scope=col>first</th><th scope=col>second</th><th scope=col>f</th></tr></thead>\n",
       "<tbody>\n",
       "\t<tr><td>1</td><td>2</td><td>A</td></tr>\n",
       "\t<tr><td>2</td><td>4</td><td>B</td></tr>\n",
       "\t<tr><td>3</td><td>6</td><td>A</td></tr>\n",
       "\t<tr><td>4</td><td>8</td><td>B</td></tr>\n",
       "</tbody>\n",
       "</table>\n"
      ],
      "text/latex": [
       "\\begin{tabular}{r|lll}\n",
       " first & second & f\\\\\n",
       "\\hline\n",
       "\t 1 & 2 & A\\\\\n",
       "\t 2 & 4 & B\\\\\n",
       "\t 3 & 6 & A\\\\\n",
       "\t 4 & 8 & B\\\\\n",
       "\\end{tabular}\n"
      ],
      "text/markdown": [
       "\n",
       "first | second | f | \n",
       "|---|---|---|---|\n",
       "| 1 | 2 | A | \n",
       "| 2 | 4 | B | \n",
       "| 3 | 6 | A | \n",
       "| 4 | 8 | B | \n",
       "\n",
       "\n"
      ],
      "text/plain": [
       "  first second f\n",
       "1 1     2      A\n",
       "2 2     4      B\n",
       "3 3     6      A\n",
       "4 4     8      B"
      ]
     },
     "metadata": {},
     "output_type": "display_data"
    }
   ],
   "source": [
    "bubba"
   ]
  },
  {
   "cell_type": "code",
   "execution_count": 70,
   "metadata": {},
   "outputs": [
    {
     "data": {
      "text/plain": [
       "     first          second    f    \n",
       " Min.   :1.00   Min.   :2.0   A:2  \n",
       " 1st Qu.:1.75   1st Qu.:3.5   B:2  \n",
       " Median :2.50   Median :5.0        \n",
       " Mean   :2.50   Mean   :5.0        \n",
       " 3rd Qu.:3.25   3rd Qu.:6.5        \n",
       " Max.   :4.00   Max.   :8.0        "
      ]
     },
     "metadata": {},
     "output_type": "display_data"
    }
   ],
   "source": [
    "summary(bubba)"
   ]
  },
  {
   "cell_type": "markdown",
   "metadata": {},
   "source": [
    "### 1-5) Logical"
   ]
  }
 ],
 "metadata": {
  "kernelspec": {
   "display_name": "R",
   "language": "R",
   "name": "ir"
  },
  "language_info": {
   "codemirror_mode": "r",
   "file_extension": ".r",
   "mimetype": "text/x-r-source",
   "name": "R",
   "pygments_lexer": "r",
   "version": "3.4.1"
  }
 },
 "nbformat": 4,
 "nbformat_minor": 2
}
