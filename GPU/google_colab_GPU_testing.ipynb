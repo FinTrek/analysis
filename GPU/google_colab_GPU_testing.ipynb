{
  "nbformat": 4,
  "nbformat_minor": 0,
  "metadata": {
    "colab": {
      "name": "google_colab_GPU_testing.ipynb",
      "version": "0.3.2",
      "views": {},
      "default_view": {},
      "provenance": [],
      "collapsed_sections": [],
      "toc_visible": true
    },
    "kernelspec": {
      "name": "python3",
      "display_name": "Python 3"
    },
    "accelerator": "GPU"
  },
  "cells": [
    {
      "metadata": {
        "id": "gIrI_lTyS4-m",
        "colab_type": "code",
        "colab": {
          "autoexec": {
            "startup": false,
            "wait_interval": 0
          }
        },
        "cellView": "code"
      },
      "cell_type": "code",
      "source": [
        "#@title 默认标题文本\n",
        "### Purpose \n",
        "# Running RNN model with google colab cloud GPU \n",
        "\n",
        "\n",
        "\n",
        "### Ref \n",
        "# https://medium.com/deep-learning-turkey/google-colab-free-gpu-tutorial-e113627b9f5d\n",
        "# https://www.kdnuggets.com/2018/02/google-colab-free-gpu-tutorial-tensorflow-keras-pytorch.html\n"
      ],
      "execution_count": 0,
      "outputs": []
    },
    {
      "metadata": {
        "id": "E9aLtzkUSN9k",
        "colab_type": "code",
        "colab": {
          "autoexec": {
            "startup": false,
            "wait_interval": 0
          }
        }
      },
      "cell_type": "code",
      "source": [
        "# import libaray \n",
        "import tensorflow as tf "
      ],
      "execution_count": 0,
      "outputs": []
    },
    {
      "metadata": {
        "id": "8yCmsTEgSRvZ",
        "colab_type": "code",
        "colab": {
          "autoexec": {
            "startup": false,
            "wait_interval": 0
          },
          "base_uri": "https://localhost:8080/",
          "height": 34
        },
        "outputId": "80e0ee16-22c2-4bbe-9824-a60d41b1a6db",
        "executionInfo": {
          "status": "ok",
          "timestamp": 1523778778094,
          "user_tz": -60,
          "elapsed": 424,
          "user": {
            "displayName": "YEN NAN LIU",
            "photoUrl": "//lh6.googleusercontent.com/-PXoWfJ5Ktpk/AAAAAAAAAAI/AAAAAAAAAGU/YJzY3VNnM5M/s50-c-k-no/photo.jpg",
            "userId": "109781089747495376450"
          }
        }
      },
      "cell_type": "code",
      "source": [
        "tf"
      ],
      "execution_count": 2,
      "outputs": [
        {
          "output_type": "execute_result",
          "data": {
            "text/plain": [
              "<module 'tensorflow' from '/usr/local/lib/python3.6/dist-packages/tensorflow/__init__.py'>"
            ]
          },
          "metadata": {
            "tags": []
          },
          "execution_count": 2
        }
      ]
    },
    {
      "metadata": {
        "id": "UYqAUB9kSRyn",
        "colab_type": "code",
        "colab": {
          "autoexec": {
            "startup": false,
            "wait_interval": 0
          },
          "base_uri": "https://localhost:8080/",
          "height": 238
        },
        "outputId": "70cfd5c5-17bf-4186-a5ed-8f92d3ec3e28",
        "executionInfo": {
          "status": "ok",
          "timestamp": 1523778779496,
          "user_tz": -60,
          "elapsed": 1171,
          "user": {
            "displayName": "YEN NAN LIU",
            "photoUrl": "//lh6.googleusercontent.com/-PXoWfJ5Ktpk/AAAAAAAAAAI/AAAAAAAAAGU/YJzY3VNnM5M/s50-c-k-no/photo.jpg",
            "userId": "109781089747495376450"
          }
        }
      },
      "cell_type": "code",
      "source": [
        "# check GPU, CPU version \n",
        "from tensorflow.python.client import device_lib\n",
        "device_lib.list_local_devices()"
      ],
      "execution_count": 3,
      "outputs": [
        {
          "output_type": "execute_result",
          "data": {
            "text/plain": [
              "[name: \"/device:CPU:0\"\n",
              " device_type: \"CPU\"\n",
              " memory_limit: 268435456\n",
              " locality {\n",
              " }\n",
              " incarnation: 9721905277999497725, name: \"/device:GPU:0\"\n",
              " device_type: \"GPU\"\n",
              " memory_limit: 11288962663\n",
              " locality {\n",
              "   bus_id: 1\n",
              " }\n",
              " incarnation: 1494285288010990047\n",
              " physical_device_desc: \"device: 0, name: Tesla K80, pci bus id: 0000:00:04.0, compute capability: 3.7\"]"
            ]
          },
          "metadata": {
            "tags": []
          },
          "execution_count": 3
        }
      ]
    },
    {
      "metadata": {
        "id": "FoPOiSLsSf9y",
        "colab_type": "code",
        "colab": {
          "autoexec": {
            "startup": false,
            "wait_interval": 0
          },
          "base_uri": "https://localhost:8080/",
          "height": 34
        },
        "outputId": "344a7fad-ecd0-40d5-86f0-0d5a7c458dca",
        "executionInfo": {
          "status": "ok",
          "timestamp": 1523778780029,
          "user_tz": -60,
          "elapsed": 494,
          "user": {
            "displayName": "YEN NAN LIU",
            "photoUrl": "//lh6.googleusercontent.com/-PXoWfJ5Ktpk/AAAAAAAAAAI/AAAAAAAAAGU/YJzY3VNnM5M/s50-c-k-no/photo.jpg",
            "userId": "109781089747495376450"
          }
        }
      },
      "cell_type": "code",
      "source": [
        "# check GPU name \n",
        "tf.test.gpu_device_name()"
      ],
      "execution_count": 4,
      "outputs": [
        {
          "output_type": "execute_result",
          "data": {
            "text/plain": [
              "'/device:GPU:0'"
            ]
          },
          "metadata": {
            "tags": []
          },
          "execution_count": 4
        }
      ]
    },
    {
      "metadata": {
        "id": "1rrwy2pLS-j5",
        "colab_type": "code",
        "colab": {
          "autoexec": {
            "startup": false,
            "wait_interval": 0
          },
          "base_uri": "https://localhost:8080/",
          "height": 102
        },
        "outputId": "c3e17194-84a4-461f-c456-46f53af90c5c",
        "executionInfo": {
          "status": "ok",
          "timestamp": 1523779111674,
          "user_tz": -60,
          "elapsed": 2142,
          "user": {
            "displayName": "YEN NAN LIU",
            "photoUrl": "//lh6.googleusercontent.com/-PXoWfJ5Ktpk/AAAAAAAAAAI/AAAAAAAAAGU/YJzY3VNnM5M/s50-c-k-no/photo.jpg",
            "userId": "109781089747495376450"
          }
        }
      },
      "cell_type": "code",
      "source": [
        "# get the demo repo \n",
        "!git clone  https://github.com/yennanliu/sequence_predictor.git"
      ],
      "execution_count": 7,
      "outputs": [
        {
          "output_type": "stream",
          "text": [
            "Cloning into 'sequence_predictor'...\n",
            "remote: Counting objects: 54, done.\u001b[K\n",
            "remote: Compressing objects: 100% (43/43), done.\u001b[K\n",
            "remote: Total 54 (delta 10), reused 49 (delta 8), pack-reused 0\u001b[K\n",
            "Unpacking objects: 100% (54/54), done.\n"
          ],
          "name": "stdout"
        }
      ]
    },
    {
      "metadata": {
        "id": "F8SoDRadTELQ",
        "colab_type": "code",
        "colab": {
          "autoexec": {
            "startup": false,
            "wait_interval": 0
          },
          "base_uri": "https://localhost:8080/",
          "height": 34
        },
        "outputId": "19c584cf-6720-423d-a2bb-53a50b1db3ce",
        "executionInfo": {
          "status": "ok",
          "timestamp": 1523778866430,
          "user_tz": -60,
          "elapsed": 736,
          "user": {
            "displayName": "YEN NAN LIU",
            "photoUrl": "//lh6.googleusercontent.com/-PXoWfJ5Ktpk/AAAAAAAAAAI/AAAAAAAAAGU/YJzY3VNnM5M/s50-c-k-no/photo.jpg",
            "userId": "109781089747495376450"
          }
        }
      },
      "cell_type": "code",
      "source": [
        "pwd"
      ],
      "execution_count": 5,
      "outputs": [
        {
          "output_type": "execute_result",
          "data": {
            "text/plain": [
              "'/content'"
            ]
          },
          "metadata": {
            "tags": []
          },
          "execution_count": 5
        }
      ]
    },
    {
      "metadata": {
        "id": "tdPKZItXTFPt",
        "colab_type": "code",
        "colab": {
          "autoexec": {
            "startup": false,
            "wait_interval": 0
          },
          "base_uri": "https://localhost:8080/",
          "height": 34
        },
        "outputId": "0d62cce1-5a02-4078-c984-90703184f4ba",
        "executionInfo": {
          "status": "ok",
          "timestamp": 1523779126750,
          "user_tz": -60,
          "elapsed": 1644,
          "user": {
            "displayName": "YEN NAN LIU",
            "photoUrl": "//lh6.googleusercontent.com/-PXoWfJ5Ktpk/AAAAAAAAAAI/AAAAAAAAAGU/YJzY3VNnM5M/s50-c-k-no/photo.jpg",
            "userId": "109781089747495376450"
          }
        }
      },
      "cell_type": "code",
      "source": [
        "ls"
      ],
      "execution_count": 10,
      "outputs": [
        {
          "output_type": "stream",
          "text": [
            "\u001b[0m\u001b[01;34mdata\u001b[0m/  data_fix.py  data_prepare.py  README.md  RNN_tf_mnist.py  RNN_tf_test.py\r\n"
          ],
          "name": "stdout"
        }
      ]
    },
    {
      "metadata": {
        "id": "PLZs_J9eUCIr",
        "colab_type": "code",
        "colab": {
          "autoexec": {
            "startup": false,
            "wait_interval": 0
          },
          "base_uri": "https://localhost:8080/",
          "height": 34
        },
        "outputId": "cc9ab6c9-bd6c-459c-c0b1-7a4c2ae75d4e",
        "executionInfo": {
          "status": "ok",
          "timestamp": 1523779123172,
          "user_tz": -60,
          "elapsed": 493,
          "user": {
            "displayName": "YEN NAN LIU",
            "photoUrl": "//lh6.googleusercontent.com/-PXoWfJ5Ktpk/AAAAAAAAAAI/AAAAAAAAAGU/YJzY3VNnM5M/s50-c-k-no/photo.jpg",
            "userId": "109781089747495376450"
          }
        }
      },
      "cell_type": "code",
      "source": [
        "cd sequence_predictor/"
      ],
      "execution_count": 9,
      "outputs": [
        {
          "output_type": "stream",
          "text": [
            "/content/sequence_predictor\n"
          ],
          "name": "stdout"
        }
      ]
    },
    {
      "metadata": {
        "id": "DEaLEWy-Unw4",
        "colab_type": "code",
        "colab": {
          "autoexec": {
            "startup": false,
            "wait_interval": 0
          }
        }
      },
      "cell_type": "code",
      "source": [
        "######################## run the RNN demo code in repo  ########################"
      ],
      "execution_count": 0,
      "outputs": []
    },
    {
      "metadata": {
        "id": "In5qaJnSUEtI",
        "colab_type": "code",
        "colab": {
          "autoexec": {
            "startup": false,
            "wait_interval": 0
          },
          "base_uri": "https://localhost:8080/",
          "height": 1363
        },
        "outputId": "32764475-ec0a-4a4c-f050-64a6b1a06a05",
        "executionInfo": {
          "status": "ok",
          "timestamp": 1523779349628,
          "user_tz": -60,
          "elapsed": 204194,
          "user": {
            "displayName": "YEN NAN LIU",
            "photoUrl": "//lh6.googleusercontent.com/-PXoWfJ5Ktpk/AAAAAAAAAAI/AAAAAAAAAGU/YJzY3VNnM5M/s50-c-k-no/photo.jpg",
            "userId": "109781089747495376450"
          }
        }
      },
      "cell_type": "code",
      "source": [
        "!python RNN_tf_mnist.py"
      ],
      "execution_count": 12,
      "outputs": [
        {
          "output_type": "stream",
          "text": [
            "/usr/local/lib/python3.6/dist-packages/h5py/__init__.py:36: FutureWarning: Conversion of the second argument of issubdtype from `float` to `np.floating` is deprecated. In future, it will be treated as `np.float64 == np.dtype(float).type`.\r\n",
            "  from ._conv import register_converters as _register_converters\n",
            "Successfully downloaded train-images-idx3-ubyte.gz 9912422 bytes.\n",
            "Extracting /tmp/data/train-images-idx3-ubyte.gz\n",
            "Successfully downloaded train-labels-idx1-ubyte.gz 28881 bytes.\n",
            "Extracting /tmp/data/train-labels-idx1-ubyte.gz\n",
            "Successfully downloaded t10k-images-idx3-ubyte.gz 1648877 bytes.\n",
            "Extracting /tmp/data/t10k-images-idx3-ubyte.gz\n",
            "Successfully downloaded t10k-labels-idx1-ubyte.gz 4542 bytes.\n",
            "Extracting /tmp/data/t10k-labels-idx1-ubyte.gz\n",
            "WARNING:tensorflow:From RNN_tf_mnist.py:76: softmax_cross_entropy_with_logits (from tensorflow.python.ops.nn_ops) is deprecated and will be removed in a future version.\n",
            "Instructions for updating:\n",
            "\n",
            "Future major versions of TensorFlow will allow gradients to flow\n",
            "into the labels input on backprop by default.\n",
            "\n",
            "See tf.nn.softmax_cross_entropy_with_logits_v2.\n",
            "\n",
            "2018-04-15 07:59:12.164785: I tensorflow/stream_executor/cuda/cuda_gpu_executor.cc:898] successful NUMA node read from SysFS had negative value (-1), but there must be at least one NUMA node, so returning NUMA node zero\n",
            "2018-04-15 07:59:12.165242: I tensorflow/core/common_runtime/gpu/gpu_device.cc:1212] Found device 0 with properties: \n",
            "name: Tesla K80 major: 3 minor: 7 memoryClockRate(GHz): 0.8235\n",
            "pciBusID: 0000:00:04.0\n",
            "totalMemory: 11.17GiB freeMemory: 504.38MiB\n",
            "2018-04-15 07:59:12.165315: I tensorflow/core/common_runtime/gpu/gpu_device.cc:1312] Adding visible gpu devices: 0\n",
            "2018-04-15 07:59:12.421926: I tensorflow/core/common_runtime/gpu/gpu_device.cc:993] Creating TensorFlow device (/job:localhost/replica:0/task:0/device:GPU:0 with 243 MB memory) -> physical GPU (device: 0, name: Tesla K80, pci bus id: 0000:00:04.0, compute capability: 3.7)\n",
            "Step 1, Minibatch Loss= 2.6296, Training Accuracy= 0.086\n",
            "Step 200, Minibatch Loss= 2.0548, Training Accuracy= 0.352\n",
            "Step 400, Minibatch Loss= 1.8185, Training Accuracy= 0.477\n",
            "Step 600, Minibatch Loss= 1.7338, Training Accuracy= 0.398\n",
            "Step 800, Minibatch Loss= 1.5787, Training Accuracy= 0.484\n",
            "Step 1000, Minibatch Loss= 1.4140, Training Accuracy= 0.555\n",
            "Step 1200, Minibatch Loss= 1.3053, Training Accuracy= 0.578\n",
            "Step 1400, Minibatch Loss= 1.3877, Training Accuracy= 0.570\n",
            "Step 1600, Minibatch Loss= 1.2838, Training Accuracy= 0.562\n",
            "Step 1800, Minibatch Loss= 1.2987, Training Accuracy= 0.578\n",
            "Step 2000, Minibatch Loss= 1.2689, Training Accuracy= 0.617\n",
            "Step 2200, Minibatch Loss= 1.2183, Training Accuracy= 0.562\n",
            "Step 2400, Minibatch Loss= 1.2122, Training Accuracy= 0.547\n",
            "Step 2600, Minibatch Loss= 1.1368, Training Accuracy= 0.688\n",
            "Step 2800, Minibatch Loss= 1.0097, Training Accuracy= 0.711\n",
            "Step 3000, Minibatch Loss= 1.0635, Training Accuracy= 0.664\n",
            "Step 3200, Minibatch Loss= 0.9777, Training Accuracy= 0.664\n",
            "Step 3400, Minibatch Loss= 0.9300, Training Accuracy= 0.719\n",
            "Step 3600, Minibatch Loss= 1.0488, Training Accuracy= 0.625\n",
            "Step 3800, Minibatch Loss= 0.8078, Training Accuracy= 0.766\n",
            "Step 4000, Minibatch Loss= 1.0278, Training Accuracy= 0.656\n",
            "Step 4200, Minibatch Loss= 0.8628, Training Accuracy= 0.734\n",
            "Step 4400, Minibatch Loss= 0.9556, Training Accuracy= 0.703\n",
            "Step 4600, Minibatch Loss= 1.0063, Training Accuracy= 0.688\n",
            "Step 4800, Minibatch Loss= 0.7606, Training Accuracy= 0.781\n",
            "Step 5000, Minibatch Loss= 0.7773, Training Accuracy= 0.719\n",
            "Step 5200, Minibatch Loss= 0.7717, Training Accuracy= 0.734\n",
            "Step 5400, Minibatch Loss= 0.6776, Training Accuracy= 0.797\n",
            "Step 5600, Minibatch Loss= 0.6831, Training Accuracy= 0.773\n",
            "Step 5800, Minibatch Loss= 0.6121, Training Accuracy= 0.797\n",
            "Step 6000, Minibatch Loss= 0.6472, Training Accuracy= 0.758\n"
          ],
          "name": "stdout"
        },
        {
          "output_type": "stream",
          "text": [
            "Step 6200, Minibatch Loss= 0.6214, Training Accuracy= 0.812\n",
            "Step 6400, Minibatch Loss= 0.6624, Training Accuracy= 0.789\n",
            "Step 6600, Minibatch Loss= 0.7402, Training Accuracy= 0.742\n",
            "Step 6800, Minibatch Loss= 0.5765, Training Accuracy= 0.766\n",
            "Step 7000, Minibatch Loss= 0.5415, Training Accuracy= 0.867\n",
            "Step 7200, Minibatch Loss= 0.5606, Training Accuracy= 0.836\n",
            "Step 7400, Minibatch Loss= 0.5029, Training Accuracy= 0.828\n",
            "Step 7600, Minibatch Loss= 0.6034, Training Accuracy= 0.812\n",
            "Step 7800, Minibatch Loss= 0.4284, Training Accuracy= 0.883\n",
            "Step 8000, Minibatch Loss= 0.4201, Training Accuracy= 0.852\n",
            "Step 8200, Minibatch Loss= 0.4616, Training Accuracy= 0.836\n",
            "Step 8400, Minibatch Loss= 0.5433, Training Accuracy= 0.820\n",
            "Step 8600, Minibatch Loss= 0.5111, Training Accuracy= 0.852\n",
            "Step 8800, Minibatch Loss= 0.3938, Training Accuracy= 0.891\n",
            "Step 9000, Minibatch Loss= 0.4653, Training Accuracy= 0.859\n",
            "Step 9200, Minibatch Loss= 0.5097, Training Accuracy= 0.812\n",
            "Step 9400, Minibatch Loss= 0.4618, Training Accuracy= 0.852\n",
            "Step 9600, Minibatch Loss= 0.4819, Training Accuracy= 0.852\n",
            "Step 9800, Minibatch Loss= 0.4166, Training Accuracy= 0.844\n",
            "Step 10000, Minibatch Loss= 0.4818, Training Accuracy= 0.836\n",
            "Optimization Finished!\n",
            "Testing Accuracy: 0.90625\n"
          ],
          "name": "stdout"
        }
      ]
    }
  ]
}