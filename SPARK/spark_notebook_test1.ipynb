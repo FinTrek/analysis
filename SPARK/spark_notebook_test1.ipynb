{
 "cells": [
  {
   "cell_type": "code",
   "execution_count": 21,
   "metadata": {
    "collapsed": false
   },
   "outputs": [
    {
     "data": {
      "text/plain": [
       "'\\n** RUN SPARK NOTEBOOK : \\n\\n$ source activate J_env ;  cd NOTEBOOK ; IPYTHON_OPTS=\"notebook\" /Users/GGV/spark/./bin/pyspark\\n\\n\\n** RUN SPARK NOTEBOOK and processing CSV files with Spark SQL \\n\\n$ source activate J_env ;  cd NOTEBOOK ; IPYTHON_OPTS=\\'notebook\\' /Users/GGV/spark/./bin/pyspark --packages com.databricks:spark-csv_2.11:1.2.0\\n\\n'"
      ]
     },
     "execution_count": 21,
     "metadata": {},
     "output_type": "execute_result"
    }
   ],
   "source": [
    "# Launch Spark ipython notebook\n",
    "\n",
    "\"\"\"\n",
    "** RUN SPARK NOTEBOOK : \n",
    "\n",
    "$ source activate J_env ;  cd NOTEBOOK ; IPYTHON_OPTS=\"notebook\" /Users/GGV/spark/./bin/pyspark\n",
    "\n",
    "\n",
    "** RUN SPARK NOTEBOOK and processing CSV files with Spark SQL \n",
    "\n",
    "$ source activate J_env ;  cd NOTEBOOK ; IPYTHON_OPTS='notebook' /Users/GGV/spark/./bin/pyspark --packages com.databricks:spark-csv_2.11:1.2.0\n",
    "\n",
    "\"\"\""
   ]
  },
  {
   "cell_type": "code",
   "execution_count": 1,
   "metadata": {
    "collapsed": false
   },
   "outputs": [
    {
     "data": {
      "text/plain": [
       "<pyspark.context.SparkContext at 0x104965750>"
      ]
     },
     "execution_count": 1,
     "metadata": {},
     "output_type": "execute_result"
    }
   ],
   "source": [
    "sc"
   ]
  },
  {
   "cell_type": "code",
   "execution_count": 2,
   "metadata": {
    "collapsed": false
   },
   "outputs": [],
   "source": [
    "import datetime as dt   \n",
    "import time\n",
    "import csv\n",
    "import requests\n",
    "import pandas as pd, numpy as np"
   ]
  },
  {
   "cell_type": "code",
   "execution_count": 3,
   "metadata": {
    "collapsed": false
   },
   "outputs": [
    {
     "data": {
      "text/html": [
       "<div>\n",
       "<table border=\"1\" class=\"dataframe\">\n",
       "  <thead>\n",
       "    <tr style=\"text-align: right;\">\n",
       "      <th></th>\n",
       "      <th>PassengerId</th>\n",
       "      <th>Pclass</th>\n",
       "      <th>Name</th>\n",
       "      <th>Sex</th>\n",
       "      <th>Age</th>\n",
       "      <th>SibSp</th>\n",
       "      <th>Parch</th>\n",
       "      <th>Ticket</th>\n",
       "      <th>Fare</th>\n",
       "      <th>Cabin</th>\n",
       "      <th>Embarked</th>\n",
       "    </tr>\n",
       "  </thead>\n",
       "  <tbody>\n",
       "    <tr>\n",
       "      <th>0</th>\n",
       "      <td>892</td>\n",
       "      <td>3</td>\n",
       "      <td>Kelly, Mr. James</td>\n",
       "      <td>male</td>\n",
       "      <td>34.5</td>\n",
       "      <td>0</td>\n",
       "      <td>0</td>\n",
       "      <td>330911</td>\n",
       "      <td>7.8292</td>\n",
       "      <td>NaN</td>\n",
       "      <td>Q</td>\n",
       "    </tr>\n",
       "    <tr>\n",
       "      <th>1</th>\n",
       "      <td>893</td>\n",
       "      <td>3</td>\n",
       "      <td>Wilkes, Mrs. James (Ellen Needs)</td>\n",
       "      <td>female</td>\n",
       "      <td>47.0</td>\n",
       "      <td>1</td>\n",
       "      <td>0</td>\n",
       "      <td>363272</td>\n",
       "      <td>7.0000</td>\n",
       "      <td>NaN</td>\n",
       "      <td>S</td>\n",
       "    </tr>\n",
       "    <tr>\n",
       "      <th>2</th>\n",
       "      <td>894</td>\n",
       "      <td>2</td>\n",
       "      <td>Myles, Mr. Thomas Francis</td>\n",
       "      <td>male</td>\n",
       "      <td>62.0</td>\n",
       "      <td>0</td>\n",
       "      <td>0</td>\n",
       "      <td>240276</td>\n",
       "      <td>9.6875</td>\n",
       "      <td>NaN</td>\n",
       "      <td>Q</td>\n",
       "    </tr>\n",
       "    <tr>\n",
       "      <th>3</th>\n",
       "      <td>895</td>\n",
       "      <td>3</td>\n",
       "      <td>Wirz, Mr. Albert</td>\n",
       "      <td>male</td>\n",
       "      <td>27.0</td>\n",
       "      <td>0</td>\n",
       "      <td>0</td>\n",
       "      <td>315154</td>\n",
       "      <td>8.6625</td>\n",
       "      <td>NaN</td>\n",
       "      <td>S</td>\n",
       "    </tr>\n",
       "    <tr>\n",
       "      <th>4</th>\n",
       "      <td>896</td>\n",
       "      <td>3</td>\n",
       "      <td>Hirvonen, Mrs. Alexander (Helga E Lindqvist)</td>\n",
       "      <td>female</td>\n",
       "      <td>22.0</td>\n",
       "      <td>1</td>\n",
       "      <td>1</td>\n",
       "      <td>3101298</td>\n",
       "      <td>12.2875</td>\n",
       "      <td>NaN</td>\n",
       "      <td>S</td>\n",
       "    </tr>\n",
       "  </tbody>\n",
       "</table>\n",
       "</div>"
      ],
      "text/plain": [
       "   PassengerId  Pclass                                          Name     Sex  \\\n",
       "0          892       3                              Kelly, Mr. James    male   \n",
       "1          893       3              Wilkes, Mrs. James (Ellen Needs)  female   \n",
       "2          894       2                     Myles, Mr. Thomas Francis    male   \n",
       "3          895       3                              Wirz, Mr. Albert    male   \n",
       "4          896       3  Hirvonen, Mrs. Alexander (Helga E Lindqvist)  female   \n",
       "\n",
       "    Age  SibSp  Parch   Ticket     Fare Cabin Embarked  \n",
       "0  34.5      0      0   330911   7.8292   NaN        Q  \n",
       "1  47.0      1      0   363272   7.0000   NaN        S  \n",
       "2  62.0      0      0   240276   9.6875   NaN        Q  \n",
       "3  27.0      0      0   315154   8.6625   NaN        S  \n",
       "4  22.0      1      1  3101298  12.2875   NaN        S  "
      ]
     },
     "execution_count": 3,
     "metadata": {},
     "output_type": "execute_result"
    }
   ],
   "source": [
    "# pandas dataframe  \n",
    "\n",
    "pdf=pd.read_csv('/Users/GGV/Desktop/test.csv')\n",
    "pdf.head()"
   ]
  },
  {
   "cell_type": "code",
   "execution_count": 23,
   "metadata": {
    "collapsed": false
   },
   "outputs": [
    {
     "name": "stdout",
     "output_type": "stream",
     "text": [
      "+---+---+\n",
      "|  A|  B|\n",
      "+---+---+\n",
      "|  1|  4|\n",
      "|  2|  5|\n",
      "|  3|  6|\n",
      "+---+---+\n",
      "\n"
     ]
    }
   ],
   "source": [
    "# Spark dataframe \n",
    "\n",
    "df = sqlCtx.createDataFrame([(1, 4), (2, 5), (3, 6)], [\"A\", \"B\"])\n",
    "df.show()"
   ]
  },
  {
   "cell_type": "code",
   "execution_count": 22,
   "metadata": {
    "collapsed": false
   },
   "outputs": [
    {
     "name": "stdout",
     "output_type": "stream",
     "text": [
      "+--------------------+\n",
      "|                  _1|\n",
      "+--------------------+\n",
      "|PassengerId,Pclas...|\n",
      "|892,3,\"Kelly, Mr....|\n",
      "|893,3,\"Wilkes, Mr...|\n",
      "|894,2,\"Myles, Mr....|\n",
      "|895,3,\"Wirz, Mr. ...|\n",
      "|896,3,\"Hirvonen, ...|\n",
      "|897,3,\"Svensson, ...|\n",
      "|898,3,\"Connolly, ...|\n",
      "|899,2,\"Caldwell, ...|\n",
      "|900,3,\"Abrahim, M...|\n",
      "|901,3,\"Davies, Mr...|\n",
      "|902,3,\"Ilieff, Mr...|\n",
      "|903,1,\"Jones, Mr....|\n",
      "|904,1,\"Snyder, Mr...|\n",
      "|905,2,\"Howard, Mr...|\n",
      "|906,1,\"Chaffee, M...|\n",
      "|907,2,\"del Carlo,...|\n",
      "|908,2,\"Keane, Mr....|\n",
      "|909,3,\"Assaf, Mr....|\n",
      "|910,3,\"Ilmakangas...|\n",
      "+--------------------+\n",
      "only showing top 20 rows\n",
      "\n"
     ]
    }
   ],
   "source": [
    "# Spark read .csv as dataframe \n",
    "\n",
    "df_ = sc.textFile(\"/Users/GGV/Desktop/test.csv\")\n",
    "df_ = df_.map(lambda x: (x, )).toDF()\n",
    "df_.show()"
   ]
  },
  {
   "cell_type": "code",
   "execution_count": 34,
   "metadata": {
    "collapsed": false
   },
   "outputs": [],
   "source": [
    "# read CSV with PySpark SQL \n",
    "\n",
    "from pyspark.sql import SQLContext\n",
    "sqlContext = SQLContext(sc)\n",
    "\n",
    "\n",
    "df_test = sqlContext.read.format('com.databricks.spark.csv').options(header='true', inferschema='true').load('/Users/GGV/Desktop/test.csv')"
   ]
  },
  {
   "cell_type": "code",
   "execution_count": 35,
   "metadata": {
    "collapsed": false
   },
   "outputs": [
    {
     "data": {
      "text/plain": [
       "pyspark.sql.dataframe.DataFrame"
      ]
     },
     "execution_count": 35,
     "metadata": {},
     "output_type": "execute_result"
    }
   ],
   "source": [
    "type(df_test)"
   ]
  },
  {
   "cell_type": "code",
   "execution_count": 36,
   "metadata": {
    "collapsed": false
   },
   "outputs": [
    {
     "name": "stdout",
     "output_type": "stream",
     "text": [
      "root\n",
      " |-- PassengerId: integer (nullable = true)\n",
      " |-- Pclass: integer (nullable = true)\n",
      " |-- Name: string (nullable = true)\n",
      " |-- Sex: string (nullable = true)\n",
      " |-- Age: double (nullable = true)\n",
      " |-- SibSp: integer (nullable = true)\n",
      " |-- Parch: integer (nullable = true)\n",
      " |-- Ticket: string (nullable = true)\n",
      " |-- Fare: double (nullable = true)\n",
      " |-- Cabin: string (nullable = true)\n",
      " |-- Embarked: string (nullable = true)\n",
      "\n"
     ]
    }
   ],
   "source": [
    "df_test.printSchema()"
   ]
  },
  {
   "cell_type": "code",
   "execution_count": 37,
   "metadata": {
    "collapsed": false
   },
   "outputs": [
    {
     "data": {
      "text/plain": [
       "['PassengerId',\n",
       " 'Pclass',\n",
       " 'Name',\n",
       " 'Sex',\n",
       " 'Age',\n",
       " 'SibSp',\n",
       " 'Parch',\n",
       " 'Ticket',\n",
       " 'Fare',\n",
       " 'Cabin',\n",
       " 'Embarked']"
      ]
     },
     "execution_count": 37,
     "metadata": {},
     "output_type": "execute_result"
    }
   ],
   "source": [
    "df_test.columns"
   ]
  },
  {
   "cell_type": "code",
   "execution_count": 39,
   "metadata": {
    "collapsed": false
   },
   "outputs": [
    {
     "name": "stdout",
     "output_type": "stream",
     "text": [
      "+-----------+------+--------------------+------+----+-----+-----+----------------+-------+-----+--------+\n",
      "|PassengerId|Pclass|                Name|   Sex| Age|SibSp|Parch|          Ticket|   Fare|Cabin|Embarked|\n",
      "+-----------+------+--------------------+------+----+-----+-----+----------------+-------+-----+--------+\n",
      "|        892|     3|    Kelly, Mr. James|  male|34.5|    0|    0|          330911| 7.8292|     |       Q|\n",
      "|        893|     3|Wilkes, Mrs. Jame...|female|47.0|    1|    0|          363272|    7.0|     |       S|\n",
      "|        894|     2|Myles, Mr. Thomas...|  male|62.0|    0|    0|          240276| 9.6875|     |       Q|\n",
      "|        895|     3|    Wirz, Mr. Albert|  male|27.0|    0|    0|          315154| 8.6625|     |       S|\n",
      "|        896|     3|Hirvonen, Mrs. Al...|female|22.0|    1|    1|         3101298|12.2875|     |       S|\n",
      "|        897|     3|Svensson, Mr. Joh...|  male|14.0|    0|    0|            7538|  9.225|     |       S|\n",
      "|        898|     3|Connolly, Miss. Kate|female|30.0|    0|    0|          330972| 7.6292|     |       Q|\n",
      "|        899|     2|Caldwell, Mr. Alb...|  male|26.0|    1|    1|          248738|   29.0|     |       S|\n",
      "|        900|     3|Abrahim, Mrs. Jos...|female|18.0|    0|    0|            2657| 7.2292|     |       C|\n",
      "|        901|     3|Davies, Mr. John ...|  male|21.0|    2|    0|       A/4 48871|  24.15|     |       S|\n",
      "|        902|     3|    Ilieff, Mr. Ylio|  male|null|    0|    0|          349220| 7.8958|     |       S|\n",
      "|        903|     1|Jones, Mr. Charle...|  male|46.0|    0|    0|             694|   26.0|     |       S|\n",
      "|        904|     1|Snyder, Mrs. John...|female|23.0|    1|    0|           21228|82.2667|  B45|       S|\n",
      "|        905|     2|Howard, Mr. Benjamin|  male|63.0|    1|    0|           24065|   26.0|     |       S|\n",
      "|        906|     1|Chaffee, Mrs. Her...|female|47.0|    1|    0|     W.E.P. 5734| 61.175|  E31|       S|\n",
      "|        907|     2|del Carlo, Mrs. S...|female|24.0|    1|    0|   SC/PARIS 2167|27.7208|     |       C|\n",
      "|        908|     2|   Keane, Mr. Daniel|  male|35.0|    0|    0|          233734|  12.35|     |       Q|\n",
      "|        909|     3|   Assaf, Mr. Gerios|  male|21.0|    0|    0|            2692|  7.225|     |       C|\n",
      "|        910|     3|Ilmakangas, Miss....|female|27.0|    1|    0|STON/O2. 3101270|  7.925|     |       S|\n",
      "|        911|     3|Assaf Khalil, Mrs...|female|45.0|    0|    0|            2696|  7.225|     |       C|\n",
      "+-----------+------+--------------------+------+----+-----+-----+----------------+-------+-----+--------+\n",
      "only showing top 20 rows\n",
      "\n"
     ]
    }
   ],
   "source": [
    "df_test.show()"
   ]
  },
  {
   "cell_type": "code",
   "execution_count": 45,
   "metadata": {
    "collapsed": true
   },
   "outputs": [],
   "source": [
    "# make pyspark dataframe as SQL \n",
    "\n",
    "df_test.registerTempTable(\"numeric\")"
   ]
  },
  {
   "cell_type": "code",
   "execution_count": 46,
   "metadata": {
    "collapsed": false
   },
   "outputs": [
    {
     "name": "stdout",
     "output_type": "stream",
     "text": [
      "+-----------+------+--------------------+------+----+-----+-----+------+------+-----+--------+\n",
      "|PassengerId|Pclass|                Name|   Sex| Age|SibSp|Parch|Ticket|  Fare|Cabin|Embarked|\n",
      "+-----------+------+--------------------+------+----+-----+-----+------+------+-----+--------+\n",
      "|        892|     3|    Kelly, Mr. James|  male|34.5|    0|    0|330911|7.8292|     |       Q|\n",
      "|        893|     3|Wilkes, Mrs. Jame...|female|47.0|    1|    0|363272|   7.0|     |       S|\n",
      "+-----------+------+--------------------+------+----+-----+-----+------+------+-----+--------+\n",
      "\n"
     ]
    }
   ],
   "source": [
    "# query \n",
    "\n",
    "sqlContext.sql(\"\"\"SELECT * FROM numeric limit 2 \"\"\").show()"
   ]
  }
 ],
 "metadata": {
  "kernelspec": {
   "display_name": "Python 2",
   "language": "python",
   "name": "python2"
  },
  "language_info": {
   "codemirror_mode": {
    "name": "ipython",
    "version": 2
   },
   "file_extension": ".py",
   "mimetype": "text/x-python",
   "name": "python",
   "nbconvert_exporter": "python",
   "pygments_lexer": "ipython2",
   "version": "2.7.11"
  }
 },
 "nbformat": 4,
 "nbformat_minor": 0
}
