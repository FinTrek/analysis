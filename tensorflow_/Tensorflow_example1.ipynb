{
 "cells": [
  {
   "cell_type": "markdown",
   "metadata": {},
   "source": [
    "# Intro \n",
    "- Tensorflow =  tensor + flow \n",
    "- Tensor = matrixs in general forms (1D (dimension),2D...N-D of data sets)\n",
    "- flow   = data pipeline \n",
    "\n",
    " ##### Via the linear computation pipeline of tensors, A deep learning model can be built \n",
    "\n",
    "Similiar as Numpy, Tensorflow using matrix ways dealing with data procrocess. The thing should be noticed is :  every element/variable/method should be declared via Tensorflow method first then  they can be implemented in Tensorflow workflow.\n",
    "\n",
    "- e.g. x =  tf.constant(1)\n",
    "\n",
    "\n",
    "# Basic objects  \n",
    "\n",
    "    - Constant \n",
    "    - Variable \n",
    "    - Session\n",
    "    - Tensor\n",
    "    - Placeholder \n",
    "    - Activation \n",
    "    \n",
    "# Basic framework of ML model \n",
    "  ##### Y = a*X + b \n",
    "  - X = input  \n",
    "  - a = slope\n",
    "  - b = intercept\n",
    "  - Y = prediction output \n",
    "  "
   ]
  },
  {
   "cell_type": "code",
   "execution_count": 1,
   "metadata": {},
   "outputs": [
    {
     "name": "stdout",
     "output_type": "stream",
     "text": [
      "Populating the interactive namespace from numpy and matplotlib\n"
     ]
    }
   ],
   "source": [
    "# import analysis library\n",
    "import pandas as pd, numpy as np \n",
    "import matplotlib.pyplot as plt\n",
    "%matplotlib inline\n",
    "%pylab inline\n",
    "plt.style.use('ggplot')\n",
    "\n",
    "import tensorflow as tf"
   ]
  },
  {
   "cell_type": "markdown",
   "metadata": {},
   "source": [
    "## 1) Constant "
   ]
  },
  {
   "cell_type": "code",
   "execution_count": 2,
   "metadata": {
    "collapsed": true
   },
   "outputs": [],
   "source": [
    "a = tf.constant(42)\n",
    "b = tf.constant(2)\n",
    "c = tf.constant([1,2,3])"
   ]
  },
  {
   "cell_type": "code",
   "execution_count": 3,
   "metadata": {},
   "outputs": [
    {
     "data": {
      "text/plain": [
       "<tf.Tensor 'Const:0' shape=() dtype=int32>"
      ]
     },
     "execution_count": 3,
     "metadata": {},
     "output_type": "execute_result"
    }
   ],
   "source": [
    "a"
   ]
  },
  {
   "cell_type": "code",
   "execution_count": 4,
   "metadata": {},
   "outputs": [
    {
     "data": {
      "text/plain": [
       "<tf.Tensor 'Const_2:0' shape=(3,) dtype=int32>"
      ]
     },
     "execution_count": 4,
     "metadata": {},
     "output_type": "execute_result"
    }
   ],
   "source": [
    "c"
   ]
  },
  {
   "cell_type": "code",
   "execution_count": 5,
   "metadata": {},
   "outputs": [
    {
     "data": {
      "text/plain": [
       "tensorflow.python.framework.ops.Tensor"
      ]
     },
     "execution_count": 5,
     "metadata": {},
     "output_type": "execute_result"
    }
   ],
   "source": [
    "type(a)"
   ]
  },
  {
   "cell_type": "markdown",
   "metadata": {},
   "source": [
    "## 2) Variable"
   ]
  },
  {
   "cell_type": "code",
   "execution_count": 6,
   "metadata": {
    "collapsed": true
   },
   "outputs": [],
   "source": [
    "x = tf.Variable(tf.random_uniform([1, 2], -1.0, 1.0))"
   ]
  },
  {
   "cell_type": "code",
   "execution_count": 7,
   "metadata": {},
   "outputs": [
    {
     "data": {
      "text/plain": [
       "<tf.Variable 'Variable:0' shape=(1, 2) dtype=float32_ref>"
      ]
     },
     "execution_count": 7,
     "metadata": {},
     "output_type": "execute_result"
    }
   ],
   "source": [
    "x"
   ]
  },
  {
   "cell_type": "code",
   "execution_count": 8,
   "metadata": {},
   "outputs": [
    {
     "data": {
      "text/plain": [
       "tensorflow.python.ops.variables.Variable"
      ]
     },
     "execution_count": 8,
     "metadata": {},
     "output_type": "execute_result"
    }
   ],
   "source": [
    "type(x)"
   ]
  },
  {
   "cell_type": "markdown",
   "metadata": {},
   "source": [
    "## 3) Session\n",
    "\n",
    "- A object that make elements in Tensowflow are executed\n",
    "- 2 ways run session\n"
   ]
  },
  {
   "cell_type": "code",
   "execution_count": 9,
   "metadata": {
    "collapsed": true
   },
   "outputs": [],
   "source": [
    "a = tf.constant(42)\n",
    "b = tf.constant(2)"
   ]
  },
  {
   "cell_type": "code",
   "execution_count": 10,
   "metadata": {},
   "outputs": [
    {
     "name": "stdout",
     "output_type": "stream",
     "text": [
      "42\n"
     ]
    }
   ],
   "source": [
    "# 1st way run session \n",
    "sess = tf.Session()\n",
    "print(sess.run(a))"
   ]
  },
  {
   "cell_type": "code",
   "execution_count": 11,
   "metadata": {},
   "outputs": [
    {
     "name": "stdout",
     "output_type": "stream",
     "text": [
      "44\n"
     ]
    }
   ],
   "source": [
    "print(sess.run(a+b))"
   ]
  },
  {
   "cell_type": "code",
   "execution_count": 12,
   "metadata": {},
   "outputs": [
    {
     "name": "stdout",
     "output_type": "stream",
     "text": [
      "42\n"
     ]
    }
   ],
   "source": [
    "# 2nd  way run session \n",
    "\n",
    "with tf.Session() as sess:\n",
    "    sess.run(a)\n",
    "    print (sess.run(a))\n",
    "    # to release the resources if session is no longer used  \n",
    "    sess.close()"
   ]
  },
  {
   "cell_type": "markdown",
   "metadata": {},
   "source": [
    "## 4) Tensor "
   ]
  },
  {
   "cell_type": "code",
   "execution_count": 15,
   "metadata": {
    "collapsed": true
   },
   "outputs": [],
   "source": [
    "# more constant (tensor) demo \n",
    "\n",
    "# fixed tenfors \n",
    "zero_tsr = tf.zeros([2, 5])\n",
    "ones_tsr = tf.ones([3, 3])\n",
    "filled_tsr = tf.fill([4, 4], 42)\n",
    "constant_tsr = tf.constant([1,2,3])\n",
    "\n",
    "\n",
    "# initialize variables based on the shape of other tensors\n",
    "zeros_similar = tf.zeros_like(constant_tsr)"
   ]
  },
  {
   "cell_type": "code",
   "execution_count": 19,
   "metadata": {},
   "outputs": [
    {
     "name": "stdout",
     "output_type": "stream",
     "text": [
      "[[ 0.  0.  0.  0.  0.]\n",
      " [ 0.  0.  0.  0.  0.]]\n",
      "\n",
      "[[ 1.  1.  1.]\n",
      " [ 1.  1.  1.]\n",
      " [ 1.  1.  1.]]\n",
      "\n",
      "[[42 42 42 42]\n",
      " [42 42 42 42]\n",
      " [42 42 42 42]\n",
      " [42 42 42 42]]\n",
      "\n",
      "[1 2 3]\n",
      "\n",
      "[0 0 0]\n"
     ]
    }
   ],
   "source": [
    "sess = tf.Session()\n",
    "\n",
    "print(sess.run(zero_tsr))\n",
    "print ('')\n",
    "print(sess.run(ones_tsr))\n",
    "print ('')\n",
    "print(sess.run(filled_tsr))\n",
    "print ('')\n",
    "print(sess.run(constant_tsr))\n",
    "print ('')\n",
    "print(sess.run(zeros_similar))"
   ]
  },
  {
   "cell_type": "code",
   "execution_count": 17,
   "metadata": {
    "collapsed": true
   },
   "outputs": [],
   "source": [
    "# similar as Numpy, Tensorflow support defined intervals tensors \n",
    "\n",
    "# linspace \n",
    "linear_tsr = tf.linspace(10.0, 12.0, 3, name=\"linspace\")\n",
    "linear_tsr2 = tf.linspace(10.0, 12.0, 10, name=\"linspace\")\n",
    "# range \n",
    "integer_seq_tsr = tf.range(start=6, limit=15, delta=3)\n",
    "# random \n",
    "randunif_tsr = tf.random_uniform([2, 3],minval=0, maxval=1)\n",
    "# random normal distribution \n",
    "randnorm_tsr = tf.random_normal([2, 3],mean=0.0, stddev=1.0)\n",
    "# random normal distribution  with certain bound \n",
    "runcnorm_tsr2 = tf.truncated_normal([2, 3], mean=0.0, stddev=1.0)"
   ]
  },
  {
   "cell_type": "code",
   "execution_count": 20,
   "metadata": {},
   "outputs": [
    {
     "name": "stdout",
     "output_type": "stream",
     "text": [
      "[ 10.  11.  12.]\n",
      "\n",
      "[ 10.          10.22222233  10.44444466  10.66666698  10.88888931\n",
      "  11.11111069  11.33333302  11.55555534  11.77777767  12.        ]\n",
      "\n",
      "[ 6  9 12]\n",
      "\n",
      "[[ 0.68589759  0.00293875  0.95540321]\n",
      " [ 0.01091421  0.06744373  0.58562887]]\n",
      "\n",
      "[[-0.62170088  0.25611123 -1.9105767 ]\n",
      " [-0.01142266  0.01355113 -0.60764706]]\n",
      "\n",
      "[[-0.93455225 -0.45197982  1.40479243]\n",
      " [-0.66926003 -0.21295108  0.37870347]]\n",
      "\n"
     ]
    }
   ],
   "source": [
    "sess = tf.Session()\n",
    "print(sess.run(linear_tsr))\n",
    "print ('')\n",
    "print(sess.run(linear_tsr2))\n",
    "print ('')\n",
    "print(sess.run(integer_seq_tsr))\n",
    "print ('')\n",
    "print(sess.run(randunif_tsr))\n",
    "print ('')\n",
    "print(sess.run(randnorm_tsr))\n",
    "print ('')\n",
    "print(sess.run(runcnorm_tsr2))\n",
    "print ('')"
   ]
  },
  {
   "cell_type": "code",
   "execution_count": 37,
   "metadata": {
    "collapsed": true
   },
   "outputs": [],
   "source": [
    "# some other tensor operationexamples \n",
    "\n",
    "identity_matrix = tf.diag([1.0, 1.0, 1.0])\n",
    "A = tf.truncated_normal([2, 3])\n",
    "B = tf.fill([2,3], 5.0)\n",
    "C = tf.random_uniform([3,3])\n",
    "D = tf.convert_to_tensor(np.array([[1., 2., 3.],[-3., -7.,\n",
    "-1.],[0., 5., -2.]]))"
   ]
  },
  {
   "cell_type": "code",
   "execution_count": 44,
   "metadata": {},
   "outputs": [
    {
     "name": "stdout",
     "output_type": "stream",
     "text": [
      "[[ 1.  0.  0.]\n",
      " [ 0.  1.  0.]\n",
      " [ 0.  0.  1.]]\n",
      "\n",
      "[[ 1.10964024  0.499006   -0.31502435]\n",
      " [ 0.36672869 -0.06131192  1.40994954]]\n",
      "\n",
      "[[ 5.  5.  5.]\n",
      " [ 5.  5.  5.]]\n",
      "\n",
      "[[ 0.90565217  0.59094918  0.10770488]\n",
      " [ 0.76289606  0.18972147  0.48293424]\n",
      " [ 0.9826057   0.62176013  0.56320763]]\n",
      "\n",
      "[[ 1.  2.  3.]\n",
      " [-3. -7. -1.]\n",
      " [ 0.  5. -2.]]\n"
     ]
    }
   ],
   "source": [
    "print (sess.run(identity_matrix))\n",
    "print ('')\n",
    "print (sess.run(A))\n",
    "print ('')\n",
    "print (sess.run(B))\n",
    "print ('')\n",
    "print (sess.run(C))\n",
    "print ('')\n",
    "print (sess.run(D))"
   ]
  },
  {
   "cell_type": "code",
   "execution_count": 40,
   "metadata": {},
   "outputs": [
    {
     "name": "stdout",
     "output_type": "stream",
     "text": [
      "[[ 5.12496424  4.00969362  5.30144644]\n",
      " [ 5.23104382  4.93098402  5.04328346]]\n"
     ]
    }
   ],
   "source": [
    "# addition\n",
    "print (sess.run(A+B))"
   ]
  },
  {
   "cell_type": "code",
   "execution_count": 41,
   "metadata": {},
   "outputs": [
    {
     "name": "stdout",
     "output_type": "stream",
     "text": [
      "[[ 0.  0.  0.]\n",
      " [ 0.  0.  0.]]\n"
     ]
    }
   ],
   "source": [
    "# subtraction\n",
    "print (sess.run(A-A))"
   ]
  },
  {
   "cell_type": "code",
   "execution_count": 42,
   "metadata": {},
   "outputs": [
    {
     "name": "stdout",
     "output_type": "stream",
     "text": [
      "[[ 5.  5.  5.]\n",
      " [ 5.  5.  5.]]\n"
     ]
    }
   ],
   "source": [
    "# Multiplication\n",
    "print(sess.run(tf.matmul(B, identity_matrix)))"
   ]
  },
  {
   "cell_type": "code",
   "execution_count": 45,
   "metadata": {},
   "outputs": [
    {
     "name": "stdout",
     "output_type": "stream",
     "text": [
      "[[ 0.86980426  0.37087607  0.82157695]\n",
      " [ 0.75118864  0.70828462  0.0340637 ]\n",
      " [ 0.7207917   0.45695841  0.60118389]]\n"
     ]
    }
   ],
   "source": [
    "# transpose\n",
    "print(sess.run(tf.transpose(C)))"
   ]
  },
  {
   "cell_type": "code",
   "execution_count": 48,
   "metadata": {},
   "outputs": [
    {
     "name": "stdout",
     "output_type": "stream",
     "text": [
      "[[-0.59021014 -0.61193705  1.52064621]\n",
      " [-0.18495844 -1.01657403 -0.36803964]]\n"
     ]
    }
   ],
   "source": [
    "# subtraction\n",
    "print (sess.run(A))"
   ]
  },
  {
   "cell_type": "code",
   "execution_count": 56,
   "metadata": {
    "scrolled": true
   },
   "outputs": [
    {
     "name": "stdout",
     "output_type": "stream",
     "text": [
      "-38.0\n"
     ]
    }
   ],
   "source": [
    "# determinant\n",
    "print(sess.run(tf.matrix_determinant(D)))"
   ]
  },
  {
   "cell_type": "code",
   "execution_count": 52,
   "metadata": {},
   "outputs": [
    {
     "name": "stdout",
     "output_type": "stream",
     "text": [
      "[[-0.5        -0.5        -0.5       ]\n",
      " [ 0.15789474  0.05263158  0.21052632]\n",
      " [ 0.39473684  0.13157895  0.02631579]]\n"
     ]
    }
   ],
   "source": [
    "# inverse \n",
    "print(sess.run(tf.matrix_inverse(D)))"
   ]
  },
  {
   "cell_type": "code",
   "execution_count": 69,
   "metadata": {},
   "outputs": [
    {
     "name": "stdout",
     "output_type": "stream",
     "text": [
      "[-10.65907521  -0.22750691   2.88658212]\n"
     ]
    }
   ],
   "source": [
    "### eigenvalue \n",
    "print(sess.run(tf.self_adjoint_eig(D)[0]))"
   ]
  },
  {
   "cell_type": "code",
   "execution_count": 70,
   "metadata": {},
   "outputs": [
    {
     "name": "stdout",
     "output_type": "stream",
     "text": [
      "[[ 0.21749542  0.63250104 -0.74339638]\n",
      " [ 0.84526515  0.2587998   0.46749277]\n",
      " [-0.4880805   0.73004459  0.47834331]]\n"
     ]
    }
   ],
   "source": [
    "### eigenvectors \n",
    "print(sess.run(tf.self_adjoint_eig(D))[1])"
   ]
  },
  {
   "cell_type": "code",
   "execution_count": 75,
   "metadata": {},
   "outputs": [
    {
     "name": "stdout",
     "output_type": "stream",
     "text": [
      "0\n",
      "0.75\n",
      "0.0\n",
      "2.0\n"
     ]
    }
   ],
   "source": [
    "# divide\n",
    "print(sess.run(tf.div(3,4)))\n",
    "print(sess.run(tf.truediv(3,4)))\n",
    "print(sess.run(tf.floordiv(3.0,4.0)))\n",
    "\n",
    "# mod \n",
    "print(sess.run(tf.mod(22.0, 5.0)))"
   ]
  },
  {
   "cell_type": "code",
   "execution_count": 79,
   "metadata": {},
   "outputs": [
    {
     "name": "stdout",
     "output_type": "stream",
     "text": [
      "362\n"
     ]
    }
   ],
   "source": [
    "# other examples :\n",
    "# https://www.tensorflow.org/api_docs/python/tf/subtract\n",
    "# Returns x - y element-wise.\n",
    "\n",
    "def custom_polynomial(value):\n",
    "    return(tf.subtract(3 * tf.square(value), value) + 10)\n",
    "\n",
    "print(sess.run(custom_polynomial(11)))"
   ]
  },
  {
   "cell_type": "markdown",
   "metadata": {},
   "source": [
    "## 5) Placeholder\n",
    "- Placeholders is the object that allow you to feed in\n",
    "  data of a specific type and shape and depend on the results of the \n",
    "  computational graph, such as the expected outcome of a computation."
   ]
  },
  {
   "cell_type": "code",
   "execution_count": 21,
   "metadata": {
    "collapsed": true
   },
   "outputs": [],
   "source": [
    "# placeholder\n",
    "x1 = tf.placeholder(tf.float32, shape=(3, 3))\n",
    "\n",
    "# tf.matmul : x1 * x1 \n",
    "y1 = tf.matmul(x1, x1)\n",
    "\n",
    "# tf.matmul : y = tf.identity(x1), => y = x1 \n",
    "y = tf.identity(x1)"
   ]
  },
  {
   "cell_type": "code",
   "execution_count": 22,
   "metadata": {},
   "outputs": [
    {
     "name": "stdout",
     "output_type": "stream",
     "text": [
      "[[ 1.21436167  1.67842686  0.98959279]\n",
      " [ 1.57466221  1.69208622  1.32458973]\n",
      " [ 1.07482791  1.03398573  0.72431445]]\n",
      "\n",
      "[[ 0.70636511  0.5127427   0.92491919]\n",
      " [ 0.917032    0.86615187  0.50021511]\n",
      " [ 0.26511338  0.94292593  0.08625676]]\n"
     ]
    }
   ],
   "source": [
    "rand_array = np.random.rand(3, 3)\n",
    "\n",
    "print(sess.run(y1, feed_dict={x1: rand_array}))\n",
    "print ('')\n",
    "print(sess.run(y, feed_dict={x1: rand_array}))"
   ]
  },
  {
   "cell_type": "code",
   "execution_count": 23,
   "metadata": {
    "collapsed": true
   },
   "outputs": [],
   "source": [
    "# p. 9 \n",
    "# to be finished ... "
   ]
  },
  {
   "cell_type": "code",
   "execution_count": null,
   "metadata": {
    "collapsed": true
   },
   "outputs": [],
   "source": []
  },
  {
   "cell_type": "code",
   "execution_count": 36,
   "metadata": {},
   "outputs": [
    {
     "data": {
      "text/plain": [
       "array([[ 0.,  0.,  0.],\n",
       "       [ 0.,  0.,  0.]], dtype=float32)"
      ]
     },
     "execution_count": 36,
     "metadata": {},
     "output_type": "execute_result"
    }
   ],
   "source": [
    "(sess.run(B-B))"
   ]
  },
  {
   "cell_type": "code",
   "execution_count": 29,
   "metadata": {},
   "outputs": [
    {
     "data": {
      "text/plain": [
       "array([[ 1.,  2.,  3.],\n",
       "       [-3., -7., -1.],\n",
       "       [ 0.,  5., -2.]])"
      ]
     },
     "execution_count": 29,
     "metadata": {},
     "output_type": "execute_result"
    }
   ],
   "source": [
    "sess.run(D)"
   ]
  },
  {
   "cell_type": "markdown",
   "metadata": {},
   "source": [
    "## 6) Activation"
   ]
  },
  {
   "cell_type": "code",
   "execution_count": null,
   "metadata": {
    "collapsed": true
   },
   "outputs": [],
   "source": []
  }
 ],
 "metadata": {
  "kernelspec": {
   "display_name": "Python 3",
   "language": "python",
   "name": "python3"
  },
  "language_info": {
   "codemirror_mode": {
    "name": "ipython",
    "version": 3
   },
   "file_extension": ".py",
   "mimetype": "text/x-python",
   "name": "python",
   "nbconvert_exporter": "python",
   "pygments_lexer": "ipython3",
   "version": "3.4.5"
  }
 },
 "nbformat": 4,
 "nbformat_minor": 2
}
