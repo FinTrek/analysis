{
 "cells": [
  {
   "cell_type": "markdown",
   "metadata": {},
   "source": [
    "# Intro \n",
    "- Tensorflow =  tensor + flow \n",
    "- Tensor = matrixs in general forms (1D (dimension),2D...N-D of data sets)\n",
    "- flow   = data pipeline \n",
    "\n",
    " ##### Via the linear computation pipeline of tensors, A deep learning model can be built \n",
    "\n",
    "Similiar as Numpy, Tensorflow using matrix ways dealing with data procrocess. The thing should be noticed is :  every element/variable/method should be declared via Tensorflow method first then  they can be implemented in Tensorflow workflow.\n",
    "\n",
    "- e.g. x =  tf.constant(1)\n",
    "\n",
    "\n",
    "# Basic objects  \n",
    "\n",
    "    - Constant \n",
    "    - Variable \n",
    "    - Session\n",
    "    - Tensor\n",
    "    - Placeholder \n",
    "    - Activation \n",
    "    \n",
    "# Basic framework of ML model \n",
    "  ##### Y = a*X + b \n",
    "  - X = input  \n",
    "  - a = slope\n",
    "  - b = intercept\n",
    "  - Y = prediction output \n",
    "  "
   ]
  },
  {
   "cell_type": "code",
   "execution_count": 2,
   "metadata": {},
   "outputs": [
    {
     "name": "stdout",
     "output_type": "stream",
     "text": [
      "Populating the interactive namespace from numpy and matplotlib\n"
     ]
    }
   ],
   "source": [
    "# import analysis library\n",
    "import pandas as pd, numpy as np \n",
    "import matplotlib.pyplot as plt\n",
    "%matplotlib inline\n",
    "%pylab inline\n",
    "plt.style.use('ggplot')\n",
    "\n",
    "import tensorflow as tf"
   ]
  },
  {
   "cell_type": "markdown",
   "metadata": {},
   "source": [
    "## 1) Constant "
   ]
  },
  {
   "cell_type": "code",
   "execution_count": 9,
   "metadata": {
    "collapsed": true
   },
   "outputs": [],
   "source": [
    "a = tf.constant(42)\n",
    "b = tf.constant(2)\n",
    "c = tf.constant([1,2,3])"
   ]
  },
  {
   "cell_type": "code",
   "execution_count": 11,
   "metadata": {},
   "outputs": [
    {
     "data": {
      "text/plain": [
       "<tf.Tensor 'Const_3:0' shape=() dtype=int32>"
      ]
     },
     "execution_count": 11,
     "metadata": {},
     "output_type": "execute_result"
    }
   ],
   "source": [
    "a"
   ]
  },
  {
   "cell_type": "code",
   "execution_count": 10,
   "metadata": {},
   "outputs": [
    {
     "data": {
      "text/plain": [
       "<tf.Tensor 'Const_5:0' shape=(3,) dtype=int32>"
      ]
     },
     "execution_count": 10,
     "metadata": {},
     "output_type": "execute_result"
    }
   ],
   "source": [
    "c"
   ]
  },
  {
   "cell_type": "code",
   "execution_count": 8,
   "metadata": {},
   "outputs": [
    {
     "data": {
      "text/plain": [
       "tensorflow.python.framework.ops.Tensor"
      ]
     },
     "execution_count": 8,
     "metadata": {},
     "output_type": "execute_result"
    }
   ],
   "source": [
    "type(a)"
   ]
  },
  {
   "cell_type": "markdown",
   "metadata": {},
   "source": [
    "## 2) Variable"
   ]
  },
  {
   "cell_type": "code",
   "execution_count": 12,
   "metadata": {
    "collapsed": true
   },
   "outputs": [],
   "source": [
    "x = tf.Variable(tf.random_uniform([1, 2], -1.0, 1.0))"
   ]
  },
  {
   "cell_type": "code",
   "execution_count": 13,
   "metadata": {},
   "outputs": [
    {
     "data": {
      "text/plain": [
       "<tf.Variable 'Variable:0' shape=(1, 2) dtype=float32_ref>"
      ]
     },
     "execution_count": 13,
     "metadata": {},
     "output_type": "execute_result"
    }
   ],
   "source": [
    "x"
   ]
  },
  {
   "cell_type": "code",
   "execution_count": 14,
   "metadata": {},
   "outputs": [
    {
     "data": {
      "text/plain": [
       "tensorflow.python.ops.variables.Variable"
      ]
     },
     "execution_count": 14,
     "metadata": {},
     "output_type": "execute_result"
    }
   ],
   "source": [
    "type(x)"
   ]
  },
  {
   "cell_type": "markdown",
   "metadata": {},
   "source": [
    "## 3) Session\n",
    "\n",
    "- A object that make elements in Tensowflow are executed\n",
    "- 2 ways run session\n"
   ]
  },
  {
   "cell_type": "code",
   "execution_count": 26,
   "metadata": {
    "collapsed": true
   },
   "outputs": [],
   "source": [
    "a = tf.constant(42)\n",
    "b = tf.constant(2)"
   ]
  },
  {
   "cell_type": "code",
   "execution_count": 16,
   "metadata": {},
   "outputs": [
    {
     "name": "stdout",
     "output_type": "stream",
     "text": [
      "42\n"
     ]
    }
   ],
   "source": [
    "# 1st way run session \n",
    "sess = tf.Session()\n",
    "print(sess.run(a))"
   ]
  },
  {
   "cell_type": "code",
   "execution_count": 17,
   "metadata": {},
   "outputs": [
    {
     "name": "stdout",
     "output_type": "stream",
     "text": [
      "44\n"
     ]
    }
   ],
   "source": [
    "print(sess.run(a+b))"
   ]
  },
  {
   "cell_type": "code",
   "execution_count": 20,
   "metadata": {},
   "outputs": [
    {
     "name": "stdout",
     "output_type": "stream",
     "text": [
      "42\n"
     ]
    }
   ],
   "source": [
    "# 2nd  way run session \n",
    "\n",
    "with tf.Session() as sess:\n",
    "    sess.run(a)\n",
    "    print (sess.run(a))\n",
    "    # to release the resources if session is no longer used  \n",
    "    sess.close()"
   ]
  },
  {
   "cell_type": "markdown",
   "metadata": {},
   "source": [
    "## 4) Tensor "
   ]
  },
  {
   "cell_type": "code",
   "execution_count": 41,
   "metadata": {},
   "outputs": [],
   "source": [
    "# more constant (tensor) demo \n",
    "\n",
    "# fixed tenfors \n",
    "zero_tsr = tf.zeros([2, 5])\n",
    "ones_tsr = tf.ones([3, 3])\n",
    "filled_tsr = tf.fill([4, 4], 42)\n",
    "constant_tsr = tf.constant([1,2,3])\n",
    "\n",
    "\n",
    "# initialize variables based on the shape of other tensors\n",
    "zeros_similar = tf.zeros_like(constant_tsr)"
   ]
  },
  {
   "cell_type": "code",
   "execution_count": 42,
   "metadata": {},
   "outputs": [
    {
     "name": "stdout",
     "output_type": "stream",
     "text": [
      "[[ 0.  0.  0.  0.  0.]\n",
      " [ 0.  0.  0.  0.  0.]]\n",
      "\n",
      "[[ 1.  1.  1.]\n",
      " [ 1.  1.  1.]\n",
      " [ 1.  1.  1.]]\n",
      "\n",
      "[[42 42 42 42]\n",
      " [42 42 42 42]\n",
      " [42 42 42 42]\n",
      " [42 42 42 42]]\n",
      "\n",
      "[1 2 3]\n",
      "\n",
      "[0 0 0]\n"
     ]
    }
   ],
   "source": [
    "print(sess.run(zero_tsr))\n",
    "print ('')\n",
    "print(sess.run(ones_tsr))\n",
    "print ('')\n",
    "print(sess.run(filled_tsr))\n",
    "print ('')\n",
    "print(sess.run(constant_tsr))\n",
    "print ('')\n",
    "print(sess.run(zeros_similar))"
   ]
  },
  {
   "cell_type": "code",
   "execution_count": 65,
   "metadata": {},
   "outputs": [],
   "source": [
    "# similar as Numpy, Tensorflow support defined intervals tensors \n",
    "\n",
    "# linspace \n",
    "linear_tsr = tf.linspace(10.0, 12.0, 3, name=\"linspace\")\n",
    "linear_tsr2 = tf.linspace(10.0, 12.0, 10, name=\"linspace\")\n",
    "# range \n",
    "integer_seq_tsr = tf.range(start=6, limit=15, delta=3)\n",
    "# random \n",
    "randunif_tsr = tf.random_uniform([2, 3],minval=0, maxval=1)\n",
    "# random normal distribution \n",
    "randnorm_tsr = tf.random_normal([2, 3],mean=0.0, stddev=1.0)\n",
    "# random normal distribution  with certain bound \n",
    "runcnorm_tsr2 = tf.truncated_normal([2, 3], mean=0.0, stddev=1.0)"
   ]
  },
  {
   "cell_type": "code",
   "execution_count": 66,
   "metadata": {},
   "outputs": [
    {
     "name": "stdout",
     "output_type": "stream",
     "text": [
      "[ 10.  11.  12.]\n",
      "\n",
      "[ 10.          10.22222233  10.44444466  10.66666698  10.88888931\n",
      "  11.11111069  11.33333302  11.55555534  11.77777767  12.        ]\n",
      "\n",
      "[ 6  9 12]\n",
      "\n",
      "[[ 0.41237617  0.93409348  0.64434648]\n",
      " [ 0.79733586  0.49604332  0.96494699]]\n",
      "\n",
      "[[ 1.87211275  1.12922251 -1.56717575]\n",
      " [-0.14216419 -0.90267384  1.11291623]]\n",
      "\n",
      "[[ 1.25072265 -0.44186497  1.17872536]\n",
      " [ 0.31544462  0.00555641 -0.04740591]]\n",
      "\n"
     ]
    }
   ],
   "source": [
    "print(sess.run(linear_tsr))\n",
    "print ('')\n",
    "print(sess.run(linear_tsr2))\n",
    "print ('')\n",
    "print(sess.run(integer_seq_tsr))\n",
    "print ('')\n",
    "print(sess.run(randunif_tsr))\n",
    "print ('')\n",
    "print(sess.run(randnorm_tsr))\n",
    "print ('')\n",
    "print(sess.run(runcnorm_tsr2))\n",
    "print ('')"
   ]
  },
  {
   "cell_type": "code",
   "execution_count": null,
   "metadata": {
    "collapsed": true
   },
   "outputs": [],
   "source": []
  },
  {
   "cell_type": "markdown",
   "metadata": {},
   "source": [
    "## 5) Placeholder\n",
    "- Placeholders is the object that allow you to feed in\n",
    "  data of a specific type and shape and depend on the results of the \n",
    "  computational graph, such as the expected outcome of a computation."
   ]
  },
  {
   "cell_type": "code",
   "execution_count": 106,
   "metadata": {},
   "outputs": [],
   "source": [
    "# placeholder\n",
    "x1 = tf.placeholder(tf.float32, shape=(3, 3))\n",
    "\n",
    "# tf.matmul : x1 * x1 \n",
    "y1 = tf.matmul(x1, x1)\n",
    "\n",
    "# tf.matmul : y = tf.identity(x1), => y = x1 \n",
    "y = tf.identity(x1)"
   ]
  },
  {
   "cell_type": "code",
   "execution_count": 105,
   "metadata": {},
   "outputs": [
    {
     "name": "stdout",
     "output_type": "stream",
     "text": [
      "[[ 0.67195678  1.75412583  0.95771956]\n",
      " [ 0.65319479  1.65666497  0.86883068]\n",
      " [ 0.1403054   1.44914865  1.4819591 ]]\n",
      "\n",
      "[[ 0.06807726  0.94154024  0.93124032]\n",
      " [ 0.0755524   0.8373245   0.91343814]\n",
      " [ 0.64020705  0.9682287   0.036816  ]]\n"
     ]
    }
   ],
   "source": [
    "rand_array = np.random.rand(3, 3)\n",
    "\n",
    "print(sess.run(y1, feed_dict={x1: rand_array}))\n",
    "print ('')\n",
    "print(sess.run(y, feed_dict={x1: rand_array}))"
   ]
  },
  {
   "cell_type": "code",
   "execution_count": 110,
   "metadata": {
    "collapsed": true
   },
   "outputs": [],
   "source": [
    "# p. 9 \n",
    "# to be finished ... "
   ]
  }
 ],
 "metadata": {
  "kernelspec": {
   "display_name": "Python 3",
   "language": "python",
   "name": "python3"
  },
  "language_info": {
   "codemirror_mode": {
    "name": "ipython",
    "version": 3
   },
   "file_extension": ".py",
   "mimetype": "text/x-python",
   "name": "python",
   "nbconvert_exporter": "python",
   "pygments_lexer": "ipython3",
   "version": "3.4.5"
  }
 },
 "nbformat": 4,
 "nbformat_minor": 2
}
