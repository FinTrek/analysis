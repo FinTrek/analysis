{
 "cells": [
  {
   "cell_type": "code",
   "execution_count": 5,
   "metadata": {
    "collapsed": true
   },
   "outputs": [],
   "source": [
    "import numpy as np\n",
    "import tensorflow as tf"
   ]
  },
  {
   "cell_type": "markdown",
   "metadata": {},
   "source": [
    "### 1) Placeholder \n",
    "\n",
    "\n",
    "- `Inserts a placeholder for a tensor that will be always fed.`\n",
    "\n",
    "- Important: This tensor will produce an error if evaluated. Its value must be fed using the feed_dict optional argument to` Session.run(), Tensor.eval(), or Operation.run().`\n",
    "\n",
    "- https://www.tensorflow.org/api_docs/python/tf/placeholder"
   ]
  },
  {
   "cell_type": "code",
   "execution_count": 7,
   "metadata": {},
   "outputs": [
    {
     "name": "stdout",
     "output_type": "stream",
     "text": [
      "[[ 253.75527954  261.87158203  244.90882874 ...,  254.05754089\n",
      "   248.30293274  250.91249084]\n",
      " [ 249.60842896  259.87332153  237.92939758 ...,  248.4634552   241.38673401\n",
      "   249.08851624]\n",
      " [ 254.79440308  259.11087036  244.22798157 ...,  251.71995544  251.7702179\n",
      "   257.38818359]\n",
      " ..., \n",
      " [ 265.86001587  269.46264648  252.43525696 ...,  258.26983643\n",
      "   265.74786377  260.43328857]\n",
      " [ 251.18569946  261.85906982  242.6166687  ...,  252.77784729\n",
      "   252.02915955  253.88792419]\n",
      " [ 247.42634583  256.31408691  236.52009583 ...,  244.33729553\n",
      "   248.54727173  246.6424408 ]]\n"
     ]
    }
   ],
   "source": [
    "x = tf.placeholder(tf.float32, shape=(1024, 1024))\n",
    "y = tf.matmul(x, x)\n",
    "\n",
    "with tf.Session() as sess:\n",
    "  #print(sess.run(y))  # ERROR: will fail because x was not fed.\n",
    "\n",
    "  rand_array = np.random.rand(1024, 1024)\n",
    "  print(sess.run(y, feed_dict={x: rand_array}))  # Will succeed."
   ]
  },
  {
   "cell_type": "code",
   "execution_count": 16,
   "metadata": {},
   "outputs": [
    {
     "data": {
      "text/plain": [
       "<tf.Tensor 'Placeholder_13:0' shape=(1024, 1024) dtype=float32>"
      ]
     },
     "execution_count": 16,
     "metadata": {},
     "output_type": "execute_result"
    }
   ],
   "source": [
    "x"
   ]
  },
  {
   "cell_type": "code",
   "execution_count": 22,
   "metadata": {},
   "outputs": [],
   "source": [
    "#sess.run(x)\n",
    "# would get following error msg :\n",
    "\n",
    "#InvalidArgumentError: You must feed a value for placeholder tensor 'Placeholder_13' with dtype float and shape [1024,1024]\n",
    "#\t [[Node: Placeholder_13 = Placeholder[dtype=DT_FLOAT, shape=[1024,1024], _device=\"/job:localhost/replica:0/task:0/cpu:0\"]()]]\n",
    "#\n",
    "#Caused by op 'Placeholder_13', defined at:"
   ]
  },
  {
   "cell_type": "code",
   "execution_count": 2,
   "metadata": {},
   "outputs": [
    {
     "name": "stdout",
     "output_type": "stream",
     "text": [
      "3.0\n",
      "[[ 6.  6.]\n",
      " [ 6.  6.]]\n"
     ]
    }
   ],
   "source": [
    "# example \n",
    "# credit \n",
    "# https://github.com/MorvanZhou/Tensorflow-Tutorial/blob/master/tutorial-contents/202_placeholder.py\n",
    "\n",
    "\n",
    "x1 = tf.placeholder(dtype=tf.float32, shape=None)\n",
    "y1 = tf.placeholder(dtype=tf.float32, shape=None)\n",
    "z1 = x1 + y1\n",
    "\n",
    "x2 = tf.placeholder(dtype=tf.float32, shape=[2, 1])\n",
    "y2 = tf.placeholder(dtype=tf.float32, shape=[1, 2])\n",
    "z2 = tf.matmul(x2, y2)\n",
    "\n",
    "with tf.Session() as sess:\n",
    "    # when only one operation to run\n",
    "    z1_value = sess.run(z1, feed_dict={x1: 1, y1: 2})\n",
    "\n",
    "    # when run multiple operations\n",
    "    z1_value, z2_value = sess.run(\n",
    "        [z1, z2],       # run them together\n",
    "        feed_dict={\n",
    "            x1: 1, y1: 2,\n",
    "            x2: [[2], [2]], y2: [[3, 3]]\n",
    "        })\n",
    "    print(z1_value)\n",
    "    print(z2_value)"
   ]
  }
 ],
 "metadata": {
  "kernelspec": {
   "display_name": "Python 3",
   "language": "python",
   "name": "python3"
  },
  "language_info": {
   "codemirror_mode": {
    "name": "ipython",
    "version": 3
   },
   "file_extension": ".py",
   "mimetype": "text/x-python",
   "name": "python",
   "nbconvert_exporter": "python",
   "pygments_lexer": "ipython3",
   "version": "3.4.5"
  }
 },
 "nbformat": 4,
 "nbformat_minor": 2
}
