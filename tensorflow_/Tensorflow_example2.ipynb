{
 "cells": [
  {
   "cell_type": "markdown",
   "metadata": {},
   "source": [
    "# Intro\n",
    "\n",
    "## The TensorFlow Way\n",
    "\n",
    "- Following  example1, here we demo key components of tensorflow operations\n",
    "https://github.com/yennanliu/analysis/blob/master/tensorflow_/Tensorflow_example1.ipynb\n",
    "\n",
    "\n",
    "\n",
    "- Operations in a Computational Graph\n",
    "- Layering Nested Operations\n",
    "- Working with Multiple Layers\n",
    "- Implementing Loss Functions\n",
    "- Implementing Back Propagation\n",
    "- Working with Batch and Stochastic Training\n",
    "- Combining Everything Together\n",
    "- Evaluating Models"
   ]
  },
  {
   "cell_type": "code",
   "execution_count": 1,
   "metadata": {},
   "outputs": [
    {
     "name": "stdout",
     "output_type": "stream",
     "text": [
      "Populating the interactive namespace from numpy and matplotlib\n"
     ]
    }
   ],
   "source": [
    "# import analysis library\n",
    "import pandas as pd, numpy as np \n",
    "import matplotlib.pyplot as plt\n",
    "%matplotlib inline\n",
    "%pylab inline\n",
    "import tensorflow as tf"
   ]
  },
  {
   "cell_type": "code",
   "execution_count": null,
   "metadata": {
    "collapsed": true
   },
   "outputs": [],
   "source": []
  },
  {
   "cell_type": "markdown",
   "metadata": {
    "collapsed": true
   },
   "source": [
    "## 1)  Computational Graph"
   ]
  },
  {
   "cell_type": "code",
   "execution_count": 2,
   "metadata": {},
   "outputs": [
    {
     "name": "stdout",
     "output_type": "stream",
     "text": [
      "3.0\n",
      "9.0\n",
      "15.0\n",
      "21.0\n",
      "27.0\n"
     ]
    }
   ],
   "source": [
    "#\n",
    "#\n",
    "# constant ---> multiply\n",
    "#                  ↑\n",
    "# placeholder ---- ↑\n",
    "#\n",
    "\n",
    "\n",
    "# operation as computational graph way \n",
    "\n",
    "x_vals = np.array([1., 3., 5., 7., 9.])\n",
    "x_data = tf.placeholder(tf.float32)\n",
    "m_const = tf.constant(3.)\n",
    "sess = tf.Session()\n",
    "# tf.mul ->  tf.multiply  in new vers tensorflow \n",
    "my_product = tf.multiply(x_data, m_const)\n",
    "for x_val in x_vals:\n",
    "    print(sess.run(my_product, feed_dict={x_data: x_val}))"
   ]
  },
  {
   "cell_type": "markdown",
   "metadata": {},
   "source": [
    "## 2) Layering Nested Operations"
   ]
  },
  {
   "cell_type": "code",
   "execution_count": 3,
   "metadata": {},
   "outputs": [
    {
     "name": "stdout",
     "output_type": "stream",
     "text": [
      "[[ 148.]\n",
      " [  94.]\n",
      " [  82.]]\n",
      "[[ 166.]\n",
      " [ 112.]\n",
      " [ 100.]]\n"
     ]
    }
   ],
   "source": [
    "# put multiple operations on the \n",
    "# same computational graph\n",
    "\n",
    "\n",
    "#\n",
    "#\n",
    "# constant_2 ---> multiply\n",
    "#                  ↑\n",
    "#                  ↑\n",
    "#                  ↑\n",
    "# constant_1 --> matmul_1\n",
    "#                 ↑\n",
    "# constant ---> matmul\n",
    "#                 ↑\n",
    "# placeholder ----↑\n",
    "\n",
    "\n",
    "sess = tf.Session()\n",
    "\n",
    "# 1 \n",
    "my_array = np.array([[1., 3., 5., 7., 9.],\n",
    "                     [-2., 0., 2., 4., 6.],\n",
    "                     [-6., -3., 0., 3., 6.]])\n",
    "x_vals = np.array([my_array, my_array + 1])\n",
    "x_data = tf.placeholder(tf.float32, shape=(3, 5))\n",
    "\n",
    "# 2 \n",
    "\n",
    "m1 = tf.constant([[1.],[0.],[-1.],[2.],[4.]])\n",
    "m2 = tf.constant([[3.]])\n",
    "a1 = tf.constant([[10.]])\n",
    "\n",
    "# 3 \n",
    "\n",
    "prod1 = tf.matmul(x_data, m1)\n",
    "prod2 = tf.matmul(prod1, m2)\n",
    "add1 = tf.add(prod2, a1)\n",
    "\n",
    "\n",
    "# 4 \n",
    "\n",
    "for x_val in x_vals:\n",
    "    print(sess.run(add1, feed_dict={x_data: x_val}))"
   ]
  },
  {
   "cell_type": "code",
   "execution_count": 4,
   "metadata": {
    "collapsed": true
   },
   "outputs": [],
   "source": [
    "# in case the  placeholder have an unknown amount of columns\n",
    "# then can write it as the form below :  \n",
    "# tf.placeholder(tf.float32, shape=(3,None))\n",
    "# "
   ]
  },
  {
   "cell_type": "markdown",
   "metadata": {},
   "source": [
    "## 3) Working with Multiple Layers"
   ]
  },
  {
   "cell_type": "code",
   "execution_count": 11,
   "metadata": {
    "collapsed": true
   },
   "outputs": [],
   "source": [
    "# create a sample 2D image with numpy. This image will be a 4x4 pixel\n",
    "# image. We will create it in four dimensions; \n",
    "# [image number, height, width, channel]\n",
    "\n",
    "x_shape = [1, 4, 4, 1]\n",
    "x_val = np.random.uniform(size=x_shape)"
   ]
  },
  {
   "cell_type": "code",
   "execution_count": 28,
   "metadata": {},
   "outputs": [],
   "source": [
    "#x_val"
   ]
  },
  {
   "cell_type": "code",
   "execution_count": 12,
   "metadata": {
    "collapsed": true
   },
   "outputs": [],
   "source": [
    "# create a placeholder in the graph that we can feed in the sample data \n",
    "x_data = tf.placeholder(tf.float32, shape=x_shape)"
   ]
  },
  {
   "cell_type": "code",
   "execution_count": 20,
   "metadata": {},
   "outputs": [],
   "source": [
    "\n",
    "\n",
    "my_filter = tf.constant(0.25, shape=[2, 2, 1, 1])\n",
    "my_strides = [1, 2, 2, 1]\n",
    "# tf.nn.conv2d\n",
    "# Computes a 2-D convolution given 4-D input and filter tensors.\n",
    "# https://www.tensorflow.org/api_docs/python/tf/nn/conv2d\n",
    "\n",
    "mov_avg_layer= tf.nn.conv2d(x_data,\n",
    "                            my_filter, \n",
    "                            my_strides,\n",
    "                            padding='SAME', \n",
    "                            name='Moving_Avg_Window')"
   ]
  },
  {
   "cell_type": "code",
   "execution_count": 23,
   "metadata": {},
   "outputs": [],
   "source": [
    "# help function\n",
    "\n",
    "def custom_layer(input_matrix):\n",
    "    input_matrix_sqeezed = tf.squeeze(input_matrix)\n",
    "    A = tf.constant([[1., 2.], [-1., 3.]])\n",
    "    b = tf.constant(1., shape=[2, 2])\n",
    "    temp1 = tf.matmul(A, input_matrix_sqeezed)\n",
    "    temp = tf.add(temp1, b) # Ax + b\n",
    "    return(tf.sigmoid(temp))"
   ]
  },
  {
   "cell_type": "code",
   "execution_count": 25,
   "metadata": {},
   "outputs": [],
   "source": [
    "with tf.name_scope('Custom_Layer') as scope:\n",
    "    custom_layer1 = custom_layer(mov_avg_layer)"
   ]
  },
  {
   "cell_type": "code",
   "execution_count": 26,
   "metadata": {},
   "outputs": [
    {
     "name": "stdout",
     "output_type": "stream",
     "text": [
      "[[ 0.9145453   0.9395116 ]\n",
      " [ 0.84990013  0.92559403]]\n"
     ]
    }
   ],
   "source": [
    "print(sess.run(custom_layer1, feed_dict={x_data: x_val}))"
   ]
  },
  {
   "cell_type": "code",
   "execution_count": null,
   "metadata": {
    "collapsed": true
   },
   "outputs": [],
   "source": [
    "# p.34 tbc...."
   ]
  }
 ],
 "metadata": {
  "kernelspec": {
   "display_name": "Python 3",
   "language": "python",
   "name": "python3"
  },
  "language_info": {
   "codemirror_mode": {
    "name": "ipython",
    "version": 3
   },
   "file_extension": ".py",
   "mimetype": "text/x-python",
   "name": "python",
   "nbconvert_exporter": "python",
   "pygments_lexer": "ipython3",
   "version": "3.4.5"
  }
 },
 "nbformat": 4,
 "nbformat_minor": 2
}
