{
 "cells": [
  {
   "cell_type": "code",
   "execution_count": 1,
   "metadata": {
    "collapsed": true
   },
   "outputs": [],
   "source": [
    "import numpy as np\n",
    "import tensorflow as tf"
   ]
  },
  {
   "cell_type": "code",
   "execution_count": 2,
   "metadata": {
    "collapsed": true
   },
   "outputs": [],
   "source": [
    "import matplotlib.pyplot as plt\n",
    "plt.style.use('ggplot')"
   ]
  },
  {
   "cell_type": "markdown",
   "metadata": {},
   "source": [
    "### The Saver class \n",
    "\n",
    "- https://www.tensorflow.org/api_docs/python/tf/train/Saver\n",
    "- adds ops to `save` and `restore` variables to and from checkpoints. It also provides convenience methods to run these ops.\n",
    "\n",
    "- Checkpoints are `binary` files in a proprietary format which map variable names to tensor values. The best way to examine the contents of a checkpoint is to load it using a Saver.\n",
    "\n",
    "- Savers can automatically number `checkpoint` filenames with a provided counter. This lets you keep multiple checkpoints at different steps while training a model. \n",
    "\n",
    "*** - For example you can number the checkpoint filenames with the training step number. To avoid filling up disks, savers manage checkpoint files automatically. For example, they can keep only the N most recent files, or one checkpoint for every N hours of training. ***\n",
    "\n",
    "- You number checkpoint filenames by passing a value to the optional global_step argument to save()"
   ]
  },
  {
   "cell_type": "markdown",
   "metadata": {},
   "source": [
    "### example 1"
   ]
  },
  {
   "cell_type": "code",
   "execution_count": 32,
   "metadata": {},
   "outputs": [
    {
     "data": {
      "text/plain": [
       "'my-model'"
      ]
     },
     "execution_count": 32,
     "metadata": {},
     "output_type": "execute_result"
    }
   ],
   "source": [
    "# save model \n",
    "# https://stackoverflow.com/questions/33759623/tensorflow-how-to-save-restore-a-model\n",
    "\n",
    "w1 = tf.Variable(tf.truncated_normal(shape=[10]), name='w1')\n",
    "w2 = tf.Variable(tf.truncated_normal(shape=[20]), name='w2')\n",
    "tf.add_to_collection('vars', w1)\n",
    "tf.add_to_collection('vars', w2)\n",
    "saver = tf.train.Saver()\n",
    "sess = tf.Session()\n",
    "sess.run(tf.global_variables_initializer())\n",
    "saver.save(sess, 'my-model')\n",
    "# `save` method will call `export_meta_graph` implicitly.\n",
    "# you will get saved graph files:my-model.meta"
   ]
  },
  {
   "cell_type": "code",
   "execution_count": 33,
   "metadata": {},
   "outputs": [
    {
     "name": "stdout",
     "output_type": "stream",
     "text": [
      "my-model.data-00000-of-00001  my-model.meta\r\n",
      "my-model.index\r\n"
     ]
    }
   ],
   "source": [
    "ls my-model*"
   ]
  },
  {
   "cell_type": "code",
   "execution_count": 34,
   "metadata": {},
   "outputs": [
    {
     "name": "stdout",
     "output_type": "stream",
     "text": [
      "INFO:tensorflow:Restoring parameters from ./my-model\n",
      "[ 0.22968575  1.31711602 -0.82059711  0.17073184  0.9097057   0.50959098\n",
      "  0.31685209  1.18070495 -0.2815063  -1.85898638]\n",
      "[-0.62696666  0.32646573 -1.05747974 -0.17746687 -0.03896166  1.01411533\n",
      "  0.65188581 -0.15104343  1.9141686  -0.19892734 -0.78146136 -1.45895588\n",
      "  0.25194064 -1.10512221 -1.08115661 -0.52099758  0.127322   -0.28687054\n",
      "  0.01979428 -0.41452011]\n",
      "[ 1.90995538  0.4603152   0.79823208  0.57112527  0.89465123  0.28010964\n",
      " -1.13043547 -0.89993548 -1.94309115  1.07728612]\n",
      "[-0.9043119  -0.79303306  0.26583636 -0.827254   -1.013919    1.38673484\n",
      "  1.33524203 -0.24269348  0.10440218 -0.8742708   0.56429553 -1.80272973\n",
      " -1.54065299 -1.30645001  1.94204807  1.16125429 -0.13856389 -0.57423121\n",
      "  0.07957201  1.11878109]\n",
      "[ 0.22968575  1.31711602 -0.82059711  0.17073184  0.9097057   0.50959098\n",
      "  0.31685209  1.18070495 -0.2815063  -1.85898638]\n",
      "[-0.62696666  0.32646573 -1.05747974 -0.17746687 -0.03896166  1.01411533\n",
      "  0.65188581 -0.15104343  1.9141686  -0.19892734 -0.78146136 -1.45895588\n",
      "  0.25194064 -1.10512221 -1.08115661 -0.52099758  0.127322   -0.28687054\n",
      "  0.01979428 -0.41452011]\n",
      "[ 1.90995538  0.4603152   0.79823208  0.57112527  0.89465123  0.28010964\n",
      " -1.13043547 -0.89993548 -1.94309115  1.07728612]\n",
      "[-0.9043119  -0.79303306  0.26583636 -0.827254   -1.013919    1.38673484\n",
      "  1.33524203 -0.24269348  0.10440218 -0.8742708   0.56429553 -1.80272973\n",
      " -1.54065299 -1.30645001  1.94204807  1.16125429 -0.13856389 -0.57423121\n",
      "  0.07957201  1.11878109]\n"
     ]
    }
   ],
   "source": [
    "# load model \n",
    "\n",
    "sess = tf.Session()\n",
    "new_saver = tf.train.import_meta_graph('my-model.meta')\n",
    "new_saver.restore(sess, tf.train.latest_checkpoint('./'))\n",
    "all_vars = tf.get_collection('vars')\n",
    "for v in all_vars:\n",
    "    v_ = sess.run(v)\n",
    "    print(v_)"
   ]
  },
  {
   "cell_type": "code",
   "execution_count": null,
   "metadata": {
    "collapsed": true
   },
   "outputs": [],
   "source": []
  },
  {
   "cell_type": "code",
   "execution_count": null,
   "metadata": {
    "collapsed": true
   },
   "outputs": [],
   "source": []
  },
  {
   "cell_type": "markdown",
   "metadata": {},
   "source": [
    "### example 2 "
   ]
  },
  {
   "cell_type": "code",
   "execution_count": 4,
   "metadata": {
    "collapsed": true
   },
   "outputs": [],
   "source": [
    "# credit \n",
    "# https://github.com/MorvanZhou/Tensorflow-Tutorial/blob/master/tutorial-contents/303_save_reload.py\n",
    "\n",
    "\n",
    "def save():\n",
    "    print('This is save')\n",
    "    # build neural network\n",
    "    tf_x = tf.placeholder(tf.float32, x.shape)  # input x\n",
    "    tf_y = tf.placeholder(tf.float32, y.shape)  # input y\n",
    "    l = tf.layers.dense(tf_x, 10, tf.nn.relu)          # hidden layer\n",
    "    o = tf.layers.dense(l, 1)                     # output layer\n",
    "    loss = tf.losses.mean_squared_error(tf_y, o)   # compute cost\n",
    "    train_op = tf.train.GradientDescentOptimizer(learning_rate=0.5).minimize(loss)\n",
    "\n",
    "    sess = tf.Session()\n",
    "    sess.run(tf.global_variables_initializer())  # initialize var in graph\n",
    "\n",
    "    saver = tf.train.Saver()  # define a saver for saving and restoring\n",
    "\n",
    "    for step in range(100):                             # train\n",
    "        sess.run(train_op, {tf_x: x, tf_y: y})\n",
    "\n",
    "    saver.save(sess, 'params', write_meta_graph=False)  # meta_graph is not recommended\n",
    "\n",
    "    # plotting\n",
    "    pred, l = sess.run([o, loss], {tf_x: x, tf_y: y})\n",
    "    plt.figure(1, figsize=(10, 5))\n",
    "    plt.subplot(121)\n",
    "    plt.scatter(x, y)\n",
    "    plt.plot(x, pred, 'r-', lw=5)\n",
    "    plt.text(-1, 1.2, 'Save Loss=%.4f' % l, fontdict={'size': 15, 'color': 'red'})\n",
    "\n",
    "\n",
    "def reload():\n",
    "    print('This is reload')\n",
    "    # build entire net again and restore\n",
    "    tf_x = tf.placeholder(tf.float32, x.shape)  # input x\n",
    "    tf_y = tf.placeholder(tf.float32, y.shape)  # input y\n",
    "    l_ = tf.layers.dense(tf_x, 10, tf.nn.relu)          # hidden layer\n",
    "    o_ = tf.layers.dense(l_, 1)                     # output layer\n",
    "    loss_ = tf.losses.mean_squared_error(tf_y, o_)   # compute cost\n",
    "\n",
    "    sess = tf.Session()\n",
    "    # don't need to initialize variables, just restoring trained variables\n",
    "    saver = tf.train.Saver()  # define a saver for saving and restoring\n",
    "    saver.restore(sess, 'params')\n",
    "\n",
    "    # plotting\n",
    "    pred, l = sess.run([o_, loss_], {tf_x: x, tf_y: y})\n",
    "    plt.subplot(122)\n",
    "    plt.scatter(x, y)\n",
    "    plt.plot(x, pred, 'r-', lw=5)\n",
    "    plt.text(-1, 1.2, 'Reload Loss=%.4f' % l, fontdict={'size': 15, 'color': 'red'})\n",
    "    plt.show()"
   ]
  },
  {
   "cell_type": "code",
   "execution_count": 15,
   "metadata": {},
   "outputs": [],
   "source": [
    "#reload()\n",
    "\n",
    "#saver"
   ]
  },
  {
   "cell_type": "code",
   "execution_count": 12,
   "metadata": {},
   "outputs": [
    {
     "name": "stdout",
     "output_type": "stream",
     "text": [
      "This is save\n"
     ]
    }
   ],
   "source": [
    "#noise\n",
    "\n",
    "save()"
   ]
  },
  {
   "cell_type": "code",
   "execution_count": 20,
   "metadata": {},
   "outputs": [
    {
     "name": "stdout",
     "output_type": "stream",
     "text": [
      "This is save\n",
      "This is reload\n",
      "INFO:tensorflow:Restoring parameters from params\n"
     ]
    },
    {
     "data": {
      "image/png": "[encoded data removed]",
      "text/plain": [
       "<matplotlib.figure.Figure at 0x11272d2e8>"
      ]
     },
     "metadata": {},
     "output_type": "display_data"
    }
   ],
   "source": [
    "tf.set_random_seed(1)\n",
    "np.random.seed(1)\n",
    "\n",
    "# fake data\n",
    "x = np.linspace(-1, 1, 100)[:, np.newaxis]          # shape (100, 1)\n",
    "noise = np.random.normal(0, 0.1, size=x.shape)\n",
    "y = np.power(x, 2) + noise                          # shape (100, 1) + some noise\n",
    "\n",
    "\n",
    "save()\n",
    "\n",
    "# destroy previous net\n",
    "tf.reset_default_graph()\n",
    "\n",
    "reload()"
   ]
  }
 ],
 "metadata": {
  "kernelspec": {
   "display_name": "Python 3",
   "language": "python",
   "name": "python3"
  },
  "language_info": {
   "codemirror_mode": {
    "name": "ipython",
    "version": 3
   },
   "file_extension": ".py",
   "mimetype": "text/x-python",
   "name": "python",
   "nbconvert_exporter": "python",
   "pygments_lexer": "ipython3",
   "version": "3.4.5"
  }
 },
 "nbformat": 4,
 "nbformat_minor": 2
}
