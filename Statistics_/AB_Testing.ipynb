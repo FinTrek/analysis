{
 "cells": [
  {
   "cell_type": "markdown",
   "metadata": {},
   "source": [
    "## A/B Testing\n",
    "\n",
    "Image you are in a game APP Startup. you are the DS (Data Scientist) at the team. And one day, a PM come to you can said : \"Hey I want to know \n",
    "if the recent product update really affect the APP download ? , here is the  data of download ***brfore/after prod update in the  control group (with ld version prod) and experiment group (with new version prod)***\", can you please\n",
    "help me to find out the answer and give some suggestion?\n",
    "\n",
    "So now the DS got the data and start doing the evaluation  \n"
   ]
  },
  {
   "cell_type": "code",
   "execution_count": 14,
   "metadata": {},
   "outputs": [
    {
     "name": "stdout",
     "output_type": "stream",
     "text": [
      "Populating the interactive namespace from numpy and matplotlib\n"
     ]
    }
   ],
   "source": [
    "# OP \n",
    "import pandas as pd\n",
    "import numpy as np\n",
    "%matplotlib inline\n",
    "%pylab inline\n",
    "import seaborn  as sns \n",
    "import matplotlib.pyplot as plt\n",
    "from matplotlib import pyplot\n",
    "\n",
    "\n",
    "# set plot style\n",
    "matplotlib.style.use('fivethirtyeight')\n",
    "matplotlib.rcParams['font.size'] = 12\n",
    "matplotlib.rcParams['figure.figsize'] = (10,10)"
   ]
  },
  {
   "cell_type": "code",
   "execution_count": 58,
   "metadata": {},
   "outputs": [],
   "source": [
    "# overview of  prod download data \n",
    "# let's create some toy data represent download in 2 groups \n",
    "\n",
    "# control group (with old version prod) \n",
    "# experiment group (with new version prod)\n",
    "\n",
    "# df_before: download before prod update \n",
    "# control_dl : control group download \n",
    "# exp_dl : experiment group download \n",
    "df_before = pd.DataFrame({'exp_dl':[100,120,100,110,90,100,120,103,110,95,100] ,\n",
    "                        'control_dl':[90,117,100,120,100,130,100,90,110,100,105] })\n",
    "\n",
    "# df_after: download after prod update \n",
    "df_after = pd.DataFrame({'exp_dl':[100,120,150,200,210,200,200,250,300,200,200] ,\n",
    "                        'control_dl':[100,120,130,90,110,120,100,90,100,110,100] })\n",
    "\n"
   ]
  },
  {
   "cell_type": "markdown",
   "metadata": {},
   "source": [
    "## 0) Data Overview"
   ]
  },
  {
   "cell_type": "code",
   "execution_count": 54,
   "metadata": {},
   "outputs": [
    {
     "data": {
      "text/html": [
       "<div>\n",
       "<style scoped>\n",
       "    .dataframe tbody tr th:only-of-type {\n",
       "        vertical-align: middle;\n",
       "    }\n",
       "\n",
       "    .dataframe tbody tr th {\n",
       "        vertical-align: top;\n",
       "    }\n",
       "\n",
       "    .dataframe thead th {\n",
       "        text-align: right;\n",
       "    }\n",
       "</style>\n",
       "<table border=\"1\" class=\"dataframe\">\n",
       "  <thead>\n",
       "    <tr style=\"text-align: right;\">\n",
       "      <th></th>\n",
       "      <th>control_dl</th>\n",
       "      <th>exp_dl</th>\n",
       "    </tr>\n",
       "  </thead>\n",
       "  <tbody>\n",
       "    <tr>\n",
       "      <th>0</th>\n",
       "      <td>90</td>\n",
       "      <td>100</td>\n",
       "    </tr>\n",
       "    <tr>\n",
       "      <th>1</th>\n",
       "      <td>117</td>\n",
       "      <td>120</td>\n",
       "    </tr>\n",
       "    <tr>\n",
       "      <th>2</th>\n",
       "      <td>100</td>\n",
       "      <td>100</td>\n",
       "    </tr>\n",
       "    <tr>\n",
       "      <th>3</th>\n",
       "      <td>120</td>\n",
       "      <td>110</td>\n",
       "    </tr>\n",
       "    <tr>\n",
       "      <th>4</th>\n",
       "      <td>100</td>\n",
       "      <td>90</td>\n",
       "    </tr>\n",
       "    <tr>\n",
       "      <th>5</th>\n",
       "      <td>130</td>\n",
       "      <td>100</td>\n",
       "    </tr>\n",
       "    <tr>\n",
       "      <th>6</th>\n",
       "      <td>80</td>\n",
       "      <td>120</td>\n",
       "    </tr>\n",
       "    <tr>\n",
       "      <th>7</th>\n",
       "      <td>90</td>\n",
       "      <td>125</td>\n",
       "    </tr>\n",
       "    <tr>\n",
       "      <th>8</th>\n",
       "      <td>110</td>\n",
       "      <td>110</td>\n",
       "    </tr>\n",
       "    <tr>\n",
       "      <th>9</th>\n",
       "      <td>100</td>\n",
       "      <td>95</td>\n",
       "    </tr>\n",
       "    <tr>\n",
       "      <th>10</th>\n",
       "      <td>105</td>\n",
       "      <td>100</td>\n",
       "    </tr>\n",
       "  </tbody>\n",
       "</table>\n",
       "</div>"
      ],
      "text/plain": [
       "    control_dl  exp_dl\n",
       "0           90     100\n",
       "1          117     120\n",
       "2          100     100\n",
       "3          120     110\n",
       "4          100      90\n",
       "5          130     100\n",
       "6           80     120\n",
       "7           90     125\n",
       "8          110     110\n",
       "9          100      95\n",
       "10         105     100"
      ]
     },
     "execution_count": 54,
     "metadata": {},
     "output_type": "execute_result"
    }
   ],
   "source": [
    "# df_before: download before prod update \n",
    "df_before"
   ]
  },
  {
   "cell_type": "code",
   "execution_count": 59,
   "metadata": {},
   "outputs": [
    {
     "data": {
      "text/html": [
       "<div>\n",
       "<style scoped>\n",
       "    .dataframe tbody tr th:only-of-type {\n",
       "        vertical-align: middle;\n",
       "    }\n",
       "\n",
       "    .dataframe tbody tr th {\n",
       "        vertical-align: top;\n",
       "    }\n",
       "\n",
       "    .dataframe thead th {\n",
       "        text-align: right;\n",
       "    }\n",
       "</style>\n",
       "<table border=\"1\" class=\"dataframe\">\n",
       "  <thead>\n",
       "    <tr style=\"text-align: right;\">\n",
       "      <th></th>\n",
       "      <th>control_dl</th>\n",
       "      <th>exp_dl</th>\n",
       "    </tr>\n",
       "  </thead>\n",
       "  <tbody>\n",
       "    <tr>\n",
       "      <th>0</th>\n",
       "      <td>100</td>\n",
       "      <td>100</td>\n",
       "    </tr>\n",
       "    <tr>\n",
       "      <th>1</th>\n",
       "      <td>120</td>\n",
       "      <td>120</td>\n",
       "    </tr>\n",
       "    <tr>\n",
       "      <th>2</th>\n",
       "      <td>130</td>\n",
       "      <td>150</td>\n",
       "    </tr>\n",
       "    <tr>\n",
       "      <th>3</th>\n",
       "      <td>90</td>\n",
       "      <td>200</td>\n",
       "    </tr>\n",
       "    <tr>\n",
       "      <th>4</th>\n",
       "      <td>110</td>\n",
       "      <td>210</td>\n",
       "    </tr>\n",
       "    <tr>\n",
       "      <th>5</th>\n",
       "      <td>120</td>\n",
       "      <td>200</td>\n",
       "    </tr>\n",
       "    <tr>\n",
       "      <th>6</th>\n",
       "      <td>100</td>\n",
       "      <td>200</td>\n",
       "    </tr>\n",
       "    <tr>\n",
       "      <th>7</th>\n",
       "      <td>90</td>\n",
       "      <td>250</td>\n",
       "    </tr>\n",
       "    <tr>\n",
       "      <th>8</th>\n",
       "      <td>100</td>\n",
       "      <td>300</td>\n",
       "    </tr>\n",
       "    <tr>\n",
       "      <th>9</th>\n",
       "      <td>110</td>\n",
       "      <td>200</td>\n",
       "    </tr>\n",
       "    <tr>\n",
       "      <th>10</th>\n",
       "      <td>100</td>\n",
       "      <td>200</td>\n",
       "    </tr>\n",
       "  </tbody>\n",
       "</table>\n",
       "</div>"
      ],
      "text/plain": [
       "    control_dl  exp_dl\n",
       "0          100     100\n",
       "1          120     120\n",
       "2          130     150\n",
       "3           90     200\n",
       "4          110     210\n",
       "5          120     200\n",
       "6          100     200\n",
       "7           90     250\n",
       "8          100     300\n",
       "9          110     200\n",
       "10         100     200"
      ]
     },
     "execution_count": 59,
     "metadata": {},
     "output_type": "execute_result"
    }
   ],
   "source": [
    "# df_after: download after prod update \n",
    "df_after"
   ]
  },
  {
   "cell_type": "code",
   "execution_count": 60,
   "metadata": {},
   "outputs": [
    {
     "name": "stdout",
     "output_type": "stream",
     "text": [
      "----------  before prod update ----------\n"
     ]
    },
    {
     "data": {
      "image/png": "[encoded data removed]",
      "text/plain": [
       "<matplotlib.figure.Figure at 0x10c11eba8>"
      ]
     },
     "metadata": {},
     "output_type": "display_data"
    },
    {
     "name": "stdout",
     "output_type": "stream",
     "text": [
      "----------  after prod update ----------\n"
     ]
    },
    {
     "data": {
      "image/png": "[encoded data removed]",
      "text/plain": [
       "<matplotlib.figure.Figure at 0x10c2ceef0>"
      ]
     },
     "metadata": {},
     "output_type": "display_data"
    }
   ],
   "source": [
    "# curve plot \n",
    "\n",
    "print ('----------  before prod update ----------')\n",
    "plt.plot(df_before)\n",
    "plt.legend(['control group','experiment group'])\n",
    "plt.show()\n",
    "\n",
    "\n",
    "print ('----------  after prod update ----------')\n",
    "plt.plot(df_after)\n",
    "plt.legend(['control group','experiment group'])\n",
    "plt.show()"
   ]
  },
  {
   "cell_type": "code",
   "execution_count": 61,
   "metadata": {},
   "outputs": [
    {
     "name": "stdout",
     "output_type": "stream",
     "text": [
      "----------  before prod update ----------\n"
     ]
    },
    {
     "data": {
      "image/png": "[encoded data removed]",
      "text/plain": [
       "<matplotlib.figure.Figure at 0x10bdcfba8>"
      ]
     },
     "metadata": {},
     "output_type": "display_data"
    },
    {
     "name": "stdout",
     "output_type": "stream",
     "text": [
      "----------  after prod update ----------\n"
     ]
    },
    {
     "data": {
      "image/png": "[encoded data removed]",
      "text/plain": [
       "<matplotlib.figure.Figure at 0x10ba9d9e8>"
      ]
     },
     "metadata": {},
     "output_type": "display_data"
    }
   ],
   "source": [
    "# scatter plot \n",
    "\n",
    "print ('----------  before prod update ----------')\n",
    "sns.jointplot(x= \"control_dl\", y =\"exp_dl\", data=df_before)\n",
    "plt.show()\n",
    "\n",
    "\n",
    "print ('----------  after prod update ----------')\n",
    "sns.jointplot(x= \"control_dl\", y =\"exp_dl\", data=df_after)\n",
    "plt.show()"
   ]
  },
  {
   "cell_type": "markdown",
   "metadata": {},
   "source": [
    "## 1) Statistics amounts"
   ]
  },
  {
   "cell_type": "code",
   "execution_count": 62,
   "metadata": {},
   "outputs": [
    {
     "name": "stdout",
     "output_type": "stream",
     "text": [
      "Before prod update\n",
      "control_dl    105.636364\n",
      "exp_dl        104.363636\n",
      "dtype: float64\n",
      "\n",
      "After  prod update:\n",
      "control_dl    106.363636\n",
      "exp_dl        193.636364\n",
      "dtype: float64\n"
     ]
    }
   ],
   "source": [
    "# calculate the mean \n",
    "\n",
    "\n",
    "print(\"Before prod update\")\n",
    "print(df_before.mean())\n",
    "print()\n",
    "print(\"After  prod update:\")\n",
    "print(df_after.mean())\n",
    "\n"
   ]
  },
  {
   "cell_type": "code",
   "execution_count": 63,
   "metadata": {},
   "outputs": [
    {
     "name": "stdout",
     "output_type": "stream",
     "text": [
      "Before prod update\n",
      "control_dl    12.508179\n",
      "exp_dl         9.615329\n",
      "dtype: float64\n",
      "\n",
      "After  prod update:\n",
      "control_dl    12.862914\n",
      "exp_dl        55.726605\n",
      "dtype: float64\n"
     ]
    }
   ],
   "source": [
    "# calculate the standard deviation  \n",
    "\n",
    "\n",
    "print(\"Before prod update\")\n",
    "print(df_before.std())\n",
    "print()\n",
    "print(\"After  prod update:\")\n",
    "print(df_after.std())\n"
   ]
  },
  {
   "cell_type": "code",
   "execution_count": 64,
   "metadata": {},
   "outputs": [
    {
     "name": "stdout",
     "output_type": "stream",
     "text": [
      "Before prod update\n",
      "            control_dl     exp_dl\n",
      "control_dl  156.454545  33.945455\n",
      "exp_dl       33.945455  92.454545\n",
      "\n",
      "After  prod update:\n",
      "            control_dl       exp_dl\n",
      "control_dl  165.454545  -305.454545\n",
      "exp_dl     -305.454545  3105.454545\n"
     ]
    }
   ],
   "source": [
    "# calculate the co-variance\n",
    "\n",
    "\n",
    "print(\"Before prod update\")\n",
    "print(df_before.cov())\n",
    "print()\n",
    "print(\"After  prod update:\")\n",
    "print(df_after.cov())\n"
   ]
  },
  {
   "cell_type": "code",
   "execution_count": 65,
   "metadata": {},
   "outputs": [
    {
     "name": "stdout",
     "output_type": "stream",
     "text": [
      "Before prod update\n",
      "            control_dl    exp_dl\n",
      "control_dl    1.000000  0.282243\n",
      "exp_dl        0.282243  1.000000\n",
      "\n",
      "After  prod update:\n",
      "            control_dl    exp_dl\n",
      "control_dl    1.000000 -0.426132\n",
      "exp_dl       -0.426132  1.000000\n"
     ]
    }
   ],
   "source": [
    "# calculate the co-relation \n",
    "\n",
    "\n",
    "print(\"Before prod update\")\n",
    "print(df_before.corr())\n",
    "print()\n",
    "print(\"After  prod update:\")\n",
    "print(df_after.corr())\n"
   ]
  }
 ],
 "metadata": {
  "kernelspec": {
   "display_name": "Python 3",
   "language": "python",
   "name": "python3"
  },
  "language_info": {
   "codemirror_mode": {
    "name": "ipython",
    "version": 3
   },
   "file_extension": ".py",
   "mimetype": "text/x-python",
   "name": "python",
   "nbconvert_exporter": "python",
   "pygments_lexer": "ipython3",
   "version": "3.5.4"
  }
 },
 "nbformat": 4,
 "nbformat_minor": 2
}
