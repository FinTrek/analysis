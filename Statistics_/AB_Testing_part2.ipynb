{
 "cells": [
  {
   "cell_type": "markdown",
   "metadata": {},
   "source": [
    "## ## A/B Testing Part 2  :  Bootstrap resampling \n",
    "\n",
    "--------"
   ]
  },
  {
   "cell_type": "code",
   "execution_count": 1,
   "metadata": {},
   "outputs": [],
   "source": [
    "# ref \n",
    "# https://github.com/yennanliu/hackermath/blob/master/Module_2f_ABTesting.ipynb\n",
    "# https://github.com/omoju/Fundamentals/blob/master/Data/data_Stats_4_ABTesting.ipynb\n"
   ]
  },
  {
   "cell_type": "code",
   "execution_count": 2,
   "metadata": {},
   "outputs": [
    {
     "name": "stdout",
     "output_type": "stream",
     "text": [
      "Populating the interactive namespace from numpy and matplotlib\n"
     ]
    }
   ],
   "source": [
    "# Import libraries\n",
    "from __future__ import absolute_import, division, print_function\n",
    "\n",
    "# Ignore warnings\n",
    "import warnings\n",
    "#warnings.filterwarnings('ignore')\n",
    "\n",
    "import sys\n",
    "sys.path.append('tools/')\n",
    "\n",
    "# OP \n",
    "import pandas as pd\n",
    "import numpy as np\n",
    "#from scipy import stats\n",
    "import scipy.stats as st\n",
    "%matplotlib inline\n",
    "%pylab inline\n",
    "import seaborn  as sns \n",
    "#import matplotlib.pyplot as plt\n",
    "import matplotlib.pyplot as pyplt\n",
    "from matplotlib import pyplot\n",
    "import matplotlib as mpl\n",
    "from IPython.display import display"
   ]
  },
  {
   "cell_type": "code",
   "execution_count": 3,
   "metadata": {},
   "outputs": [],
   "source": [
    "\n",
    "# set plot style\n",
    "matplotlib.style.use('fivethirtyeight')\n",
    "matplotlib.rcParams['font.size'] = 12\n",
    "matplotlib.rcParams['figure.figsize'] = (10,10)"
   ]
  },
  {
   "cell_type": "code",
   "execution_count": 69,
   "metadata": {},
   "outputs": [],
   "source": [
    "# help func \n",
    "\n",
    "def axis_tick_frequency(ax, axis, freq):\n",
    "    \"\"\"The frequency of the y axis tick marks\n",
    "        Attributes\n",
    "        ----------\n",
    "        ax: matplotlib axis object\n",
    "        axis: char eithher 'y' or 'x'\n",
    "        freq: int, the integer value of which the range moves\n",
    "    \"\"\"\n",
    "    \n",
    "    if axis == 'y':\n",
    "        start, end = ax.get_ylim()\n",
    "        ax.yaxis.set_ticks(np.arange(start, end, freq))\n",
    "    elif axis == 'x':\n",
    "        start, end = ax.get_xlim()\n",
    "        ax.xaxis.set_ticks(np.arange(start, end, freq))\n",
    "    else:\n",
    "        raise ValueError('{argument} is not a valid axis object'.format(argument=repr(axis)))\n",
    "        \n",
    "        \n",
    "    \n",
    "def sample(num_sample, top, with_replacement=False):\n",
    "    \"\"\"\n",
    "    Create a random sample from a table\n",
    "    \n",
    "    Attributes\n",
    "    ---------\n",
    "    num_sample: int\n",
    "    top: dataframe\n",
    "    with_replacement: boolean\n",
    "    \n",
    "    Returns a random subset of table index\n",
    "    \"\"\"\n",
    "    df_index = []\n",
    "    lst = np.arange(0, len(top), 1)\n",
    "\n",
    "    for i in np.arange(0, num_sample, 1):\n",
    "\n",
    "        # pick randomly from the whole table\n",
    "        sample_index = np.random.choice(lst)\n",
    "\n",
    "        if with_replacement:\n",
    "            # store index\n",
    "            df_index.append(sample_index)\n",
    "        else:\n",
    "            # remove the choice that was selected\n",
    "            lst = np.setdiff1d(lst,[sample_index])\n",
    "            df_index.append(sample_index)\n",
    "            \n",
    "    return df_index\n",
    "\n",
    "\n",
    "\n",
    "\n",
    "def get_means(df, variable, classes):\n",
    "    \"\"\"\n",
    "    Gets the means of a variable grouped by its class\n",
    "    \n",
    "    Attributes\n",
    "    -------------\n",
    "    df: a pandas dataframe\n",
    "    variable: column\n",
    "    classes: column (bool) \n",
    "    \"\"\"\n",
    "    class_a = df[classes] == True\n",
    "    class_b = df[classes] == False\n",
    "\n",
    "    df_class_b = df.ix[df[class_b].index, :]\n",
    "    df_class_a = df.ix[df[class_a].index, :]\n",
    "\n",
    "    a = df_class_b[variable].values\n",
    "    b = df_class_a[variable].values\n",
    "    \n",
    "    # difference in the means\n",
    "    a.mean() - b.mean()\n",
    "    \n",
    "    raw = {\n",
    "        classes: [False, True],\n",
    "        variable: [a.mean(), b.mean()]\n",
    "    }\n",
    "    means_table = pd.DataFrame(raw)\n",
    "    \n",
    "    return means_table\n",
    "\n",
    "\n",
    "def bootstrap_ci_means(table, variable, classes, repetitions):\n",
    "\n",
    "    \"\"\"Bootstrap approximate 95% confidence interval\n",
    "    for the difference between the means of the two classes\n",
    "    in the population\n",
    "    \n",
    "    Attributes\n",
    "    -------------\n",
    "    table: a pandas dataframe\n",
    "    variable: column\n",
    "    classes: column (bool) \n",
    "    repetitions: int\n",
    "    \"\"\"\n",
    "\n",
    "    t = table[[variable, classes]]\n",
    "\n",
    "    mean_diffs = []\n",
    "    for i in np.arange(repetitions):\n",
    "        bootstrap_sampl = table.ix[sample(len(table), table, with_replacement=True), :]\n",
    "        m_tbl = get_means(bootstrap_sampl, variable, classes)\n",
    "        new_stat = m_tbl.ix[0, variable] - m_tbl.ix[1, variable]\n",
    "        mean_diffs = np.append(mean_diffs, new_stat)\n",
    "\n",
    "    left = np.percentile(mean_diffs, 2.5) \n",
    "    right = np.percentile(mean_diffs, 97.5)\n",
    "\n",
    "    # Find the observed test statistic\n",
    "    means_table = get_means(t, variable, classes)\n",
    "    obs_stat = means_table.ix[0, variable] - means_table.ix[1, variable]\n",
    "\n",
    "    df = pd.DataFrame()\n",
    "    df['Difference Between Means'] = mean_diffs\n",
    "    df.plot.hist(bins=20, normed=True)\n",
    "    plot([left, right], [0, 0], color='yellow', lw=8);\n",
    "    print('Observed difference between means:', obs_stat)\n",
    "    print('Approximate 95% CI for the difference between means:')\n",
    "    print(left, 'to', right)\n",
    "\n",
    "    "
   ]
  },
  {
   "cell_type": "markdown",
   "metadata": {},
   "source": [
    "## 0) Load data"
   ]
  },
  {
   "cell_type": "code",
   "execution_count": 14,
   "metadata": {},
   "outputs": [],
   "source": [
    "# titanic dataset \n",
    "# https://www.kaggle.com/c/titanic/data#\n",
    "\n",
    "df=pd.read_csv('train.csv')"
   ]
  },
  {
   "cell_type": "code",
   "execution_count": 8,
   "metadata": {},
   "outputs": [
    {
     "data": {
      "text/html": [
       "<div>\n",
       "<style scoped>\n",
       "    .dataframe tbody tr th:only-of-type {\n",
       "        vertical-align: middle;\n",
       "    }\n",
       "\n",
       "    .dataframe tbody tr th {\n",
       "        vertical-align: top;\n",
       "    }\n",
       "\n",
       "    .dataframe thead th {\n",
       "        text-align: right;\n",
       "    }\n",
       "</style>\n",
       "<table border=\"1\" class=\"dataframe\">\n",
       "  <thead>\n",
       "    <tr style=\"text-align: right;\">\n",
       "      <th></th>\n",
       "      <th>PassengerId</th>\n",
       "      <th>Survived</th>\n",
       "      <th>Pclass</th>\n",
       "      <th>Name</th>\n",
       "      <th>Sex</th>\n",
       "      <th>Age</th>\n",
       "      <th>SibSp</th>\n",
       "      <th>Parch</th>\n",
       "      <th>Ticket</th>\n",
       "      <th>Fare</th>\n",
       "      <th>Cabin</th>\n",
       "      <th>Embarked</th>\n",
       "    </tr>\n",
       "  </thead>\n",
       "  <tbody>\n",
       "    <tr>\n",
       "      <th>0</th>\n",
       "      <td>1</td>\n",
       "      <td>0</td>\n",
       "      <td>3</td>\n",
       "      <td>Braund, Mr. Owen Harris</td>\n",
       "      <td>male</td>\n",
       "      <td>22.0</td>\n",
       "      <td>1</td>\n",
       "      <td>0</td>\n",
       "      <td>A/5 21171</td>\n",
       "      <td>7.25</td>\n",
       "      <td>NaN</td>\n",
       "      <td>S</td>\n",
       "    </tr>\n",
       "  </tbody>\n",
       "</table>\n",
       "</div>"
      ],
      "text/plain": [
       "   PassengerId  Survived  Pclass                     Name   Sex   Age  SibSp  \\\n",
       "0            1         0       3  Braund, Mr. Owen Harris  male  22.0      1   \n",
       "\n",
       "   Parch     Ticket  Fare Cabin Embarked  \n",
       "0      0  A/5 21171  7.25   NaN        S  "
      ]
     },
     "execution_count": 8,
     "metadata": {},
     "output_type": "execute_result"
    }
   ],
   "source": [
    "df.head(1)"
   ]
  },
  {
   "cell_type": "code",
   "execution_count": 9,
   "metadata": {},
   "outputs": [
    {
     "data": {
      "text/plain": [
       "array([[<matplotlib.axes._subplots.AxesSubplot object at 0x116924a58>,\n",
       "        <matplotlib.axes._subplots.AxesSubplot object at 0x11697cb70>,\n",
       "        <matplotlib.axes._subplots.AxesSubplot object at 0x1169a6320>],\n",
       "       [<matplotlib.axes._subplots.AxesSubplot object at 0x1169af160>,\n",
       "        <matplotlib.axes._subplots.AxesSubplot object at 0x1169e3e10>,\n",
       "        <matplotlib.axes._subplots.AxesSubplot object at 0x116a0b940>],\n",
       "       [<matplotlib.axes._subplots.AxesSubplot object at 0x116a2bfd0>,\n",
       "        <matplotlib.axes._subplots.AxesSubplot object at 0x116a54630>,\n",
       "        <matplotlib.axes._subplots.AxesSubplot object at 0x116a73240>]], dtype=object)"
      ]
     },
     "execution_count": 9,
     "metadata": {},
     "output_type": "execute_result"
    },
    {
     "data": {
      "image/png": "[encoded data removed]",
      "text/plain": [
       "<matplotlib.figure.Figure at 0x11691bdd8>"
      ]
     },
     "metadata": {},
     "output_type": "display_data"
    }
   ],
   "source": [
    "df.hist()"
   ]
  },
  {
   "cell_type": "markdown",
   "metadata": {},
   "source": [
    "## 1 ) Is \"survived or not survived\" associated  with fare  ?"
   ]
  },
  {
   "cell_type": "code",
   "execution_count": 10,
   "metadata": {},
   "outputs": [
    {
     "data": {
      "text/plain": [
       "0    549\n",
       "1    342\n",
       "Name: Survived, dtype: int64"
      ]
     },
     "execution_count": 10,
     "metadata": {},
     "output_type": "execute_result"
    }
   ],
   "source": [
    "df.Survived.value_counts()"
   ]
  },
  {
   "cell_type": "code",
   "execution_count": 21,
   "metadata": {},
   "outputs": [
    {
     "data": {
      "text/html": [
       "<div>\n",
       "<style scoped>\n",
       "    .dataframe tbody tr th:only-of-type {\n",
       "        vertical-align: middle;\n",
       "    }\n",
       "\n",
       "    .dataframe tbody tr th {\n",
       "        vertical-align: top;\n",
       "    }\n",
       "\n",
       "    .dataframe thead th {\n",
       "        text-align: right;\n",
       "    }\n",
       "</style>\n",
       "<table border=\"1\" class=\"dataframe\">\n",
       "  <thead>\n",
       "    <tr style=\"text-align: right;\">\n",
       "      <th></th>\n",
       "      <th>PassengerId</th>\n",
       "      <th>Survived</th>\n",
       "      <th>Pclass</th>\n",
       "      <th>Name</th>\n",
       "      <th>Sex</th>\n",
       "      <th>Age</th>\n",
       "      <th>SibSp</th>\n",
       "      <th>Parch</th>\n",
       "      <th>Ticket</th>\n",
       "      <th>Fare</th>\n",
       "      <th>Cabin</th>\n",
       "      <th>Embarked</th>\n",
       "    </tr>\n",
       "  </thead>\n",
       "  <tbody>\n",
       "    <tr>\n",
       "      <th>1</th>\n",
       "      <td>2</td>\n",
       "      <td>1</td>\n",
       "      <td>1</td>\n",
       "      <td>Cumings, Mrs. John Bradley (Florence Briggs Th...</td>\n",
       "      <td>female</td>\n",
       "      <td>38.0</td>\n",
       "      <td>1</td>\n",
       "      <td>0</td>\n",
       "      <td>PC 17599</td>\n",
       "      <td>71.2833</td>\n",
       "      <td>C85</td>\n",
       "      <td>C</td>\n",
       "    </tr>\n",
       "  </tbody>\n",
       "</table>\n",
       "</div>"
      ],
      "text/plain": [
       "   PassengerId  Survived  Pclass  \\\n",
       "1            2         1       1   \n",
       "\n",
       "                                                Name     Sex   Age  SibSp  \\\n",
       "1  Cumings, Mrs. John Bradley (Florence Briggs Th...  female  38.0      1   \n",
       "\n",
       "   Parch    Ticket     Fare Cabin Embarked  \n",
       "1      0  PC 17599  71.2833   C85        C  "
      ]
     },
     "execution_count": 21,
     "metadata": {},
     "output_type": "execute_result"
    }
   ],
   "source": [
    "df[df.Survived==1.0 ].head(1)"
   ]
  },
  {
   "cell_type": "code",
   "execution_count": 32,
   "metadata": {},
   "outputs": [
    {
     "data": {
      "text/plain": [
       "Text(0.5,1,'Fare histgram : Survived VS. non-Survived group  ')"
      ]
     },
     "execution_count": 32,
     "metadata": {},
     "output_type": "execute_result"
    },
    {
     "data": {
      "image/png": "[encoded data removed]",
      "text/plain": [
       "<matplotlib.figure.Figure at 0x118547358>"
      ]
     },
     "metadata": {},
     "output_type": "display_data"
    }
   ],
   "source": [
    "# visualize Fare on Survived & non-Survived group \n",
    "df[df.Survived==1.0 ]['Fare'].hist(alpha=.5,bins=np.arange(0, 300, 10))\n",
    "df[df.Survived==0.0 ]['Fare'].hist(alpha=.5,bins=np.arange(0, 300, 10))\n",
    "plt.legend([\"survived\",\"non-survived\" ])\n",
    "pyplt.ylabel(\"percent per fare\")\n",
    "pyplt.xlabel(\"Fare\")\n",
    "plt.title('Fare histgram : Survived VS. non-Survived group  ')"
   ]
  },
  {
   "cell_type": "markdown",
   "metadata": {},
   "source": [
    "Both distributions are skew shaped while the \"survived\" group is \n",
    "with median ~ fare 26.0 ; the \"non-survived\" group is with median ~ fare 10.5. We can nearly say  *** The distributions are not identical. ***\n",
    "But then it raises another question : *** whether the difference (\"survived\" and \"non-survived\") reflects just chance variation or a difference in the distributions in the population. ***\n",
    "\n",
    "\n",
    "So we have set up \"Hypothesis Test\"  \n",
    "\n",
    "> * Null hypothesis (N0):  The difference in the sample is due to chance.\n",
    "i.e. The distribution of fare of \"survived group\" is the same for \"non survived group\" \n",
    "> * Alternative hypothesis(N1): The two distributions are different in the population.\n",
    "> * Test statistic: T test\n"
   ]
  },
  {
   "cell_type": "markdown",
   "metadata": {},
   "source": [
    "## 2) Hypothesis Test"
   ]
  },
  {
   "cell_type": "code",
   "execution_count": 33,
   "metadata": {},
   "outputs": [],
   "source": [
    "a = df[df.Survived==1.0 ]['Fare'].values\n",
    "b = df[df.Survived==0.0 ]['Fare'].values"
   ]
  },
  {
   "cell_type": "code",
   "execution_count": 39,
   "metadata": {},
   "outputs": [
    {
     "data": {
      "text/html": [
       "<div>\n",
       "<style scoped>\n",
       "    .dataframe tbody tr th:only-of-type {\n",
       "        vertical-align: middle;\n",
       "    }\n",
       "\n",
       "    .dataframe tbody tr th {\n",
       "        vertical-align: top;\n",
       "    }\n",
       "\n",
       "    .dataframe thead th {\n",
       "        text-align: right;\n",
       "    }\n",
       "</style>\n",
       "<table border=\"1\" class=\"dataframe\">\n",
       "  <thead>\n",
       "    <tr style=\"text-align: right;\">\n",
       "      <th></th>\n",
       "      <th>Fare mean</th>\n",
       "      <th>Survived</th>\n",
       "    </tr>\n",
       "  </thead>\n",
       "  <tbody>\n",
       "    <tr>\n",
       "      <th>0</th>\n",
       "      <td>48.395408</td>\n",
       "      <td>True</td>\n",
       "    </tr>\n",
       "    <tr>\n",
       "      <th>1</th>\n",
       "      <td>22.117887</td>\n",
       "      <td>False</td>\n",
       "    </tr>\n",
       "  </tbody>\n",
       "</table>\n",
       "</div>"
      ],
      "text/plain": [
       "   Fare mean  Survived\n",
       "0  48.395408      True\n",
       "1  22.117887     False"
      ]
     },
     "execution_count": 39,
     "metadata": {},
     "output_type": "execute_result"
    }
   ],
   "source": [
    "# mean value table \n",
    "\n",
    "raw = {\n",
    "        'Survived': [True, False],\n",
    "        'Fare mean': [a.mean(), b.mean()]\n",
    "}\n",
    "means_table = pd.DataFrame(raw)\n",
    "means_table"
   ]
  },
  {
   "cell_type": "code",
   "execution_count": 36,
   "metadata": {},
   "outputs": [
    {
     "data": {
      "text/plain": [
       "26.277520717093282"
      ]
     },
     "execution_count": 36,
     "metadata": {},
     "output_type": "execute_result"
    }
   ],
   "source": [
    "# difference in the means\n",
    "a.mean() - b.mean()"
   ]
  },
  {
   "cell_type": "code",
   "execution_count": 37,
   "metadata": {},
   "outputs": [
    {
     "name": "stdout",
     "output_type": "stream",
     "text": [
      "T statistic: 7.94 \n",
      "P-value:0.00\n"
     ]
    }
   ],
   "source": [
    "# t-test \n",
    "statistic, pvalue = st.ttest_ind(a, b)\n",
    "print ('T statistic: %.2f'%statistic,'\\nP-value:%.2f'%pvalue)\n"
   ]
  },
  {
   "cell_type": "markdown",
   "metadata": {},
   "source": [
    "> The P-value (0.00) is super small. As a result, we can reject the Null hypothesis (N0) and conclude that in the population, the distribution of \n",
    "\"survived\" and \"non-survived\" are different.\n",
    "\n",
    "\n"
   ]
  },
  {
   "cell_type": "markdown",
   "metadata": {},
   "source": [
    "## 3) Bootstrap Confidence Interval For the Difference"
   ]
  },
  {
   "cell_type": "markdown",
   "metadata": {},
   "source": [
    "Our hypothesis Test (via t-test) conclude that the 2 distributions \n",
    "are 2 different with very high possibility.\n",
    "But, in general cases, the difference above maybe is due to \"randomness\".\n",
    "To avoid the \"randomness affects\", we need to generate more samples\n",
    "via the the \"Bootstrap resampling\" tricks here. (It simply replicates the original random sample and computes new values of the statistic.)\n",
    "\n",
    "PS. However maybe it not 100% sense to re-sample on the titanic dataset,\n",
    "since they may only happen once lol.\n",
    "\n",
    "\n"
   ]
  },
  {
   "cell_type": "code",
   "execution_count": 49,
   "metadata": {},
   "outputs": [],
   "source": [
    "# !pip install scikits.bootstrap\n",
    "import scikits.bootstrap as bootstrap  \n",
    "import scipy"
   ]
  },
  {
   "cell_type": "code",
   "execution_count": 58,
   "metadata": {},
   "outputs": [
    {
     "name": "stdout",
     "output_type": "stream",
     "text": [
      "Bootstrapped 95% confidence interval around the mean\n",
      "Low: 14.5346638655 \n",
      "High: 15.6042787115\n"
     ]
    }
   ],
   "source": [
    "# compute 95% confidence intervals around the mean  \n",
    "\n",
    "### drop the nan here, since the scikits.bootstrap seems doesn't work with nan\n",
    "### will fix later \n",
    "\n",
    "df_ = df[['Age', 'Survived']].dropna()\n",
    "CIs = bootstrap.ci(df_[['Age', 'Survived']], scipy.mean) \n",
    "print (\"Bootstrapped 95% confidence interval around the mean\\nLow:\",  CIs[0], \"\\nHigh:\", CIs[1])\n"
   ]
  },
  {
   "cell_type": "code",
   "execution_count": 61,
   "metadata": {},
   "outputs": [
    {
     "name": "stdout",
     "output_type": "stream",
     "text": [
      "all data :   891\n",
      "non null (Age) data :   714\n"
     ]
    }
   ],
   "source": [
    "print ('all data :  ', len(df))\n",
    "print ('non null (Age) data :  ' , len(df_))"
   ]
  },
  {
   "cell_type": "code",
   "execution_count": 62,
   "metadata": {},
   "outputs": [
    {
     "name": "stdout",
     "output_type": "stream",
     "text": [
      "Bootstrapped 95% confidence interval with 5,000 samples\n",
      "Low: 14.5130182073 \n",
      "High: 15.5919677871\n"
     ]
    }
   ],
   "source": [
    "# bootstrap 5000 samples instead of only 1174  \n",
    "CIs = bootstrap.ci(df_[['Age', 'Survived']], scipy.mean, n_samples=5000)  \n",
    "\n",
    "print (\"Bootstrapped 95% confidence interval with 5,000 samples\\nLow:\",  CIs[0], \"\\nHigh:\", CIs[1])\n",
    "\n",
    "\n"
   ]
  },
  {
   "cell_type": "code",
   "execution_count": 70,
   "metadata": {},
   "outputs": [
    {
     "name": "stderr",
     "output_type": "stream",
     "text": [
      "/Users/yliu/anaconda3/envs/zip_dev/lib/python3.5/site-packages/ipykernel_launcher.py:69: DeprecationWarning: \n",
      ".ix is deprecated. Please use\n",
      ".loc for label based indexing or\n",
      ".iloc for positional indexing\n",
      "\n",
      "See the documentation here:\n",
      "http://pandas.pydata.org/pandas-docs/stable/indexing.html#ix-indexer-is-deprecated\n",
      "/Users/yliu/anaconda3/envs/zip_dev/lib/python3.5/site-packages/ipykernel_launcher.py:107: DeprecationWarning: \n",
      ".ix is deprecated. Please use\n",
      ".loc for label based indexing or\n",
      ".iloc for positional indexing\n",
      "\n",
      "See the documentation here:\n",
      "http://pandas.pydata.org/pandas-docs/stable/indexing.html#ix-indexer-is-deprecated\n",
      "/Users/yliu/anaconda3/envs/zip_dev/lib/python3.5/site-packages/ipykernel_launcher.py:115: DeprecationWarning: \n",
      ".ix is deprecated. Please use\n",
      ".loc for label based indexing or\n",
      ".iloc for positional indexing\n",
      "\n",
      "See the documentation here:\n",
      "http://pandas.pydata.org/pandas-docs/stable/indexing.html#ix-indexer-is-deprecated\n"
     ]
    },
    {
     "name": "stdout",
     "output_type": "stream",
     "text": [
      "Observed difference between means: 2.28248959011\n",
      "Approximate 95% CI for the difference between means:\n",
      "-1.56344938156 to 6.38324598383\n"
     ]
    },
    {
     "data": {
      "image/png": "[encoded data removed]",
      "text/plain": [
       "<matplotlib.figure.Figure at 0x118fdb748>"
      ]
     },
     "metadata": {},
     "output_type": "display_data"
    }
   ],
   "source": [
    "bootstrap_ci_means(df_, 'Age', 'Survived', 5000)"
   ]
  },
  {
   "cell_type": "code",
   "execution_count": 72,
   "metadata": {},
   "outputs": [
    {
     "name": "stderr",
     "output_type": "stream",
     "text": [
      "/Users/yliu/anaconda3/envs/zip_dev/lib/python3.5/site-packages/ipykernel_launcher.py:69: DeprecationWarning: \n",
      ".ix is deprecated. Please use\n",
      ".loc for label based indexing or\n",
      ".iloc for positional indexing\n",
      "\n",
      "See the documentation here:\n",
      "http://pandas.pydata.org/pandas-docs/stable/indexing.html#ix-indexer-is-deprecated\n",
      "/Users/yliu/anaconda3/envs/zip_dev/lib/python3.5/site-packages/ipykernel_launcher.py:107: DeprecationWarning: \n",
      ".ix is deprecated. Please use\n",
      ".loc for label based indexing or\n",
      ".iloc for positional indexing\n",
      "\n",
      "See the documentation here:\n",
      "http://pandas.pydata.org/pandas-docs/stable/indexing.html#ix-indexer-is-deprecated\n",
      "/Users/yliu/anaconda3/envs/zip_dev/lib/python3.5/site-packages/ipykernel_launcher.py:115: DeprecationWarning: \n",
      ".ix is deprecated. Please use\n",
      ".loc for label based indexing or\n",
      ".iloc for positional indexing\n",
      "\n",
      "See the documentation here:\n",
      "http://pandas.pydata.org/pandas-docs/stable/indexing.html#ix-indexer-is-deprecated\n"
     ]
    },
    {
     "name": "stdout",
     "output_type": "stream",
     "text": [
      "Observed difference between means: 2.28248959011\n",
      "Approximate 95% CI for the difference between means:\n",
      "-1.51827737087 to 6.43301059337\n"
     ]
    },
    {
     "data": {
      "image/png": "[encoded data removed]",
      "text/plain": [
       "<matplotlib.figure.Figure at 0x118672588>"
      ]
     },
     "metadata": {},
     "output_type": "display_data"
    }
   ],
   "source": [
    "bootstrap_ci_means(df_, 'Age', 'Survived', 5000)"
   ]
  },
  {
   "cell_type": "code",
   "execution_count": null,
   "metadata": {},
   "outputs": [],
   "source": []
  },
  {
   "cell_type": "code",
   "execution_count": null,
   "metadata": {},
   "outputs": [],
   "source": []
  },
  {
   "cell_type": "code",
   "execution_count": null,
   "metadata": {},
   "outputs": [],
   "source": []
  },
  {
   "cell_type": "code",
   "execution_count": null,
   "metadata": {},
   "outputs": [],
   "source": []
  },
  {
   "cell_type": "code",
   "execution_count": null,
   "metadata": {},
   "outputs": [],
   "source": []
  },
  {
   "cell_type": "code",
   "execution_count": 71,
   "metadata": {},
   "outputs": [
    {
     "data": {
      "text/html": [
       "<div>\n",
       "<style scoped>\n",
       "    .dataframe tbody tr th:only-of-type {\n",
       "        vertical-align: middle;\n",
       "    }\n",
       "\n",
       "    .dataframe tbody tr th {\n",
       "        vertical-align: top;\n",
       "    }\n",
       "\n",
       "    .dataframe thead th {\n",
       "        text-align: right;\n",
       "    }\n",
       "</style>\n",
       "<table border=\"1\" class=\"dataframe\">\n",
       "  <thead>\n",
       "    <tr style=\"text-align: right;\">\n",
       "      <th></th>\n",
       "      <th>PassengerId</th>\n",
       "      <th>Survived</th>\n",
       "      <th>Pclass</th>\n",
       "      <th>Name</th>\n",
       "      <th>Sex</th>\n",
       "      <th>Age</th>\n",
       "      <th>SibSp</th>\n",
       "      <th>Parch</th>\n",
       "      <th>Ticket</th>\n",
       "      <th>Fare</th>\n",
       "      <th>Cabin</th>\n",
       "      <th>Embarked</th>\n",
       "    </tr>\n",
       "  </thead>\n",
       "  <tbody>\n",
       "    <tr>\n",
       "      <th>0</th>\n",
       "      <td>1</td>\n",
       "      <td>0</td>\n",
       "      <td>3</td>\n",
       "      <td>Braund, Mr. Owen Harris</td>\n",
       "      <td>male</td>\n",
       "      <td>22.0</td>\n",
       "      <td>1</td>\n",
       "      <td>0</td>\n",
       "      <td>A/5 21171</td>\n",
       "      <td>7.2500</td>\n",
       "      <td>NaN</td>\n",
       "      <td>S</td>\n",
       "    </tr>\n",
       "    <tr>\n",
       "      <th>1</th>\n",
       "      <td>2</td>\n",
       "      <td>1</td>\n",
       "      <td>1</td>\n",
       "      <td>Cumings, Mrs. John Bradley (Florence Briggs Th...</td>\n",
       "      <td>female</td>\n",
       "      <td>38.0</td>\n",
       "      <td>1</td>\n",
       "      <td>0</td>\n",
       "      <td>PC 17599</td>\n",
       "      <td>71.2833</td>\n",
       "      <td>C85</td>\n",
       "      <td>C</td>\n",
       "    </tr>\n",
       "  </tbody>\n",
       "</table>\n",
       "</div>"
      ],
      "text/plain": [
       "   PassengerId  Survived  Pclass  \\\n",
       "0            1         0       3   \n",
       "1            2         1       1   \n",
       "\n",
       "                                                Name     Sex   Age  SibSp  \\\n",
       "0                            Braund, Mr. Owen Harris    male  22.0      1   \n",
       "1  Cumings, Mrs. John Bradley (Florence Briggs Th...  female  38.0      1   \n",
       "\n",
       "   Parch     Ticket     Fare Cabin Embarked  \n",
       "0      0  A/5 21171   7.2500   NaN        S  \n",
       "1      0   PC 17599  71.2833   C85        C  "
      ]
     },
     "execution_count": 71,
     "metadata": {},
     "output_type": "execute_result"
    }
   ],
   "source": [
    "df.head(2)"
   ]
  }
 ],
 "metadata": {
  "kernelspec": {
   "display_name": "Python 3",
   "language": "python",
   "name": "python3"
  },
  "language_info": {
   "codemirror_mode": {
    "name": "ipython",
    "version": 3
   },
   "file_extension": ".py",
   "mimetype": "text/x-python",
   "name": "python",
   "nbconvert_exporter": "python",
   "pygments_lexer": "ipython3",
   "version": "3.5.4"
  }
 },
 "nbformat": 4,
 "nbformat_minor": 2
}
