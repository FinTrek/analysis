{
 "cells": [
  {
   "cell_type": "markdown",
   "metadata": {},
   "source": [
    "## Intro :\n",
    "\n",
    "SVM (support vector machine) is a ***supervised*** learning algorithm that can be used both ***classification and regression***.\n",
    "\n",
    "Consider there is a ***p dimensional data set***, the SVM model is a way to seperate these points as good as possible by generate a ***p-1 dimensional hyper plane***. (choose the hyperplane so that the distance from it to the nearest data point on each side is maximized. )\n",
    "\n",
    "\n",
    "## Contents:\n",
    "\n",
    "In this nb, we will demo basic algorthm of SVM, model tuning, and SVM kernel \n",
    "\n",
    "- algorthm\n",
    "    - SVM.SVC (classification)\n",
    "    - SVM.SVR (regression)\n",
    "- Model tuning  : gamma / c\n",
    "- kernel : linear / RBF / polynomial \n",
    "\n",
    "\n",
    "\n",
    "\n"
   ]
  },
  {
   "cell_type": "code",
   "execution_count": 9,
   "metadata": {},
   "outputs": [
    {
     "name": "stdout",
     "output_type": "stream",
     "text": [
      "\n",
      "\n",
      "SVM demo :\n",
      "\n",
      "How SVM classify data via a optimal hyperplane \n",
      "that seperate data points and make the max margin\n",
      "\n",
      "\n",
      "\n"
     ]
    },
    {
     "data": {
      "image/png": "[encoded data removed]",
      "text/plain": [
       "<IPython.core.display.Image object>"
      ]
     },
     "execution_count": 9,
     "metadata": {},
     "output_type": "execute_result"
    }
   ],
   "source": [
    "# credit : \n",
    "from IPython.display import Image\n",
    "print (\"\"\"\n",
    "\n",
    "SVM demo :\n",
    "\n",
    "How SVM classify data via a optimal hyperplane \n",
    "that seperate data points and make the max margin\n",
    "\n",
    "\n",
    "\"\"\")\n",
    "Image(filename='svm.png')"
   ]
  },
  {
   "cell_type": "markdown",
   "metadata": {},
   "source": [
    "\n",
    "\n",
    "## Ref :\n",
    "- https://sadanand-singh.github.io/posts/svmpython/\n",
    "- https://sadanand-singh.github.io/posts/svmmodels/"
   ]
  },
  {
   "cell_type": "code",
   "execution_count": 10,
   "metadata": {},
   "outputs": [],
   "source": [
    "#cd analysis/ML_/doc/"
   ]
  },
  {
   "cell_type": "code",
   "execution_count": null,
   "metadata": {
    "collapsed": true
   },
   "outputs": [],
   "source": []
  },
  {
   "cell_type": "code",
   "execution_count": null,
   "metadata": {
    "collapsed": true
   },
   "outputs": [],
   "source": []
  },
  {
   "cell_type": "code",
   "execution_count": 1,
   "metadata": {},
   "outputs": [
    {
     "name": "stdout",
     "output_type": "stream",
     "text": [
      "Populating the interactive namespace from numpy and matplotlib\n"
     ]
    }
   ],
   "source": [
    "# analysis library\n",
    "import pandas as pd, numpy as np \n",
    "from scipy import stats \n",
    "import matplotlib.pyplot as plt\n",
    "%matplotlib inline\n",
    "%pylab inline\n",
    "\n",
    "# ML\n"
   ]
  },
  {
   "cell_type": "code",
   "execution_count": null,
   "metadata": {
    "collapsed": true
   },
   "outputs": [],
   "source": []
  },
  {
   "cell_type": "code",
   "execution_count": null,
   "metadata": {
    "collapsed": true
   },
   "outputs": [],
   "source": []
  },
  {
   "cell_type": "code",
   "execution_count": null,
   "metadata": {
    "collapsed": true
   },
   "outputs": [],
   "source": []
  }
 ],
 "metadata": {
  "kernelspec": {
   "display_name": "Python 3",
   "language": "python",
   "name": "python3"
  },
  "language_info": {
   "codemirror_mode": {
    "name": "ipython",
    "version": 3
   },
   "file_extension": ".py",
   "mimetype": "text/x-python",
   "name": "python",
   "nbconvert_exporter": "python",
   "pygments_lexer": "ipython3",
   "version": "3.4.5"
  }
 },
 "nbformat": 4,
 "nbformat_minor": 2
}
