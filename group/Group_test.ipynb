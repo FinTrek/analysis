{
 "cells": [
  {
   "cell_type": "code",
   "execution_count": 10,
   "metadata": {
    "collapsed": true
   },
   "outputs": [],
   "source": [
    "# load basics library \n",
    "\n",
    "import pandas as pd, numpy as np\n",
    "\n",
    "from pandasql import sqldf\n",
    "pysqldf = lambda q: sqldf(q, globals())"
   ]
  },
  {
   "cell_type": "markdown",
   "metadata": {},
   "source": [
    "### 1)  unique buy user"
   ]
  },
  {
   "cell_type": "code",
   "execution_count": 3,
   "metadata": {
    "collapsed": true
   },
   "outputs": [],
   "source": [
    "sql_1 =\"\"\"\n",
    "\n",
    "select count(distinct transaction.user_id)\n",
    "from transaction\n",
    "left join location\n",
    "on transaction.user_id = location.user_id\n",
    "where transaction.deal_id = '12345'\n",
    "and location.city = 'London'\n",
    "\n",
    "\"\"\""
   ]
  },
  {
   "cell_type": "markdown",
   "metadata": {},
   "source": [
    "### 2) more profitable deal"
   ]
  },
  {
   "cell_type": "code",
   "execution_count": 6,
   "metadata": {},
   "outputs": [
    {
     "name": "stdout",
     "output_type": "stream",
     "text": [
      "avg deal a :  0.005\n",
      "avg deal b : 0.000925925925925926\n"
     ]
    }
   ],
   "source": [
    "print ('avg deal a : ', 12*1000/(30*80*1000))\n",
    "print ('avg deal b :', 20*1000/(180*120*1000))"
   ]
  },
  {
   "cell_type": "code",
   "execution_count": 8,
   "metadata": {},
   "outputs": [
    {
     "name": "stdout",
     "output_type": "stream",
     "text": [
      "b is more profitable\n"
     ]
    }
   ],
   "source": [
    "print ('b is more profitable')"
   ]
  },
  {
   "cell_type": "markdown",
   "metadata": {},
   "source": [
    "### 3)  which employees are supervised by whom"
   ]
  },
  {
   "cell_type": "code",
   "execution_count": 11,
   "metadata": {
    "collapsed": true
   },
   "outputs": [],
   "source": [
    "df_employee = pd.DataFrame({'employee_id':[301,208,134],\n",
    "                            'employee_name': ['Oliver','Dianne','Paul'],\n",
    "                           'supervisor_employee_id':[134,101,884]})"
   ]
  },
  {
   "cell_type": "code",
   "execution_count": 42,
   "metadata": {},
   "outputs": [],
   "source": [
    "#df_employee"
   ]
  },
  {
   "cell_type": "code",
   "execution_count": 40,
   "metadata": {
    "collapsed": true
   },
   "outputs": [],
   "source": [
    "sql_4 =\"\"\"\n",
    "\n",
    "SELECT\n",
    "    a.employee_name as employee,\n",
    "    b.employee_name as supervisor_employee\n",
    "FROM\n",
    "    df_employee AS a,\n",
    "    df_employee AS b\n",
    "WHERE\n",
    "    a.employee_id = b.supervisor_employee_id\n",
    "       \n",
    "\n",
    "\"\"\"\n"
   ]
  },
  {
   "cell_type": "code",
   "execution_count": 41,
   "metadata": {},
   "outputs": [
    {
     "data": {
      "text/html": [
       "<div>\n",
       "<style>\n",
       "    .dataframe thead tr:only-child th {\n",
       "        text-align: right;\n",
       "    }\n",
       "\n",
       "    .dataframe thead th {\n",
       "        text-align: left;\n",
       "    }\n",
       "\n",
       "    .dataframe tbody tr th {\n",
       "        vertical-align: top;\n",
       "    }\n",
       "</style>\n",
       "<table border=\"1\" class=\"dataframe\">\n",
       "  <thead>\n",
       "    <tr style=\"text-align: right;\">\n",
       "      <th></th>\n",
       "      <th>employee</th>\n",
       "      <th>supervisor_employee</th>\n",
       "    </tr>\n",
       "  </thead>\n",
       "  <tbody>\n",
       "    <tr>\n",
       "      <th>0</th>\n",
       "      <td>Paul</td>\n",
       "      <td>Oliver</td>\n",
       "    </tr>\n",
       "  </tbody>\n",
       "</table>\n",
       "</div>"
      ],
      "text/plain": [
       "  employee supervisor_employee\n",
       "0     Paul              Oliver"
      ]
     },
     "execution_count": 41,
     "metadata": {},
     "output_type": "execute_result"
    }
   ],
   "source": [
    "pysqldf(sql_4)"
   ]
  },
  {
   "cell_type": "markdown",
   "metadata": {},
   "source": [
    "### 4) difference in FULL OUTER JOIN and RIGHT JOIN"
   ]
  },
  {
   "cell_type": "code",
   "execution_count": 44,
   "metadata": {
    "collapsed": true
   },
   "outputs": [],
   "source": [
    "full_outer_join = \"\"\"\n",
    "\n",
    "SELECT <select_list>\n",
    "FROM Table_A A\n",
    "FULL OUTER JOIN Table_B B\n",
    "ON A.Key = B.Key\n",
    "\n",
    "\"\"\"\n",
    "\n",
    "right_join = \"\"\"\n",
    "\n",
    "SELECT <select_list>\n",
    "FROM Table_A A\n",
    "RIGHT JOIN Table_B B\n",
    "ON A.Key = B.Key\n",
    "\n",
    "\n",
    "\"\"\""
   ]
  },
  {
   "cell_type": "markdown",
   "metadata": {},
   "source": [
    "- Full outer join :  \n",
    "\n",
    "    - Return all of the records from both tables (A,B)\n",
    "- Right join :\n",
    "\n",
    "    - Return return all of the records in the left table (table A) that have a matching record in the right table (table B)"
   ]
  },
  {
   "cell_type": "markdown",
   "metadata": {},
   "source": [
    "### 5) create table"
   ]
  },
  {
   "cell_type": "markdown",
   "metadata": {},
   "source": [
    "- INDEX1 : 101 - INTEGER\n",
    "- Since \n",
    "    -  Much effiencit \n",
    "    -  cost less memory \n",
    "    -  can change to bigint is large row counts "
   ]
  },
  {
   "cell_type": "markdown",
   "metadata": {},
   "source": [
    "### 6)"
   ]
  },
  {
   "cell_type": "markdown",
   "metadata": {},
   "source": [
    "The dashboard is an overview of operation numbers with sales metrics \n",
    "for monitor business and have a high-level sense of current status\n",
    "\n",
    "There are 2 main part of this dashboard:\n",
    "\n",
    "    - Filter : Left part of the view, can limit data with specific   \n",
    "               country, category... Can be single or multiple choises \n",
    "    - Metrics : \n",
    "        - Scatter plot : Unit sales amount VS unit price \n",
    "        - Time serices plot :  metrices amount in time serices form\n",
    "        - Demand Curve : Can know the tendency of general demands \n",
    "        - "
   ]
  },
  {
   "cell_type": "markdown",
   "metadata": {},
   "source": [
    "### 7)"
   ]
  },
  {
   "cell_type": "markdown",
   "metadata": {},
   "source": [
    "### 8) "
   ]
  },
  {
   "cell_type": "markdown",
   "metadata": {},
   "source": [
    "- Using 2 metrics :  \n",
    "    - buying amount (counts) \n",
    "    - buying types \n",
    "- Sample merchants maybe can be segemented as  : \n",
    "    1. Big firms \n",
    "    2. SMBs (small and medium business)\n",
    "    3. Individual\n",
    "    4. Government\n",
    "    5. Others"
   ]
  }
 ],
 "metadata": {
  "kernelspec": {
   "display_name": "Python 3",
   "language": "python",
   "name": "python3"
  },
  "language_info": {
   "codemirror_mode": {
    "name": "ipython",
    "version": 3
   },
   "file_extension": ".py",
   "mimetype": "text/x-python",
   "name": "python",
   "nbconvert_exporter": "python",
   "pygments_lexer": "ipython3",
   "version": "3.4.5"
  }
 },
 "nbformat": 4,
 "nbformat_minor": 2
}
