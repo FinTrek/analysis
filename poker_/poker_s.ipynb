{
 "cells": [
  {
   "cell_type": "code",
   "execution_count": 1,
   "metadata": {},
   "outputs": [
    {
     "name": "stdout",
     "output_type": "stream",
     "text": [
      "Populating the interactive namespace from numpy and matplotlib\n"
     ]
    }
   ],
   "source": [
    "# import analysis library\n",
    "import pandas as pd, numpy as np \n",
    "import seaborn  as sns\n",
    "import matplotlib.pyplot as plt\n",
    "%matplotlib inline\n",
    "%pylab inline\n",
    "plt.style.use('ggplot')\n",
    "\n",
    "from sklearn import linear_model"
   ]
  },
  {
   "attachments": {},
   "cell_type": "markdown",
   "metadata": {},
   "source": [
    "## Task 1"
   ]
  },
  {
   "cell_type": "code",
   "execution_count": 87,
   "metadata": {
    "collapsed": true
   },
   "outputs": [],
   "source": [
    "df_task1 = pd.read_excel('Task1.xlsx')"
   ]
  },
  {
   "cell_type": "code",
   "execution_count": 91,
   "metadata": {},
   "outputs": [],
   "source": [
    "df_task1 = df_task1.iloc[:,0:4]"
   ]
  },
  {
   "cell_type": "code",
   "execution_count": 94,
   "metadata": {},
   "outputs": [
    {
     "data": {
      "text/plain": [
       "Ofu              27279\n",
       "Aunuu            20113\n",
       "Tau              17632\n",
       "Olosega          15835\n",
       "Rose Atoll       14740\n",
       "Swains Island    12918\n",
       "Name: Country, dtype: int64"
      ]
     },
     "execution_count": 94,
     "metadata": {},
     "output_type": "execute_result"
    }
   ],
   "source": [
    "df_task1.Country.value_counts()"
   ]
  },
  {
   "cell_type": "code",
   "execution_count": 102,
   "metadata": {},
   "outputs": [
    {
     "data": {
      "text/html": [
       "<div>\n",
       "<style>\n",
       "    .dataframe thead tr:only-child th {\n",
       "        text-align: right;\n",
       "    }\n",
       "\n",
       "    .dataframe thead th {\n",
       "        text-align: left;\n",
       "    }\n",
       "\n",
       "    .dataframe tbody tr th {\n",
       "        vertical-align: top;\n",
       "    }\n",
       "</style>\n",
       "<table border=\"1\" class=\"dataframe\">\n",
       "  <thead>\n",
       "    <tr style=\"text-align: right;\">\n",
       "      <th>Country</th>\n",
       "      <th>Aunuu</th>\n",
       "      <th>Ofu</th>\n",
       "      <th>Olosega</th>\n",
       "      <th>Rose Atoll</th>\n",
       "      <th>Swains Island</th>\n",
       "      <th>Tau</th>\n",
       "    </tr>\n",
       "    <tr>\n",
       "      <th>Group</th>\n",
       "      <th></th>\n",
       "      <th></th>\n",
       "      <th></th>\n",
       "      <th></th>\n",
       "      <th></th>\n",
       "      <th></th>\n",
       "    </tr>\n",
       "  </thead>\n",
       "  <tbody>\n",
       "    <tr>\n",
       "      <th>1</th>\n",
       "      <td>2.375975e+07</td>\n",
       "      <td>4.215286e+07</td>\n",
       "      <td>1.621295e+07</td>\n",
       "      <td>1.808102e+07</td>\n",
       "      <td>2.201747e+07</td>\n",
       "      <td>3.571487e+07</td>\n",
       "    </tr>\n",
       "    <tr>\n",
       "      <th>2</th>\n",
       "      <td>2.669774e+07</td>\n",
       "      <td>3.595718e+07</td>\n",
       "      <td>1.281764e+07</td>\n",
       "      <td>1.700439e+07</td>\n",
       "      <td>1.920122e+07</td>\n",
       "      <td>3.146137e+07</td>\n",
       "    </tr>\n",
       "    <tr>\n",
       "      <th>3</th>\n",
       "      <td>2.951242e+07</td>\n",
       "      <td>4.144794e+07</td>\n",
       "      <td>1.325083e+07</td>\n",
       "      <td>1.684552e+07</td>\n",
       "      <td>2.009137e+07</td>\n",
       "      <td>3.832759e+07</td>\n",
       "    </tr>\n",
       "    <tr>\n",
       "      <th>4</th>\n",
       "      <td>2.426316e+07</td>\n",
       "      <td>3.527395e+07</td>\n",
       "      <td>1.248854e+07</td>\n",
       "      <td>1.638039e+07</td>\n",
       "      <td>2.139589e+07</td>\n",
       "      <td>3.146947e+07</td>\n",
       "    </tr>\n",
       "    <tr>\n",
       "      <th>5</th>\n",
       "      <td>2.200553e+07</td>\n",
       "      <td>4.008657e+07</td>\n",
       "      <td>1.157133e+07</td>\n",
       "      <td>1.473324e+07</td>\n",
       "      <td>1.321437e+07</td>\n",
       "      <td>3.327539e+07</td>\n",
       "    </tr>\n",
       "  </tbody>\n",
       "</table>\n",
       "</div>"
      ],
      "text/plain": [
       "Country         Aunuu           Ofu       Olosega    Rose Atoll  \\\n",
       "Group                                                             \n",
       "1        2.375975e+07  4.215286e+07  1.621295e+07  1.808102e+07   \n",
       "2        2.669774e+07  3.595718e+07  1.281764e+07  1.700439e+07   \n",
       "3        2.951242e+07  4.144794e+07  1.325083e+07  1.684552e+07   \n",
       "4        2.426316e+07  3.527395e+07  1.248854e+07  1.638039e+07   \n",
       "5        2.200553e+07  4.008657e+07  1.157133e+07  1.473324e+07   \n",
       "\n",
       "Country  Swains Island           Tau  \n",
       "Group                                 \n",
       "1         2.201747e+07  3.571487e+07  \n",
       "2         1.920122e+07  3.146137e+07  \n",
       "3         2.009137e+07  3.832759e+07  \n",
       "4         2.139589e+07  3.146947e+07  \n",
       "5         1.321437e+07  3.327539e+07  "
      ]
     },
     "execution_count": 102,
     "metadata": {},
     "output_type": "execute_result"
    }
   ],
   "source": [
    "df1_pivot= pd.pivot_table(df_task1, \n",
    "               columns='Country',\n",
    "               index='Group',\n",
    "               values='Activity',\n",
    "               aggfunc=sum)\n",
    "df1_pivot"
   ]
  },
  {
   "cell_type": "code",
   "execution_count": 127,
   "metadata": {},
   "outputs": [
    {
     "data": {
      "text/plain": [
       "([<matplotlib.axis.XTick at 0x10bdc1748>,\n",
       "  <matplotlib.axis.XTick at 0x10b5e6be0>,\n",
       "  <matplotlib.axis.XTick at 0x10f277e80>,\n",
       "  <matplotlib.axis.XTick at 0x10f2659e8>,\n",
       "  <matplotlib.axis.XTick at 0x10f289518>],\n",
       " <a list of 5 Text xticklabel objects>)"
      ]
     },
     "execution_count": 127,
     "metadata": {},
     "output_type": "execute_result"
    },
    {
     "data": {
      "image/png": "[encoded data removed]",
      "text/plain": [
       "<matplotlib.figure.Figure at 0x10ee40f98>"
      ]
     },
     "metadata": {},
     "output_type": "display_data"
    }
   ],
   "source": [
    "new_ticks = np.arange(1,6)\n",
    "df1_pivot.plot()\n",
    "plt.xticks(new_ticks)"
   ]
  },
  {
   "cell_type": "code",
   "execution_count": 93,
   "metadata": {
    "scrolled": true
   },
   "outputs": [
    {
     "data": {
      "text/html": [
       "<div>\n",
       "<style>\n",
       "    .dataframe thead tr:only-child th {\n",
       "        text-align: right;\n",
       "    }\n",
       "\n",
       "    .dataframe thead th {\n",
       "        text-align: left;\n",
       "    }\n",
       "\n",
       "    .dataframe tbody tr th {\n",
       "        vertical-align: top;\n",
       "    }\n",
       "</style>\n",
       "<table border=\"1\" class=\"dataframe\">\n",
       "  <thead>\n",
       "    <tr style=\"text-align: right;\">\n",
       "      <th></th>\n",
       "      <th>PlayerID</th>\n",
       "      <th>Activity</th>\n",
       "    </tr>\n",
       "    <tr>\n",
       "      <th>Group</th>\n",
       "      <th></th>\n",
       "      <th></th>\n",
       "    </tr>\n",
       "  </thead>\n",
       "  <tbody>\n",
       "    <tr>\n",
       "      <th>1</th>\n",
       "      <td>1590112960</td>\n",
       "      <td>1.579389e+08</td>\n",
       "    </tr>\n",
       "    <tr>\n",
       "      <th>2</th>\n",
       "      <td>1558904421</td>\n",
       "      <td>1.431395e+08</td>\n",
       "    </tr>\n",
       "    <tr>\n",
       "      <th>3</th>\n",
       "      <td>1559523965</td>\n",
       "      <td>1.594757e+08</td>\n",
       "    </tr>\n",
       "    <tr>\n",
       "      <th>4</th>\n",
       "      <td>1562511376</td>\n",
       "      <td>1.412714e+08</td>\n",
       "    </tr>\n",
       "    <tr>\n",
       "      <th>5</th>\n",
       "      <td>1560183827</td>\n",
       "      <td>1.348864e+08</td>\n",
       "    </tr>\n",
       "  </tbody>\n",
       "</table>\n",
       "</div>"
      ],
      "text/plain": [
       "         PlayerID      Activity\n",
       "Group                          \n",
       "1      1590112960  1.579389e+08\n",
       "2      1558904421  1.431395e+08\n",
       "3      1559523965  1.594757e+08\n",
       "4      1562511376  1.412714e+08\n",
       "5      1560183827  1.348864e+08"
      ]
     },
     "execution_count": 93,
     "metadata": {},
     "output_type": "execute_result"
    }
   ],
   "source": [
    "df_task1.groupby('Group').sum()"
   ]
  },
  {
   "cell_type": "code",
   "execution_count": 114,
   "metadata": {},
   "outputs": [
    {
     "data": {
      "text/plain": [
       "array([1, 2, 3, 4, 5])"
      ]
     },
     "execution_count": 114,
     "metadata": {},
     "output_type": "execute_result"
    }
   ],
   "source": [
    "np.arange(1,6)"
   ]
  },
  {
   "cell_type": "code",
   "execution_count": null,
   "metadata": {
    "collapsed": true
   },
   "outputs": [],
   "source": []
  },
  {
   "cell_type": "code",
   "execution_count": null,
   "metadata": {
    "collapsed": true
   },
   "outputs": [],
   "source": []
  },
  {
   "cell_type": "markdown",
   "metadata": {},
   "source": [
    "## Task 2"
   ]
  },
  {
   "cell_type": "code",
   "execution_count": 70,
   "metadata": {},
   "outputs": [],
   "source": [
    "df_display = pd.read_excel('Task2.xlsx',sheetname=0)"
   ]
  },
  {
   "cell_type": "code",
   "execution_count": 71,
   "metadata": {
    "collapsed": true
   },
   "outputs": [],
   "source": [
    "df_promotions = pd.read_excel('Task2.xlsx',sheetname=1)"
   ]
  },
  {
   "cell_type": "code",
   "execution_count": 73,
   "metadata": {
    "collapsed": true
   },
   "outputs": [],
   "source": [
    "df_merge = df_display.merge(df_promotions, on='Date')\n",
    "df_merge = df_merge.fillna('NA')"
   ]
  },
  {
   "cell_type": "code",
   "execution_count": 74,
   "metadata": {
    "collapsed": true
   },
   "outputs": [],
   "source": [
    "def weekday(x):\n",
    "    if x== 0:\n",
    "        return 'Monday'\n",
    "    if x== 1 :\n",
    "        return 'Tuesday'\n",
    "    if x== 2 :\n",
    "        return 'Wednesday'\n",
    "    if x== 3 :\n",
    "        return 'Thursday'\n",
    "    if x== 4 :\n",
    "        return 'Friday'\n",
    "    if x== 5 :\n",
    "        return 'Saturday'\n",
    "    if x== 6 :\n",
    "        return 'Sunday'\n"
   ]
  },
  {
   "cell_type": "code",
   "execution_count": 75,
   "metadata": {
    "collapsed": true
   },
   "outputs": [],
   "source": [
    "# The day of the week with Monday=0, Sunday=6\n",
    "\n",
    "df_merge.loc[:, 'weekday'] = df_merge['Date'].dt.weekday\n",
    "df_merge.loc[:, 'weekday_'] = df_merge['weekday'].map(lambda x: weekday(x) )\n"
   ]
  },
  {
   "cell_type": "code",
   "execution_count": 129,
   "metadata": {
    "collapsed": true
   },
   "outputs": [],
   "source": [
    "from sklearn.linear_model import LinearRegression\n",
    "\n",
    "def linear_model(playercount,df,Promo,weekday):\n",
    "    df_ = df.copy()\n",
    "    df__ = df_[(df_.Promo ==Promo)&(df_.weekday_ ==weekday)]\n",
    "    # aggregrate data \n",
    "    df__ = df__.groupby('Date').agg({'Playerid':'count', 'Revenue': 'sum'}).reset_index()\n",
    "    df__.columns = ['date', 'players','revenue']\n",
    "    # train with linear model  \n",
    "    regr = LinearRegression()\n",
    "    regr.fit(df__.iloc[:,1:2].values,df__.iloc[:,2:3].values)\n",
    "    print (regr)\n",
    "    # predict with linear model  \n",
    "    predict = regr.predict(playercount)\n",
    "    return predict\n",
    "      "
   ]
  },
  {
   "cell_type": "code",
   "execution_count": 134,
   "metadata": {},
   "outputs": [
    {
     "name": "stdout",
     "output_type": "stream",
     "text": [
      "LinearRegression(copy_X=True, fit_intercept=True, n_jobs=1, normalize=False)\n"
     ]
    },
    {
     "data": {
      "text/plain": [
       "array([[ 554.65270593]])"
      ]
     },
     "execution_count": 134,
     "metadata": {},
     "output_type": "execute_result"
    }
   ],
   "source": [
    "linear_model(3000,df_merge,'NA','Monday')"
   ]
  },
  {
   "cell_type": "code",
   "execution_count": 135,
   "metadata": {},
   "outputs": [
    {
     "name": "stdout",
     "output_type": "stream",
     "text": [
      "LinearRegression(copy_X=True, fit_intercept=True, n_jobs=1, normalize=False)\n"
     ]
    },
    {
     "data": {
      "text/plain": [
       "array([[ 807.61673678]])"
      ]
     },
     "execution_count": 135,
     "metadata": {},
     "output_type": "execute_result"
    }
   ],
   "source": [
    "linear_model(4000,df_merge,'A','Tuesday')"
   ]
  },
  {
   "cell_type": "code",
   "execution_count": 136,
   "metadata": {},
   "outputs": [
    {
     "name": "stdout",
     "output_type": "stream",
     "text": [
      "LinearRegression(copy_X=True, fit_intercept=True, n_jobs=1, normalize=False)\n"
     ]
    },
    {
     "data": {
      "text/plain": [
       "array([[ 700.8955393]])"
      ]
     },
     "execution_count": 136,
     "metadata": {},
     "output_type": "execute_result"
    }
   ],
   "source": [
    "linear_model(6000,df_merge,'A','Wednesday')"
   ]
  },
  {
   "cell_type": "code",
   "execution_count": 137,
   "metadata": {},
   "outputs": [
    {
     "name": "stdout",
     "output_type": "stream",
     "text": [
      "LinearRegression(copy_X=True, fit_intercept=True, n_jobs=1, normalize=False)\n"
     ]
    },
    {
     "data": {
      "text/plain": [
       "array([[ 945.28668844]])"
      ]
     },
     "execution_count": 137,
     "metadata": {},
     "output_type": "execute_result"
    }
   ],
   "source": [
    "linear_model(5000,df_merge,'B','Thursday')"
   ]
  },
  {
   "cell_type": "code",
   "execution_count": 132,
   "metadata": {},
   "outputs": [
    {
     "name": "stdout",
     "output_type": "stream",
     "text": [
      "LinearRegression(copy_X=True, fit_intercept=True, n_jobs=1, normalize=False)\n"
     ]
    },
    {
     "data": {
      "text/plain": [
       "array([[ 1243.2655368]])"
      ]
     },
     "execution_count": 132,
     "metadata": {},
     "output_type": "execute_result"
    }
   ],
   "source": [
    "linear_model(6000,df_merge,'A','Friday')"
   ]
  },
  {
   "cell_type": "code",
   "execution_count": 138,
   "metadata": {},
   "outputs": [
    {
     "name": "stdout",
     "output_type": "stream",
     "text": [
      "LinearRegression(copy_X=True, fit_intercept=True, n_jobs=1, normalize=False)\n"
     ]
    },
    {
     "data": {
      "text/plain": [
       "array([[ 1277.17164676]])"
      ]
     },
     "execution_count": 138,
     "metadata": {},
     "output_type": "execute_result"
    }
   ],
   "source": [
    "linear_model(6000,df_merge,'B','Saturday')"
   ]
  },
  {
   "cell_type": "code",
   "execution_count": 139,
   "metadata": {},
   "outputs": [
    {
     "name": "stdout",
     "output_type": "stream",
     "text": [
      "LinearRegression(copy_X=True, fit_intercept=True, n_jobs=1, normalize=False)\n"
     ]
    },
    {
     "data": {
      "text/plain": [
       "array([[ 1188.16020712]])"
      ]
     },
     "execution_count": 139,
     "metadata": {},
     "output_type": "execute_result"
    }
   ],
   "source": [
    "linear_model(7000,df_merge,'NA','Sunday')"
   ]
  },
  {
   "cell_type": "code",
   "execution_count": 85,
   "metadata": {},
   "outputs": [
    {
     "data": {
      "text/plain": [
       "\"\\ndf_x = df_merge[(df_merge.Promo =='A')\\n         &(df_merge.weekday_ =='Tuesday')]\\n\\ndf_x_ = df_x.groupby('Date').agg({'Playerid':'count', 'Revenue': 'sum'}).reset_index()\\n\\ndf_x_.columns = ['date', 'players','revenue']\\ndf_x_\\n\""
      ]
     },
     "execution_count": 85,
     "metadata": {},
     "output_type": "execute_result"
    }
   ],
   "source": [
    "\"\"\"\n",
    "df_x = df_merge[(df_merge.Promo =='A')\n",
    "         &(df_merge.weekday_ =='Tuesday')]\n",
    "\n",
    "df_x_ = df_x.groupby('Date').agg({'Playerid':'count', 'Revenue': 'sum'}).reset_index()\n",
    "\n",
    "df_x_.columns = ['date', 'players','revenue']\n",
    "df_x_\n",
    "\"\"\""
   ]
  },
  {
   "cell_type": "code",
   "execution_count": 86,
   "metadata": {},
   "outputs": [],
   "source": [
    "#regr.predict(23423)"
   ]
  },
  {
   "cell_type": "markdown",
   "metadata": {},
   "source": [
    "## Task 3"
   ]
  },
  {
   "cell_type": "markdown",
   "metadata": {},
   "source": [
    "VIP is the most value users to company, can use folllowing metrics \n",
    "target/seperate them from mass players.\n",
    "\n",
    "-Metrics\n",
    "    - Profit\n",
    "        - Total pay amounts \n",
    "        - Total buy credits \n",
    "    - Recency\n",
    "        - When user last pay \n",
    "        - When user last buy credits\n",
    "        - When user last login\n",
    "        - When user last open the APP\n",
    "    - Frequency\n",
    "        - How often user pay \n",
    "        - How often user buy credits\n",
    "        - How often user login\n",
    "        - How often user open the APP\n",
    "    - Others \n",
    "        - Top weekly pay users \n",
    "        - User who bought some very expensive credicts/products \n",
    "        \n",
    "- Data Prepare \n",
    "    - Profit : \n",
    "    Create user profile table, update total pay/buy amount \n",
    "    for every users every period \n",
    "    - Recency :\n",
    "    Create user log table, tracking all user events: pay/buy/login/open APP\n",
    "    - Frequency : Using SQL, query user log table above, can get the needed values\n",
    "    \n",
    "- Approach \n",
    "    - Using classfication models like KNN/Kmeans get factors from similar users then doiing further classifications "
   ]
  }
 ],
 "metadata": {
  "kernelspec": {
   "display_name": "Python 3",
   "language": "python",
   "name": "python3"
  },
  "language_info": {
   "codemirror_mode": {
    "name": "ipython",
    "version": 3
   },
   "file_extension": ".py",
   "mimetype": "text/x-python",
   "name": "python",
   "nbconvert_exporter": "python",
   "pygments_lexer": "ipython3",
   "version": "3.4.5"
  }
 },
 "nbformat": 4,
 "nbformat_minor": 2
}
